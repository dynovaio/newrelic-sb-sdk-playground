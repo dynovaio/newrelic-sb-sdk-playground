{
 "cells": [
  {
   "attachments": {},
   "cell_type": "markdown",
   "id": "d372dc42-7678-48b4-95dc-bfbe9ff9a1d2",
   "metadata": {},
   "source": [
    "<div style=\"display:flex;\">\n",
    "<img alt=\"New Relic\" style=\"display:block;height:64px\" src=\"https://gitlab.com/softbutterfly/open-source/open-source-office/-/raw/master/banners/borderless/brands/new_relic.png\" />\n",
    "<img alt=\"SoftButterfly\" style=\"display:block;height:64px;margin-left:auto\" src=\"https://gitlab.com/softbutterfly/open-source/open-source-office/-/raw/master/banners/borderless/softbutterfly.png\" />\n",
    "</div>"
   ]
  },
  {
   "attachments": {},
   "cell_type": "markdown",
   "id": "614fa965-b8b7-4e38-92f0-0927ecb53bb0",
   "metadata": {},
   "source": [
    "# New Relic Playground"
   ]
  },
  {
   "attachments": {},
   "cell_type": "markdown",
   "id": "33c8ad3e-1f13-4aa6-9b8d-e24ebf100e09",
   "metadata": {},
   "source": [
    "## Imports"
   ]
  },
  {
   "attachments": {},
   "cell_type": "markdown",
   "id": "5621a06f-4a7d-47c0-bbab-2a2889b8e4d5",
   "metadata": {},
   "source": [
    "Python Imports"
   ]
  },
  {
   "cell_type": "code",
   "execution_count": null,
   "id": "18a35a7a-406b-4727-bc31-bc45d46f4dfb",
   "metadata": {
    "tags": []
   },
   "outputs": [],
   "source": [
    "import os"
   ]
  },
  {
   "attachments": {},
   "cell_type": "markdown",
   "id": "c6cd0397-3793-41b8-976c-e967025ac741",
   "metadata": {},
   "source": [
    "Third-party libraries"
   ]
  },
  {
   "cell_type": "code",
   "execution_count": null,
   "id": "aa727d86-43a0-48f4-8992-bd00a1c9d4fb",
   "metadata": {
    "tags": []
   },
   "outputs": [],
   "source": [
    "import dotenv\n",
    "import requests\n",
    "from newrelic_sb_sdk.client import NewRelicGqlClient\n",
    "from newrelic_sb_sdk.utils.query import NULL_CURSOR\n",
    "from newrelic_sb_sdk.utils.response import get_response_data, print_response"
   ]
  },
  {
   "attachments": {},
   "cell_type": "markdown",
   "id": "beb1edbf-adaf-488c-bf5b-b84ce28ced41",
   "metadata": {
    "tags": []
   },
   "source": [
    "## Client setup"
   ]
  },
  {
   "attachments": {},
   "cell_type": "markdown",
   "id": "d4a8f754-2c5b-4f87-8a4a-5d2e2de92fd6",
   "metadata": {},
   "source": [
    "Load credentials"
   ]
  },
  {
   "cell_type": "code",
   "execution_count": null,
   "id": "b02b6aab-5188-42a0-818c-fd616094c844",
   "metadata": {
    "tags": []
   },
   "outputs": [],
   "source": [
    "env_file = \"../.env\"\n",
    "\n",
    "dotenv.load_dotenv(env_file)\n",
    "\n",
    "NEW_RELIC_USER_KEY = os.environ.get(\"NEW_RELIC_USER_KEY\", None)\n",
    "NEW_RELIC_ACCOUNT_ID = os.environ.get(\"NEW_RELIC_ACCOUNT_ID\", None)\n",
    "\n",
    "if NEW_RELIC_USER_KEY is None:\n",
    "    raise ValueError(\"Environment variable NEW_RELIC_USER_KEY is not set.\")\n",
    "\n",
    "if NEW_RELIC_ACCOUNT_ID is None:\n",
    "    raise ValueError(\"Environment variable NEW_RELIC_ACCOUNT_ID is not set.\")"
   ]
  },
  {
   "attachments": {},
   "cell_type": "markdown",
   "id": "15e4625c-efd2-46fa-8852-739a7dec4751",
   "metadata": {},
   "source": [
    "Client instantiation"
   ]
  },
  {
   "cell_type": "code",
   "execution_count": null,
   "id": "492b6552-fa9f-46cc-9c4a-1819248237a0",
   "metadata": {
    "tags": []
   },
   "outputs": [],
   "source": [
    "newrelic = NewRelicGqlClient(new_relic_user_key=NEW_RELIC_USER_KEY)"
   ]
  },
  {
   "attachments": {},
   "cell_type": "markdown",
   "id": "d74a200f-bd53-4624-918c-31fd3b1588ac",
   "metadata": {},
   "source": [
    "Define test query"
   ]
  },
  {
   "cell_type": "code",
   "execution_count": null,
   "id": "35235588-e428-4c7a-acf1-09028fb700e7",
   "metadata": {
    "tags": []
   },
   "outputs": [],
   "source": [
    "query = newrelic.build_query(\n",
    "    \"\"\"\n",
    "        {\n",
    "            actor {\n",
    "                user {\n",
    "                    email\n",
    "                    name\n",
    "                    id\n",
    "                }\n",
    "            }\n",
    "        }\n",
    "    \"\"\",\n",
    "    {},\n",
    ")"
   ]
  },
  {
   "attachments": {},
   "cell_type": "markdown",
   "id": "b49b3c4e-2153-47ec-baa6-61660a828536",
   "metadata": {},
   "source": [
    "Executing query"
   ]
  },
  {
   "cell_type": "code",
   "execution_count": null,
   "id": "dc782628-5196-4248-aa4d-aa0c6cad433c",
   "metadata": {
    "tags": []
   },
   "outputs": [],
   "source": [
    "response = newrelic.execute(query)"
   ]
  },
  {
   "attachments": {},
   "cell_type": "markdown",
   "id": "c3e3b29e-53e8-4718-9b58-ab192a3191e6",
   "metadata": {},
   "source": [
    "Looking for response data"
   ]
  },
  {
   "cell_type": "code",
   "execution_count": null,
   "id": "7da0bfce-f28b-44b8-aeda-a27ac7ca1eea",
   "metadata": {
    "tags": []
   },
   "outputs": [],
   "source": [
    "print_response(response)"
   ]
  },
  {
   "attachments": {},
   "cell_type": "markdown",
   "id": "80d8317b-aaf7-4e4f-974d-46e39bf82407",
   "metadata": {},
   "source": [
    "## Playground area"
   ]
  },
  {
   "attachments": {},
   "cell_type": "markdown",
   "id": "838c9d87-03e7-4d45-8412-49ea69f7a644",
   "metadata": {},
   "source": [
    "### List all available dashboards"
   ]
  },
  {
   "cell_type": "code",
   "execution_count": null,
   "id": "001862bf-7adf-4531-9d1b-7477e7974405",
   "metadata": {},
   "outputs": [],
   "source": [
    "query_string = \"\"\"\n",
    "    {\n",
    "        actor {\n",
    "            entitySearch(\n",
    "                queryBuilder: {\n",
    "                    type: DASHBOARD\n",
    "                }\n",
    "            ) {\n",
    "                count\n",
    "                results(cursor: %(cursor)s) {\n",
    "                    nextCursor\n",
    "                    entities {\n",
    "                        ... on DashboardEntityOutline {\n",
    "                            guid\n",
    "                            name\n",
    "                            owner {\n",
    "                                email\n",
    "                                userId\n",
    "                            }\n",
    "                            indexedAt\n",
    "                            permissions\n",
    "                        }\n",
    "                    }\n",
    "                }\n",
    "            }\n",
    "        }\n",
    "    }\n",
    "\"\"\"\n",
    "\n",
    "query_params = {\n",
    "    \"cursor\": NULL_CURSOR,\n",
    "}\n",
    "\n",
    "query = newrelic.build_query(\n",
    "    query_string=query_string,\n",
    "    query_params=query_params,\n",
    ")"
   ]
  },
  {
   "cell_type": "code",
   "execution_count": null,
   "id": "dbc4f4e2-4841-48e9-8358-821bbb9cad32",
   "metadata": {
    "tags": []
   },
   "outputs": [],
   "source": [
    "response = newrelic.execute(query)"
   ]
  },
  {
   "cell_type": "code",
   "execution_count": null,
   "id": "140e8745-8b26-49a1-951b-2e8895b52b1b",
   "metadata": {
    "tags": []
   },
   "outputs": [],
   "source": [
    "dashboard_count = get_response_data(\n",
    "    response,\n",
    "    key_path=\"entitySearch:count\",\n",
    "    action=\"actor\",\n",
    ")\n",
    "dashboard_count"
   ]
  },
  {
   "cell_type": "code",
   "execution_count": null,
   "id": "23e47914-f720-41d9-af23-b15861d22821",
   "metadata": {
    "tags": []
   },
   "outputs": [],
   "source": [
    "dashboards_list = get_response_data(\n",
    "    response,\n",
    "    key_path=\"entitySearch:results:entities\",\n",
    "    action=\"actor\",\n",
    ")\n",
    "len(dashboards_list)"
   ]
  },
  {
   "cell_type": "code",
   "execution_count": null,
   "id": "3f7f8c67-5686-4511-9287-93980f3309a6",
   "metadata": {
    "tags": []
   },
   "outputs": [],
   "source": [
    "dashboards_list[0]"
   ]
  },
  {
   "cell_type": "code",
   "execution_count": null,
   "id": "a73c67ad-b7c8-46b6-b79a-d559af34f5aa",
   "metadata": {
    "tags": []
   },
   "outputs": [],
   "source": [
    "next_cursor = get_response_data(\n",
    "    response,\n",
    "    key_path=\"entitySearch:results:nextCursor\",\n",
    "    action=\"actor\",\n",
    ")\n",
    "next_cursor"
   ]
  },
  {
   "attachments": {},
   "cell_type": "markdown",
   "id": "96654a3b-4d98-43b6-b669-fa4a4db85a17",
   "metadata": {},
   "source": [
    "### Get a single dashboard"
   ]
  },
  {
   "cell_type": "code",
   "execution_count": null,
   "id": "8eb6c19d-239f-4379-a942-61bd07058c7a",
   "metadata": {
    "tags": []
   },
   "outputs": [],
   "source": [
    "dashboard_guid = dashboards_list[0][\"guid\"]"
   ]
  },
  {
   "cell_type": "code",
   "execution_count": null,
   "id": "7c863dfd-d650-405a-82de-ffa3c15b5f88",
   "metadata": {},
   "outputs": [],
   "source": [
    "query_string = \"\"\"\n",
    "{\n",
    "    actor {\n",
    "        entity(guid: %(guid)s) {\n",
    "            ... on DashboardEntity {\n",
    "                guid\n",
    "                name\n",
    "                owner {\n",
    "                    email\n",
    "                    userId\n",
    "                }\n",
    "                permissions\n",
    "                indexedAt\n",
    "            }\n",
    "        }\n",
    "    }\n",
    "}\n",
    "\"\"\"\n",
    "\n",
    "query_params = {\n",
    "    \"guid\": f'\"{dashboard_guid}\"',\n",
    "}\n",
    "\n",
    "query = newrelic.build_query(\n",
    "    query_string=query_string,\n",
    "    query_params=query_params,\n",
    ")"
   ]
  },
  {
   "cell_type": "code",
   "execution_count": null,
   "id": "1ae41cc3-66b6-4dc6-9fcc-26e9d146b023",
   "metadata": {
    "tags": []
   },
   "outputs": [],
   "source": [
    "response = newrelic.execute(query)"
   ]
  },
  {
   "cell_type": "code",
   "execution_count": null,
   "id": "35716159-69c7-4ff4-955c-63dbe5fe02f1",
   "metadata": {
    "tags": []
   },
   "outputs": [],
   "source": [
    "dashboard = get_response_data(\n",
    "    response,\n",
    "    key_path=\"entity\",\n",
    "    action=\"actor\",\n",
    ")\n",
    "dashboard"
   ]
  },
  {
   "attachments": {},
   "cell_type": "markdown",
   "id": "0b5be956-5df4-47a4-a70d-233f97138562",
   "metadata": {},
   "source": [
    "### Get a dashboard with pages"
   ]
  },
  {
   "cell_type": "code",
   "execution_count": null,
   "id": "b336841c-8066-4ef0-8489-af49fe7c4db3",
   "metadata": {
    "tags": []
   },
   "outputs": [],
   "source": [
    "dashboard_guid = dashboards_list[0][\"guid\"]"
   ]
  },
  {
   "cell_type": "code",
   "execution_count": null,
   "id": "e8e75004-bd94-4033-a728-7a0d6f594804",
   "metadata": {
    "tags": []
   },
   "outputs": [],
   "source": [
    "query_string = \"\"\"\n",
    "{\n",
    "    actor {\n",
    "        entity(guid: %(guid)s) {\n",
    "            ... on DashboardEntity {\n",
    "                guid\n",
    "                name\n",
    "                owner {\n",
    "                    email\n",
    "                    userId\n",
    "                }\n",
    "                permissions\n",
    "                indexedAt\n",
    "                pages {\n",
    "                    guid\n",
    "                    name\n",
    "                }\n",
    "            }\n",
    "        }\n",
    "    }\n",
    "}\n",
    "\"\"\"\n",
    "\n",
    "query_params = {\n",
    "    \"guid\": f'\"{dashboard_guid}\"',\n",
    "}\n",
    "\n",
    "query = newrelic.build_query(\n",
    "    query_string=query_string,\n",
    "    query_params=query_params,\n",
    ")"
   ]
  },
  {
   "cell_type": "code",
   "execution_count": null,
   "id": "7c426a7e-1eb9-42fb-942d-830832a2ddf8",
   "metadata": {
    "tags": []
   },
   "outputs": [],
   "source": [
    "response = newrelic.execute(query)"
   ]
  },
  {
   "cell_type": "code",
   "execution_count": null,
   "id": "89f9660d-fff3-4667-8661-7f7bc1a3a9cb",
   "metadata": {
    "tags": []
   },
   "outputs": [],
   "source": [
    "dashboard = get_response_data(\n",
    "    response,\n",
    "    key_path=\"entity\",\n",
    "    action=\"actor\",\n",
    ")\n",
    "dashboard"
   ]
  },
  {
   "attachments": {},
   "cell_type": "markdown",
   "id": "b2044531-f773-48aa-bc46-29ef8800464b",
   "metadata": {},
   "source": [
    "### Get a dashboard with pages and widget"
   ]
  },
  {
   "cell_type": "code",
   "execution_count": null,
   "id": "199b28b4-88a9-4085-a7e2-de9278be745f",
   "metadata": {
    "tags": []
   },
   "outputs": [],
   "source": [
    "dashboard_guid = dashboards_list[0][\"guid\"]"
   ]
  },
  {
   "cell_type": "code",
   "execution_count": null,
   "id": "2cba12fd-1da1-4873-94ac-c8c1eebeaf7e",
   "metadata": {
    "tags": []
   },
   "outputs": [],
   "source": [
    "query_string = \"\"\"\n",
    "{\n",
    "    actor {\n",
    "        entity(guid: %(guid)s) {\n",
    "            ... on DashboardEntity {\n",
    "                guid\n",
    "                name\n",
    "                owner {\n",
    "                    email\n",
    "                    userId\n",
    "                }\n",
    "                permissions\n",
    "                indexedAt\n",
    "                pages {\n",
    "                    guid\n",
    "                    name\n",
    "                    widgets {\n",
    "                        id\n",
    "                        rawConfiguration\n",
    "                        title\n",
    "                        visualization {\n",
    "                            id\n",
    "                        }\n",
    "                    }\n",
    "                }\n",
    "            }\n",
    "        }\n",
    "    }\n",
    "}\n",
    "\"\"\"\n",
    "\n",
    "query_params = {\n",
    "    \"guid\": f'\"{dashboard_guid}\"',\n",
    "}\n",
    "\n",
    "query = newrelic.build_query(\n",
    "    query_string=query_string,\n",
    "    query_params=query_params,\n",
    ")"
   ]
  },
  {
   "cell_type": "code",
   "execution_count": null,
   "id": "b11aff47-ba5d-4de3-99c1-26e3c684b83a",
   "metadata": {
    "tags": []
   },
   "outputs": [],
   "source": [
    "response = newrelic.execute(query)"
   ]
  },
  {
   "cell_type": "code",
   "execution_count": null,
   "id": "e538efa9-db4d-4793-bc20-5dfa6ea007b6",
   "metadata": {
    "tags": []
   },
   "outputs": [],
   "source": [
    "dashboard = get_response_data(\n",
    "    response,\n",
    "    key_path=\"entity\",\n",
    "    action=\"actor\",\n",
    ")\n",
    "dashboard.keys()"
   ]
  },
  {
   "cell_type": "code",
   "execution_count": null,
   "id": "626c1e27-8cc7-4a94-9e65-de622b583ef2",
   "metadata": {
    "tags": []
   },
   "outputs": [],
   "source": [
    "{key: value for key, value in dashboard.items() if key not in (\"pages\")}"
   ]
  },
  {
   "cell_type": "code",
   "execution_count": null,
   "id": "4f187671-ce99-483f-bd8d-d0dc3f988c94",
   "metadata": {
    "tags": []
   },
   "outputs": [],
   "source": [
    "dashboard_pages = dashboard[\"pages\"]\n",
    "len(dashboard_pages)"
   ]
  },
  {
   "cell_type": "code",
   "execution_count": null,
   "id": "63a182d3-ce13-4db4-b20a-9c2fde144d96",
   "metadata": {
    "tags": []
   },
   "outputs": [],
   "source": [
    "dashboard_page_0 = dashboard_pages[0]\n",
    "dashboard_page_0.keys()"
   ]
  },
  {
   "cell_type": "code",
   "execution_count": null,
   "id": "53659d1f-92d7-4669-be53-0f4c69343778",
   "metadata": {
    "tags": []
   },
   "outputs": [],
   "source": [
    "{key: value for key, value in dashboard_page_0.items() if key not in (\"widgets\")}"
   ]
  },
  {
   "cell_type": "code",
   "execution_count": null,
   "id": "35d71d64-501c-4503-9d8b-77d7dfe4f065",
   "metadata": {
    "tags": []
   },
   "outputs": [],
   "source": [
    "dashboard_page_0_widgets = dashboard_page_0[\"widgets\"]\n",
    "len(dashboard_page_0_widgets)"
   ]
  },
  {
   "cell_type": "code",
   "execution_count": null,
   "id": "2797f148-d2a8-4f72-bf47-b9fc7010a861",
   "metadata": {
    "tags": []
   },
   "outputs": [],
   "source": [
    "dashboard_page_0_widget_0 = dashboard_page_0_widgets[0]\n",
    "dashboard_page_0_widget_0"
   ]
  },
  {
   "attachments": {},
   "cell_type": "markdown",
   "id": "90ed3f20-e8e5-4761-987d-323b90a817f0",
   "metadata": {},
   "source": [
    "### Create a dashboard"
   ]
  },
  {
   "cell_type": "code",
   "execution_count": null,
   "id": "eeb0efe5-3722-4039-b68a-ec4afc8cf7a1",
   "metadata": {
    "tags": []
   },
   "outputs": [],
   "source": [
    "query_string = \"\"\"\n",
    "    mutation {\n",
    "        dashboardCreate(\n",
    "            accountId: %(account_id)d,\n",
    "            dashboard: {\n",
    "                name: \"Sample api dashboard\",\n",
    "                pages: {\n",
    "                    name: \"Sample api page\",\n",
    "                    widgets: {\n",
    "                        configuration: {\n",
    "                            markdown: {\n",
    "                                text: \"# Sample api widget\"\n",
    "                            }\n",
    "                        },\n",
    "                        title: \"\"\n",
    "                    }\n",
    "                },\n",
    "                permissions: PUBLIC_READ_WRITE\n",
    "            }\n",
    "        ) {\n",
    "            entityResult {\n",
    "                name\n",
    "                owner {\n",
    "                    email\n",
    "                    userId\n",
    "                }\n",
    "                guid\n",
    "            }\n",
    "            errors {\n",
    "                description\n",
    "                type\n",
    "            }\n",
    "        }\n",
    "    }\n",
    "\"\"\"\n",
    "\n",
    "query_params = {\n",
    "    \"account_id\": NEW_RELIC_ACCOUNT_ID,\n",
    "}\n",
    "\n",
    "query = newrelic.build_query(\n",
    "    query_string=query_string,\n",
    "    query_params=query_params,\n",
    ")"
   ]
  },
  {
   "cell_type": "code",
   "execution_count": null,
   "id": "dbdd786e-2ebd-4c54-95d7-408643633af6",
   "metadata": {
    "tags": []
   },
   "outputs": [],
   "source": [
    "response = newrelic.execute(query)"
   ]
  },
  {
   "cell_type": "code",
   "execution_count": null,
   "id": "5f0c517b-d112-45fb-af8b-85948f705f66",
   "metadata": {
    "tags": []
   },
   "outputs": [],
   "source": [
    "errors = get_response_data(\n",
    "    response,\n",
    "    key_path=\"errors\",\n",
    "    action=\"dashboardCreate\",\n",
    ")\n",
    "errors"
   ]
  },
  {
   "cell_type": "code",
   "execution_count": null,
   "id": "04643a57-0c20-4318-b29b-1045701d3660",
   "metadata": {
    "tags": []
   },
   "outputs": [],
   "source": [
    "created_dashboard = get_response_data(\n",
    "    response,\n",
    "    key_path=\"entityResult\",\n",
    "    action=\"dashboardCreate\",\n",
    ")\n",
    "created_dashboard"
   ]
  },
  {
   "attachments": {},
   "cell_type": "markdown",
   "id": "b9d45e54-53f3-40de-924b-909022c198a5",
   "metadata": {},
   "source": [
    "### Task: Create dashboard page snapshot"
   ]
  },
  {
   "attachments": {},
   "cell_type": "markdown",
   "id": "b10683dc-0575-44f5-a849-fbbc85d0bb91",
   "metadata": {},
   "source": [
    "Read the documentation carefully and create a snapshot of an existing dashboard"
   ]
  },
  {
   "cell_type": "code",
   "execution_count": null,
   "id": "e776793e-5ca8-4ff5-920a-f0cc39124029",
   "metadata": {},
   "outputs": [],
   "source": [
    "# Put your code here\n",
    "\n",
    "# Define your query template\n",
    "query_string = \"\"\"\n",
    "\"\"\"\n",
    "\n",
    "# Define your query parameters if necessary\n",
    "query_params = {}\n",
    "\n",
    "\n",
    "query = newrelic.build_query(\n",
    "    query_string=query_string,\n",
    "    query_params=query_params,\n",
    ")\n",
    "\n",
    "response = newrelic.execute(query)"
   ]
  },
  {
   "cell_type": "code",
   "execution_count": null,
   "id": "0b250c55-c07f-4db8-b44b-717c9a2f3b60",
   "metadata": {},
   "outputs": [],
   "source": [
    "# only interested on the dashboard url\n",
    "snapshot_url = get_response_data(\n",
    "    response,\n",
    "    action=\"dashboardCreateSnapshotUrl\",\n",
    ")\n",
    "print(snapshot_url)\n",
    "\n",
    "# replace PDF with PNG, and get the link to download the file\n",
    "url_png = snapshot_url[:-3] + \"PNG\"\n",
    "print(url_png)\n",
    "\n",
    "# rename the downloaded file, and save it in the working directory\n",
    "dashboard_response = requests.get(\n",
    "    url_png,\n",
    "    stream=True,\n",
    ")\n",
    "\n",
    "with open(\"dashboard_example.png\", \"wb\") as file_handler:\n",
    "    file_handler.write(dashboard_response.content)"
   ]
  }
 ],
 "metadata": {
  "kernelspec": {
   "display_name": "Python 3 (ipykernel)",
   "language": "python",
   "name": "python3"
  },
  "language_info": {
   "codemirror_mode": {
    "name": "ipython",
    "version": 3
   },
   "file_extension": ".py",
   "mimetype": "text/x-python",
   "name": "python",
   "nbconvert_exporter": "python",
   "pygments_lexer": "ipython3",
   "version": "3.9.16"
  },
  "toc-autonumbering": false
 },
 "nbformat": 4,
 "nbformat_minor": 5
}
