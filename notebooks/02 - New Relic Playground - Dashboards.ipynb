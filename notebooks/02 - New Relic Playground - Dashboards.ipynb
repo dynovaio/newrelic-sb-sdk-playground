{
 "cells": [
  {
   "attachments": {},
   "cell_type": "markdown",
   "id": "dc67a636-2565-4188-abaf-b86bd4545587",
   "metadata": {
    "tags": [
     "remove-cell"
    ]
   },
   "source": [
    "<div style=\"display:flex;\">\n",
    "<img alt=\"New Relic\" style=\"display:block;height:64px\" src=\"https://gitlab.com/softbutterfly/open-source/open-source-office/-/raw/master/banners/borderless/brands/new_relic.png\" />\n",
    "<img alt=\"SoftButterfly\" style=\"display:block;height:64px;margin-left:auto\" src=\"https://gitlab.com/softbutterfly/open-source/open-source-office/-/raw/master/banners/borderless/softbutterfly.png\" />\n",
    "</div>"
   ]
  },
  {
   "attachments": {},
   "cell_type": "markdown",
   "id": "3d3dd864-3aea-4888-9c86-d84a1259c5f7",
   "metadata": {},
   "source": [
    "# New Relic Playground 2: Dashboards"
   ]
  },
  {
   "attachments": {},
   "cell_type": "markdown",
   "id": "9869fbd5-a048-46ba-abc6-37ac4ec33c64",
   "metadata": {},
   "source": [
    "## Imports"
   ]
  },
  {
   "attachments": {},
   "cell_type": "markdown",
   "id": "cc140dd0-9781-433f-809d-ebd54d0aab81",
   "metadata": {},
   "source": [
    "Python Imports"
   ]
  },
  {
   "cell_type": "code",
   "execution_count": null,
   "id": "41ab9a1b-d4a2-4648-97e0-be4a59d3ee9a",
   "metadata": {
    "tags": []
   },
   "outputs": [],
   "source": [
    "import os"
   ]
  },
  {
   "attachments": {},
   "cell_type": "markdown",
   "id": "419cf7fb-96f9-489e-a401-170b7b54ea5a",
   "metadata": {},
   "source": [
    "Third-party libraries"
   ]
  },
  {
   "cell_type": "code",
   "execution_count": null,
   "id": "cdfd7ff1-b508-4365-9338-93d487934296",
   "metadata": {
    "tags": []
   },
   "outputs": [],
   "source": [
    "import dotenv\n",
    "import requests\n",
    "from newrelic_sb_sdk.client import NewRelicGqlClient\n",
    "from newrelic_sb_sdk.graphql import nerdgraph\n",
    "from newrelic_sb_sdk.graphql.enums import EntitySearchQueryBuilderType, DashboardEntityPermissions\n",
    "from newrelic_sb_sdk.graphql.input_objects import (\n",
    "    EntitySearchQueryBuilder,\n",
    "    DashboardInput,\n",
    "    DashboardPageInput,\n",
    "    DashboardWidgetInput,\n",
    "    DashboardWidgetConfigurationInput,\n",
    "    DashboardMarkdownWidgetConfigurationInput\n",
    ")\n",
    "from newrelic_sb_sdk.graphql.objects import (\n",
    "    DashboardEntity,\n",
    "    DashboardEntityOutline,\n",
    "    RootMutationType,\n",
    "    RootQueryType,\n",
    ")\n",
    "from newrelic_sb_sdk.utils.query import NULL_CURSOR\n",
    "from newrelic_sb_sdk.utils.response import get_response_data, print_response\n",
    "from sgqlc.operation import Operation"
   ]
  },
  {
   "attachments": {},
   "cell_type": "markdown",
   "id": "0235717d-b169-4a18-9fa8-3d1d866b674b",
   "metadata": {
    "tags": []
   },
   "source": [
    "## Client setup"
   ]
  },
  {
   "attachments": {},
   "cell_type": "markdown",
   "id": "45c35960-4436-45ca-abf2-501bb693d07b",
   "metadata": {},
   "source": [
    "To setup the client, first we need to open load the credentials from environment variables."
   ]
  },
  {
   "cell_type": "code",
   "execution_count": null,
   "id": "9188e5b8-b15a-4dcc-b8b8-8630f299fb36",
   "metadata": {
    "tags": []
   },
   "outputs": [],
   "source": [
    "env_file = \"../.env\"\n",
    "\n",
    "dotenv.load_dotenv(env_file)\n",
    "\n",
    "NEW_RELIC_USER_KEY = os.environ.get(\"NEW_RELIC_USER_KEY\", None)\n",
    "\n",
    "if NEW_RELIC_USER_KEY is None:\n",
    "    raise ValueError(\"Environment variable NEW_RELIC_USER_KEY is not set.\")\n",
    "\n",
    "NEW_RELIC_ACCOUNT_ID = os.environ.get(\"NEW_RELIC_ACCOUNT_ID\", None)\n",
    "\n",
    "if NEW_RELIC_ACCOUNT_ID is None:\n",
    "    raise ValueError(\"Environment variable NEW_RELIC_ACCOUNT_ID is not set.\")"
   ]
  },
  {
   "attachments": {},
   "cell_type": "markdown",
   "id": "b5da8b43-f7ae-46e5-a5b2-7ba6f1d693d3",
   "metadata": {},
   "source": [
    "With environment varaibles loaded, we can proceed to instantiate the client"
   ]
  },
  {
   "cell_type": "code",
   "execution_count": null,
   "id": "9d664b49-af15-4d34-96ed-110dac70fda7",
   "metadata": {
    "tags": []
   },
   "outputs": [],
   "source": [
    "newrelic = NewRelicGqlClient(new_relic_user_key=NEW_RELIC_USER_KEY)"
   ]
  },
  {
   "attachments": {},
   "cell_type": "markdown",
   "id": "efe42229-5c6a-40f8-95a7-6c959b986011",
   "metadata": {
    "tags": []
   },
   "source": [
    "## Client testing"
   ]
  },
  {
   "attachments": {},
   "cell_type": "markdown",
   "id": "4a59211f-c2dd-472a-83d9-ba73ea61d422",
   "metadata": {},
   "source": [
    "In order to use an test the client we need configure `query_type` and `mutation_type` for the `nerdgraph` schema"
   ]
  },
  {
   "cell_type": "code",
   "execution_count": null,
   "id": "d7d96162-fec5-467c-87b2-b8ee034c2322",
   "metadata": {},
   "outputs": [],
   "source": [
    "nerdgraph.query_type = RootQueryType\n",
    "nerdgraph.mutation_type = RootMutationType"
   ]
  },
  {
   "attachments": {},
   "cell_type": "markdown",
   "id": "9b1e4e8d-c2d1-4054-8151-1cc171f86bad",
   "metadata": {},
   "source": [
    "For testing we will use a simple query in GraphQL to get the atttributes from our user\n",
    "\n",
    "```gql\n",
    "query {\n",
    "  actor {\n",
    "    user {\n",
    "      email\n",
    "      id\n",
    "      name\n",
    "    }\n",
    "  }\n",
    "}\n",
    "```\n",
    "\n",
    "This query will be build from the `nerdgraph` schema."
   ]
  },
  {
   "cell_type": "code",
   "execution_count": null,
   "id": "ed9d8bee-35f1-4d8d-81bb-dd54660816a7",
   "metadata": {},
   "outputs": [],
   "source": [
    "# Declare an operation from the `query_type` in `nerdgraph`\n",
    "operation = Operation(nerdgraph.query_type)\n",
    "\n",
    "# Get the fields `id`, `email`, `name` from the `user` entity inside `actor`\n",
    "operation.actor.user.__fields__(\"id\", \"email\", \"name\")"
   ]
  },
  {
   "attachments": {},
   "cell_type": "markdown",
   "id": "1b72cc02-bdbe-4b11-8539-373dcf839c7c",
   "metadata": {},
   "source": [
    "This operation can be transformed into a GraphQL query"
   ]
  },
  {
   "cell_type": "code",
   "execution_count": null,
   "id": "6dfd6a83-eff1-4f1b-a236-0ac2ce23c827",
   "metadata": {},
   "outputs": [],
   "source": [
    "query = operation.__to_graphql__()\n",
    "print(query)"
   ]
  },
  {
   "attachments": {},
   "cell_type": "markdown",
   "id": "679f52cb-605c-4211-9a59-7cf47bf12af8",
   "metadata": {},
   "source": [
    "And this query is the one we send to be executed by our client."
   ]
  },
  {
   "cell_type": "code",
   "execution_count": null,
   "id": "45deb4c5-5d0a-4a26-b306-24f1b5fa66e2",
   "metadata": {
    "tags": []
   },
   "outputs": [],
   "source": [
    "response = newrelic.execute(query)"
   ]
  },
  {
   "attachments": {},
   "cell_type": "markdown",
   "id": "7aca97b4-e43c-45c9-a3ff-d4fb6f051a14",
   "metadata": {},
   "source": [
    "The response data obtained is"
   ]
  },
  {
   "cell_type": "code",
   "execution_count": null,
   "id": "86571ec1-c955-4d60-b951-9e53424bd5c7",
   "metadata": {
    "tags": []
   },
   "outputs": [],
   "source": [
    "print_response(response)"
   ]
  },
  {
   "attachments": {},
   "cell_type": "markdown",
   "id": "f8526d05-52ca-4c37-9007-c12ffd03a441",
   "metadata": {},
   "source": [
    "We can also use the raw query directly written by hand. For this is recomendable to use the `build_query` method in order to get a clean query."
   ]
  },
  {
   "cell_type": "code",
   "execution_count": null,
   "id": "e4787526-88ad-4755-bb8b-7eb2541ab118",
   "metadata": {
    "tags": []
   },
   "outputs": [],
   "source": [
    "query = newrelic.build_query(\n",
    "    \"\"\"\n",
    "        {\n",
    "            actor {\n",
    "                user {\n",
    "                    email\n",
    "                    name\n",
    "                    id\n",
    "                }\n",
    "            }\n",
    "        }\n",
    "    \"\"\"\n",
    ")"
   ]
  },
  {
   "attachments": {},
   "cell_type": "markdown",
   "id": "adcc7a74-40e2-4fd9-85ee-1aee768bf712",
   "metadata": {},
   "source": [
    "And execute directly, as in the previous execution, with the same result"
   ]
  },
  {
   "cell_type": "code",
   "execution_count": null,
   "id": "cdee28d0-46c3-4b37-9100-75ba136ac2b0",
   "metadata": {
    "tags": []
   },
   "outputs": [],
   "source": [
    "response = newrelic.execute(query)\n",
    "print_response(response)"
   ]
  },
  {
   "attachments": {},
   "cell_type": "markdown",
   "id": "80d8317b-aaf7-4e4f-974d-46e39bf82407",
   "metadata": {},
   "source": [
    "## Playground area"
   ]
  },
  {
   "cell_type": "markdown",
   "id": "b447f727-34a4-41b2-ae8f-0ff3cbe50161",
   "metadata": {},
   "source": [
    "### Dashboards management tasks with Nerdgraph"
   ]
  },
  {
   "attachments": {},
   "cell_type": "markdown",
   "id": "838c9d87-03e7-4d45-8412-49ea69f7a644",
   "metadata": {},
   "source": [
    "#### Example 1: List all available dashboards"
   ]
  },
  {
   "cell_type": "markdown",
   "id": "182bf196-2079-4aca-9150-8856e24ab6da",
   "metadata": {},
   "source": [
    "Using a raw NRQL query we can list all available dashboards with this"
   ]
  },
  {
   "cell_type": "code",
   "execution_count": null,
   "id": "001862bf-7adf-4531-9d1b-7477e7974405",
   "metadata": {},
   "outputs": [],
   "source": [
    "template = \"\"\"\n",
    "    {\n",
    "        actor {\n",
    "            entitySearch(\n",
    "                queryBuilder: {\n",
    "                    type: DASHBOARD\n",
    "                }\n",
    "            ) {\n",
    "                count\n",
    "                results(cursor: %(cursor)s) {\n",
    "                    nextCursor\n",
    "                    entities {\n",
    "                        ... on DashboardEntityOutline {\n",
    "                            guid\n",
    "                            name\n",
    "                            owner {\n",
    "                                email\n",
    "                                userId\n",
    "                            }\n",
    "                            indexedAt\n",
    "                            permissions\n",
    "                        }\n",
    "                    }\n",
    "                }\n",
    "            }\n",
    "        }\n",
    "    }\n",
    "\"\"\"\n",
    "\n",
    "params = {\n",
    "    \"cursor\": NULL_CURSOR,\n",
    "}\n",
    "\n",
    "query = newrelic.build_query(\n",
    "    template,\n",
    "    params=params,\n",
    ")"
   ]
  },
  {
   "cell_type": "code",
   "execution_count": null,
   "id": "dbc4f4e2-4841-48e9-8358-821bbb9cad32",
   "metadata": {
    "tags": []
   },
   "outputs": [],
   "source": [
    "response = newrelic.execute(query)"
   ]
  },
  {
   "cell_type": "code",
   "execution_count": null,
   "id": "140e8745-8b26-49a1-951b-2e8895b52b1b",
   "metadata": {
    "tags": []
   },
   "outputs": [],
   "source": [
    "dashboard_count = get_response_data(\n",
    "    response,\n",
    "    key_path=\"entitySearch:count\",\n",
    "    action=\"actor\",\n",
    ")\n",
    "dashboard_count"
   ]
  },
  {
   "cell_type": "code",
   "execution_count": null,
   "id": "23e47914-f720-41d9-af23-b15861d22821",
   "metadata": {
    "tags": []
   },
   "outputs": [],
   "source": [
    "dashboards_list = get_response_data(\n",
    "    response,\n",
    "    key_path=\"entitySearch:results:entities\",\n",
    "    action=\"actor\",\n",
    ")\n",
    "len(dashboards_list)"
   ]
  },
  {
   "cell_type": "code",
   "execution_count": null,
   "id": "3f7f8c67-5686-4511-9287-93980f3309a6",
   "metadata": {
    "tags": []
   },
   "outputs": [],
   "source": [
    "dashboards_list[0]"
   ]
  },
  {
   "cell_type": "code",
   "execution_count": null,
   "id": "a73c67ad-b7c8-46b6-b79a-d559af34f5aa",
   "metadata": {
    "tags": []
   },
   "outputs": [],
   "source": [
    "next_cursor = get_response_data(\n",
    "    response,\n",
    "    key_path=\"entitySearch:results:nextCursor\",\n",
    "    action=\"actor\",\n",
    ")\n",
    "next_cursor"
   ]
  },
  {
   "cell_type": "markdown",
   "id": "93f597fa-3c97-4674-8e39-be84fb33b763",
   "metadata": {},
   "source": [
    "We can also use the Operation and nerdgraph object in the following way"
   ]
  },
  {
   "cell_type": "code",
   "execution_count": null,
   "id": "db583cfe-2dec-42de-aec8-3e442165c120",
   "metadata": {},
   "outputs": [],
   "source": [
    "# Declare an operation from the `query_type` in `nerdgraph`\n",
    "operation = Operation(nerdgraph.query_type)\n",
    "\n",
    "entity_search_op = operation.actor.entity_search(\n",
    "    query_builder=EntitySearchQueryBuilder(type=EntitySearchQueryBuilderType.DASHBOARD)\n",
    ")\n",
    "entity_search_op.count()\n",
    "\n",
    "entity_search_results_op = entity_search_op.results(cursor=None)\n",
    "entity_search_results_op.next_cursor()\n",
    "entity_search_results_op.entities.__as__(DashboardEntityOutline).__fields__(\n",
    "    \"guid\",\n",
    "    \"name\",\n",
    "    \"owner\",\n",
    "    \"indexed_at\",\n",
    "    \"permissions\",\n",
    ")\n",
    "\n",
    "operation"
   ]
  },
  {
   "cell_type": "code",
   "execution_count": null,
   "id": "eae63bda-6ba7-4ccf-a45d-529e2b6d2d92",
   "metadata": {},
   "outputs": [],
   "source": [
    "response = newrelic.execute(operation.__to_graphql__())"
   ]
  },
  {
   "cell_type": "code",
   "execution_count": null,
   "id": "55bedc27-11e5-4d4b-8952-209e9a0f0441",
   "metadata": {},
   "outputs": [],
   "source": [
    "data = operation + response.json()"
   ]
  },
  {
   "cell_type": "code",
   "execution_count": null,
   "id": "11c9d819-e38d-4388-a3f7-5b189b18eacf",
   "metadata": {},
   "outputs": [],
   "source": [
    "len(data.actor.entity_search.results.entities)"
   ]
  },
  {
   "cell_type": "code",
   "execution_count": null,
   "id": "94c01f49-8f04-4005-9402-0f1074f1d02c",
   "metadata": {},
   "outputs": [],
   "source": [
    "data.actor.entity_search.results.entities[0][\"guid\"]"
   ]
  },
  {
   "cell_type": "code",
   "execution_count": null,
   "id": "32c728fe-4182-4e0d-bf2a-38ebc14bb96b",
   "metadata": {},
   "outputs": [],
   "source": [
    "data.actor.entity_search.results.next_cursor"
   ]
  },
  {
   "attachments": {},
   "cell_type": "markdown",
   "id": "96654a3b-4d98-43b6-b669-fa4a4db85a17",
   "metadata": {},
   "source": [
    "#### Example 2: Get a single dashboard"
   ]
  },
  {
   "cell_type": "markdown",
   "id": "a8e3ab8d-ab0b-43d8-8ded-53fd62939d17",
   "metadata": {},
   "source": [
    "For getting a single dashboard is required know the identification this"
   ]
  },
  {
   "cell_type": "code",
   "execution_count": null,
   "id": "8eb6c19d-239f-4379-a942-61bd07058c7a",
   "metadata": {
    "tags": []
   },
   "outputs": [],
   "source": [
    "# Getting guid the result using a raw NRQL query\n",
    "dashboard_guid = dashboards_list[0][\"guid\"]"
   ]
  },
  {
   "cell_type": "code",
   "execution_count": null,
   "id": "7a65d3fb-36a4-4869-823a-330d018ede7b",
   "metadata": {},
   "outputs": [],
   "source": [
    "# Getting guid the result using Operation and nerdgraph\n",
    "dashboard_guid_op = data.actor.entity_search.results.entities[0][\"guid\"]"
   ]
  },
  {
   "cell_type": "code",
   "execution_count": null,
   "id": "186e18fc-0daf-43e5-898e-1fdcebff574f",
   "metadata": {},
   "outputs": [],
   "source": [
    "dashboard_guid"
   ]
  },
  {
   "cell_type": "markdown",
   "id": "b63f9b3c-2175-44ca-a627-21ea507d4749",
   "metadata": {},
   "source": [
    "Using a raw NRQL query we can getting a single dashboard with this"
   ]
  },
  {
   "cell_type": "code",
   "execution_count": null,
   "id": "7c863dfd-d650-405a-82de-ffa3c15b5f88",
   "metadata": {},
   "outputs": [],
   "source": [
    "template = \"\"\"\n",
    "    {\n",
    "        actor {\n",
    "            entity(guid: %(guid)s) {\n",
    "                ... on DashboardEntity {\n",
    "                    guid\n",
    "                    name\n",
    "                    owner {\n",
    "                        email\n",
    "                        userId\n",
    "                    }\n",
    "                    permissions\n",
    "                    indexedAt\n",
    "                }\n",
    "            }\n",
    "        }\n",
    "    }\n",
    "\"\"\"\n",
    "\n",
    "params = {\n",
    "    \"guid\": f'\"{dashboard_guid}\"',\n",
    "}\n",
    "\n",
    "query = newrelic.build_query(\n",
    "    template,\n",
    "    params=params,\n",
    ")"
   ]
  },
  {
   "cell_type": "code",
   "execution_count": null,
   "id": "1ae41cc3-66b6-4dc6-9fcc-26e9d146b023",
   "metadata": {
    "tags": []
   },
   "outputs": [],
   "source": [
    "response = newrelic.execute(query)"
   ]
  },
  {
   "cell_type": "code",
   "execution_count": null,
   "id": "35716159-69c7-4ff4-955c-63dbe5fe02f1",
   "metadata": {
    "tags": []
   },
   "outputs": [],
   "source": [
    "dashboard = get_response_data(\n",
    "    response,\n",
    "    key_path=\"entity\",\n",
    "    action=\"actor\",\n",
    ")\n",
    "dashboard"
   ]
  },
  {
   "cell_type": "markdown",
   "id": "d69a3fac-58f8-478d-b618-9a9569aa87be",
   "metadata": {},
   "source": [
    "We can also use the Operation and nerdgraph object in the following way"
   ]
  },
  {
   "cell_type": "code",
   "execution_count": null,
   "id": "7c6bff9f-5a57-4038-ba7e-1aacbaddb619",
   "metadata": {},
   "outputs": [],
   "source": [
    "# Declare an operation from the `query_type` in `nerdgraph`\n",
    "operation = Operation(nerdgraph.query_type)\n",
    "(\n",
    "    operation.actor.entity(guid=dashboard_guid)\n",
    "    .__as__(DashboardEntity)\n",
    "    .__fields__\n",
    "    (\n",
    "        \"guid\",\n",
    "        \"name\",\n",
    "        \"owner\",\n",
    "        \"permissions\",\n",
    "        \"indexed_at\"\n",
    "    )\n",
    ")\n",
    "operation"
   ]
  },
  {
   "cell_type": "code",
   "execution_count": null,
   "id": "ab4ac5a1-f71a-4770-8604-bce1290b70f2",
   "metadata": {},
   "outputs": [],
   "source": [
    "response = newrelic.execute(operation.__to_graphql__())"
   ]
  },
  {
   "cell_type": "code",
   "execution_count": null,
   "id": "c3a5307e-7a9f-4817-ab5d-e8f506298d8d",
   "metadata": {},
   "outputs": [],
   "source": [
    "response.json()"
   ]
  },
  {
   "cell_type": "code",
   "execution_count": null,
   "id": "f4fae82f-1392-40dc-a977-564d29ee08c2",
   "metadata": {},
   "outputs": [],
   "source": [
    "data = operation + response.json()"
   ]
  },
  {
   "cell_type": "code",
   "execution_count": null,
   "id": "1194ca72-bdf8-484f-8481-93394e1895c2",
   "metadata": {},
   "outputs": [],
   "source": [
    "data.actor.entity"
   ]
  },
  {
   "attachments": {},
   "cell_type": "markdown",
   "id": "0b5be956-5df4-47a4-a70d-233f97138562",
   "metadata": {},
   "source": [
    "#### Example 3: Get a dashboard with pages"
   ]
  },
  {
   "cell_type": "markdown",
   "id": "ab32b71c-d195-4cae-8668-885d0b1a2b9e",
   "metadata": {},
   "source": [
    "For geeting a dashboard with pages is required know the identification this"
   ]
  },
  {
   "cell_type": "code",
   "execution_count": null,
   "id": "b336841c-8066-4ef0-8489-af49fe7c4db3",
   "metadata": {
    "tags": []
   },
   "outputs": [],
   "source": [
    "# Getting guid the result using a raw NRQL query\n",
    "dashboard_guid = dashboards_list[0][\"guid\"]"
   ]
  },
  {
   "cell_type": "code",
   "execution_count": null,
   "id": "0b8f2075-2fbf-4ce4-bb6c-873ecc34a44c",
   "metadata": {},
   "outputs": [],
   "source": [
    "# Getting guid the result using Operation and nerdgraph\n",
    "dashboard_guid_op = data.actor.entity_search.results.entities[0][\"guid\"]"
   ]
  },
  {
   "cell_type": "code",
   "execution_count": null,
   "id": "fb4e4ef9-8a18-4671-8482-053429560e3a",
   "metadata": {},
   "outputs": [],
   "source": [
    "dashboard_guid"
   ]
  },
  {
   "cell_type": "markdown",
   "id": "25c873fb-dfde-4790-b14e-53ad6226e464",
   "metadata": {},
   "source": [
    "Using a raw NRQL query we can get a dashboard with pages, with this"
   ]
  },
  {
   "cell_type": "code",
   "execution_count": null,
   "id": "e8e75004-bd94-4033-a728-7a0d6f594804",
   "metadata": {
    "tags": []
   },
   "outputs": [],
   "source": [
    "template = \"\"\"\n",
    "{\n",
    "    actor {\n",
    "        entity(guid: %(guid)s) {\n",
    "            ... on DashboardEntity {\n",
    "                guid\n",
    "                name\n",
    "                owner {\n",
    "                    email\n",
    "                    userId\n",
    "                }\n",
    "                permissions\n",
    "                indexedAt\n",
    "                pages {\n",
    "                    guid\n",
    "                    name\n",
    "                }\n",
    "            }\n",
    "        }\n",
    "    }\n",
    "}\n",
    "\"\"\"\n",
    "\n",
    "params = {\n",
    "    \"guid\": f'\"{dashboard_guid}\"',\n",
    "}\n",
    "\n",
    "query = newrelic.build_query(\n",
    "    template,\n",
    "    params=params,\n",
    ")"
   ]
  },
  {
   "cell_type": "code",
   "execution_count": null,
   "id": "7c426a7e-1eb9-42fb-942d-830832a2ddf8",
   "metadata": {
    "tags": []
   },
   "outputs": [],
   "source": [
    "response = newrelic.execute(query)"
   ]
  },
  {
   "cell_type": "code",
   "execution_count": null,
   "id": "89f9660d-fff3-4667-8661-7f7bc1a3a9cb",
   "metadata": {
    "tags": []
   },
   "outputs": [],
   "source": [
    "dashboard = get_response_data(\n",
    "    response,\n",
    "    key_path=\"entity\",\n",
    "    action=\"actor\",\n",
    ")\n",
    "dashboard"
   ]
  },
  {
   "cell_type": "markdown",
   "id": "51b5cc45-7d2b-49d7-8933-a87d4ed4eb84",
   "metadata": {},
   "source": [
    "We can also use the Operation and nerdgraph object in the following way"
   ]
  },
  {
   "cell_type": "code",
   "execution_count": null,
   "id": "a845caab-63c6-496a-88ed-380fa4e1f269",
   "metadata": {},
   "outputs": [],
   "source": [
    "# Declare an operation from the `query_type` in `nerdgraph`\n",
    "operation=Operation(nerdgraph.query_type)\n",
    "dashboard_search_op=operation.actor.entity(guid=dashboard_guid)\n",
    "dashboard_search_results_op=(\n",
    "    dashboard_search_op.__as__(DashboardEntity)\n",
    "    .__fields__\n",
    "    (\n",
    "        \"guid\",\n",
    "        \"name\",\n",
    "        \"owner\",\n",
    "        \"permissions\",\n",
    "        \"indexed_at\"\n",
    "    ) \n",
    ")\n",
    "dashboard_search_results_op=(\n",
    "    dashboard_search_op.__as__(DashboardEntity).pages()\n",
    "    .__fields__\n",
    "    (\n",
    "        \"guid\",\n",
    "        \"name\",\n",
    "    )\n",
    ")\n",
    "\n",
    "\n",
    "\n",
    "operation"
   ]
  },
  {
   "cell_type": "code",
   "execution_count": null,
   "id": "b13200bd-bfe2-4365-9503-f641a49dd5d3",
   "metadata": {},
   "outputs": [],
   "source": [
    "response = newrelic.execute(operation.__to_graphql__())"
   ]
  },
  {
   "cell_type": "code",
   "execution_count": null,
   "id": "74ffa474-d302-424b-9319-759c26bc54c6",
   "metadata": {},
   "outputs": [],
   "source": [
    "response.json()"
   ]
  },
  {
   "cell_type": "code",
   "execution_count": null,
   "id": "0e966ec2-3c97-407a-a9ea-f5fbc5ec9f86",
   "metadata": {},
   "outputs": [],
   "source": [
    "data = operation + response.json()"
   ]
  },
  {
   "cell_type": "code",
   "execution_count": null,
   "id": "095a9d6f-d9c5-425c-b27d-4f292c8bd2ea",
   "metadata": {},
   "outputs": [],
   "source": [
    "data.actor.entity.pages"
   ]
  },
  {
   "attachments": {},
   "cell_type": "markdown",
   "id": "b2044531-f773-48aa-bc46-29ef8800464b",
   "metadata": {},
   "source": [
    "#### Example 4: Get a dashboard with pages and widget"
   ]
  },
  {
   "cell_type": "markdown",
   "id": "74e52a87-db5d-46f3-8b29-bc4e722975e1",
   "metadata": {},
   "source": [
    "For geeting a dashboard with pages and widget is required know the identification this"
   ]
  },
  {
   "cell_type": "code",
   "execution_count": null,
   "id": "199b28b4-88a9-4085-a7e2-de9278be745f",
   "metadata": {
    "tags": []
   },
   "outputs": [],
   "source": [
    "# Getting guid the result using a raw NRQL query\n",
    "dashboard_guid = dashboards_list[0][\"guid\"]"
   ]
  },
  {
   "cell_type": "code",
   "execution_count": null,
   "id": "dd9d9caa-334e-4a59-8bdc-1fa198021c85",
   "metadata": {},
   "outputs": [],
   "source": [
    "# Getting guid the result using Operation and nerdgraph\n",
    "dashboard_guid_op = data.actor.entity_search.results.entities[0][\"guid\"]"
   ]
  },
  {
   "cell_type": "markdown",
   "id": "028f9781-ba85-430d-a3df-7bfa65d04ac5",
   "metadata": {},
   "source": [
    "Using a raw NRQL query we can get a dashboard with pages and widget with this"
   ]
  },
  {
   "cell_type": "code",
   "execution_count": null,
   "id": "2cba12fd-1da1-4873-94ac-c8c1eebeaf7e",
   "metadata": {
    "tags": []
   },
   "outputs": [],
   "source": [
    "template = \"\"\"\n",
    "{\n",
    "    actor {\n",
    "        entity(guid: %(guid)s) {\n",
    "            ... on DashboardEntity {\n",
    "                guid\n",
    "                name\n",
    "                owner {\n",
    "                    email\n",
    "                    userId\n",
    "                }\n",
    "                permissions\n",
    "                indexedAt\n",
    "                pages {\n",
    "                    guid\n",
    "                    name\n",
    "                    widgets {\n",
    "                        id\n",
    "                        rawConfiguration\n",
    "                        title\n",
    "                        visualization {\n",
    "                            id\n",
    "                        }\n",
    "                    }\n",
    "                }\n",
    "            }\n",
    "        }\n",
    "    }\n",
    "}\n",
    "\"\"\"\n",
    "\n",
    "params = {\n",
    "    \"guid\": f'\"{dashboard_guid}\"',\n",
    "}\n",
    "\n",
    "query = newrelic.build_query(\n",
    "    template,\n",
    "    params=params,\n",
    ")"
   ]
  },
  {
   "cell_type": "code",
   "execution_count": null,
   "id": "b11aff47-ba5d-4de3-99c1-26e3c684b83a",
   "metadata": {
    "tags": []
   },
   "outputs": [],
   "source": [
    "response = newrelic.execute(query)"
   ]
  },
  {
   "cell_type": "code",
   "execution_count": null,
   "id": "e538efa9-db4d-4793-bc20-5dfa6ea007b6",
   "metadata": {
    "tags": []
   },
   "outputs": [],
   "source": [
    "dashboard = get_response_data(\n",
    "    response,\n",
    "    key_path=\"entity\",\n",
    "    action=\"actor\",\n",
    ")\n",
    "dashboard.keys()"
   ]
  },
  {
   "cell_type": "code",
   "execution_count": null,
   "id": "626c1e27-8cc7-4a94-9e65-de622b583ef2",
   "metadata": {
    "tags": []
   },
   "outputs": [],
   "source": [
    "{key: value for key, value in dashboard.items() if key not in (\"pages\")}"
   ]
  },
  {
   "cell_type": "code",
   "execution_count": null,
   "id": "4f187671-ce99-483f-bd8d-d0dc3f988c94",
   "metadata": {
    "tags": []
   },
   "outputs": [],
   "source": [
    "dashboard_pages = dashboard[\"pages\"]\n",
    "len(dashboard_pages)"
   ]
  },
  {
   "cell_type": "code",
   "execution_count": null,
   "id": "63a182d3-ce13-4db4-b20a-9c2fde144d96",
   "metadata": {
    "tags": []
   },
   "outputs": [],
   "source": [
    "dashboard_page_0 = dashboard_pages[0]\n",
    "dashboard_page_0.keys()"
   ]
  },
  {
   "cell_type": "code",
   "execution_count": null,
   "id": "53659d1f-92d7-4669-be53-0f4c69343778",
   "metadata": {
    "tags": []
   },
   "outputs": [],
   "source": [
    "{key: value for key, value in dashboard_page_0.items() if key not in (\"widgets\")}"
   ]
  },
  {
   "cell_type": "code",
   "execution_count": null,
   "id": "35d71d64-501c-4503-9d8b-77d7dfe4f065",
   "metadata": {
    "tags": []
   },
   "outputs": [],
   "source": [
    "dashboard_page_0_widgets = dashboard_page_0[\"widgets\"]\n",
    "len(dashboard_page_0_widgets)"
   ]
  },
  {
   "cell_type": "code",
   "execution_count": null,
   "id": "2797f148-d2a8-4f72-bf47-b9fc7010a861",
   "metadata": {
    "tags": []
   },
   "outputs": [],
   "source": [
    "dashboard_page_0_widget_0 = dashboard_page_0_widgets[0]\n",
    "dashboard_page_0_widget_0"
   ]
  },
  {
   "cell_type": "markdown",
   "id": "722848f4-c7cf-4faa-bb83-ea9a6852bc00",
   "metadata": {},
   "source": [
    "We can also use the Operation and nerdgraph object in the following way"
   ]
  },
  {
   "cell_type": "code",
   "execution_count": null,
   "id": "4dc4bead-9f29-4e7a-8851-7b06d0d63094",
   "metadata": {},
   "outputs": [],
   "source": [
    "# Declare an operation from the `query_type` in `nerdgraph`\n",
    "operation=Operation(nerdgraph.query_type)\n",
    "dashboard_search_op=operation.actor.entity(guid=dashboard_guid)\n",
    "dashboard_search_results_op=(\n",
    "    dashboard_search_op.__as__(DashboardEntity)\n",
    "    .__fields__\n",
    "    (\n",
    "        \"guid\",\n",
    "        \"name\",\n",
    "        \"owner\",\n",
    "        \"permissions\",\n",
    "        \"indexed_at\"\n",
    "    )\n",
    ")\n",
    "dashboard_search_results_op=(\n",
    "    dashboard_search_op.__as__(DashboardEntity).pages()\n",
    "    .__fields__\n",
    "    (\n",
    "        \"guid\",\n",
    "        \"name\",\n",
    "    )\n",
    ")\n",
    "dashboard_search_results_op=(\n",
    "    dashboard_search_op.__as__(DashboardEntity).pages().widgets()\n",
    "    .__fields__\n",
    "    (\n",
    "        \"id\",\n",
    "        \"raw_configuration\",\n",
    "        \"title\",\n",
    "        \"visualization\" \n",
    "        \n",
    "    )\n",
    ")\n",
    "\n",
    "operation"
   ]
  },
  {
   "cell_type": "code",
   "execution_count": null,
   "id": "6fe14db4-40c3-4ebd-ae63-7a720d557473",
   "metadata": {},
   "outputs": [],
   "source": [
    "response=newrelic.execute(operation.__to_graphql__())"
   ]
  },
  {
   "cell_type": "code",
   "execution_count": null,
   "id": "a15e6bd1-8175-4017-a029-d635ea9c4058",
   "metadata": {},
   "outputs": [],
   "source": [
    "response.json()"
   ]
  },
  {
   "cell_type": "code",
   "execution_count": null,
   "id": "a9aa4cc2-8981-451d-ba24-243c0ef4d5da",
   "metadata": {},
   "outputs": [],
   "source": [
    "data= operation + response.json()"
   ]
  },
  {
   "cell_type": "code",
   "execution_count": null,
   "id": "296347cc-6d80-4617-8354-a832c9f16b44",
   "metadata": {},
   "outputs": [],
   "source": [
    "data.actor.entity.pages[0].widgets[0]"
   ]
  },
  {
   "attachments": {},
   "cell_type": "markdown",
   "id": "90ed3f20-e8e5-4761-987d-323b90a817f0",
   "metadata": {},
   "source": [
    "#### Example 5: Create a dashboard"
   ]
  },
  {
   "cell_type": "markdown",
   "id": "639ab490-0a0c-4022-9617-9607b69088cb",
   "metadata": {},
   "source": [
    "Using a raw NRQL query we can Create a dashboard with this"
   ]
  },
  {
   "cell_type": "code",
   "execution_count": null,
   "id": "eeb0efe5-3722-4039-b68a-ec4afc8cf7a1",
   "metadata": {
    "tags": []
   },
   "outputs": [],
   "source": [
    "template = \"\"\"\n",
    "    mutation {\n",
    "        dashboardCreate(\n",
    "            accountId: %(account_id)d,\n",
    "            dashboard: {\n",
    "                name: \"Sample api dashboard\",\n",
    "                pages: {\n",
    "                    name: \"Sample api page\",\n",
    "                    widgets: {\n",
    "                        configuration: {\n",
    "                            markdown: {\n",
    "                                text: \"# Sample api widget\"\n",
    "                            }\n",
    "                        },\n",
    "                        title: \"\"\n",
    "                    }\n",
    "                },\n",
    "                permissions: PUBLIC_READ_WRITE\n",
    "            }\n",
    "        ) {\n",
    "            entityResult {\n",
    "                name\n",
    "                owner {\n",
    "                    email\n",
    "                    userId\n",
    "                }\n",
    "                guid\n",
    "            }\n",
    "            errors {\n",
    "                description\n",
    "                type\n",
    "            }\n",
    "        }\n",
    "    }\n",
    "\"\"\"\n",
    "\n",
    "params = {\n",
    "    \"account_id\": int(NEW_RELIC_ACCOUNT_ID),\n",
    "}\n",
    "\n",
    "query = newrelic.build_query(\n",
    "    template,\n",
    "    params=params,\n",
    ")"
   ]
  },
  {
   "cell_type": "code",
   "execution_count": null,
   "id": "dbdd786e-2ebd-4c54-95d7-408643633af6",
   "metadata": {
    "tags": []
   },
   "outputs": [],
   "source": [
    "response = newrelic.execute(query)"
   ]
  },
  {
   "cell_type": "code",
   "execution_count": null,
   "id": "5f0c517b-d112-45fb-af8b-85948f705f66",
   "metadata": {
    "tags": []
   },
   "outputs": [],
   "source": [
    "errors = get_response_data(\n",
    "    response,\n",
    "    key_path=\"errors\",\n",
    "    action=\"dashboardCreate\",\n",
    ")\n",
    "errors"
   ]
  },
  {
   "cell_type": "code",
   "execution_count": null,
   "id": "04643a57-0c20-4318-b29b-1045701d3660",
   "metadata": {
    "tags": []
   },
   "outputs": [],
   "source": [
    "created_dashboard = get_response_data(\n",
    "    response,\n",
    "    key_path=\"entityResult\",\n",
    "    action=\"dashboardCreate\",\n",
    ")\n",
    "created_dashboard"
   ]
  },
  {
   "cell_type": "markdown",
   "id": "7a08e448-5c56-445b-8093-2d05501ad272",
   "metadata": {},
   "source": [
    "We can also use the Operation and nerdgraph object in the following way"
   ]
  },
  {
   "cell_type": "code",
   "execution_count": null,
   "id": "3bdd51ba-d5e3-45c0-9e08-21e04766cf46",
   "metadata": {
    "scrolled": true
   },
   "outputs": [],
   "source": [
    "# Declare an operation from the `mutation_type` in `nerdgraph`\n",
    "operation = Operation(nerdgraph.mutation_type)\n",
    "dashboard_mutate_op=(\n",
    "    operation.dashboard_create(\n",
    "        account_id= int(NEW_RELIC_ACCOUNT_ID),\n",
    "        dashboard=DashboardInput(\n",
    "            name=\"Sample api dashboard with Operation\",\n",
    "            pages=[DashboardPageInput(\n",
    "                name=\"Sample api page with Operation\",\n",
    "                widgets=[DashboardWidgetInput(\n",
    "                    configuration=DashboardWidgetConfigurationInput(\n",
    "                        markdown=DashboardMarkdownWidgetConfigurationInput(\n",
    "                            text=\"# Sample api widget operation\"\n",
    "                        )\n",
    "                    ),\n",
    "                    title=\"\"\n",
    "                )\n",
    "                        ]\n",
    "            )\n",
    "                  ],\n",
    "            permissions=DashboardEntityPermissions.PUBLIC_READ_WRITE\n",
    "        )\n",
    "    )\n",
    ")\n",
    "\n",
    "dashboard_mutate_result_op=(\n",
    "    dashboard_mutate_op.entity_result()\n",
    "    .__fields__\n",
    "    (\n",
    "        \"name\",\n",
    "        \"owner\",\n",
    "        \"guid\",\n",
    "    )\n",
    ")\n",
    "dashboard_mutate_result_op=(\n",
    "    dashboard_mutate_op.errors()\n",
    ")\n",
    "\n",
    "operation"
   ]
  },
  {
   "cell_type": "code",
   "execution_count": null,
   "id": "06f5bc77-146d-43ac-a59b-821fb8ade22c",
   "metadata": {},
   "outputs": [],
   "source": [
    "response=newrelic.execute(operation.__to_graphql__())"
   ]
  },
  {
   "cell_type": "code",
   "execution_count": null,
   "id": "a750d2eb-4eee-47a8-a8f9-ef8c9eb55aec",
   "metadata": {},
   "outputs": [],
   "source": [
    "response.json()"
   ]
  },
  {
   "attachments": {},
   "cell_type": "markdown",
   "id": "b9d45e54-53f3-40de-924b-909022c198a5",
   "metadata": {},
   "source": [
    "### Tasks"
   ]
  },
  {
   "cell_type": "markdown",
   "id": "6bda80dc-0fe2-4f58-a2c2-c38295f880ac",
   "metadata": {},
   "source": [
    "#### Task 1: Create dashboard page snapshot"
   ]
  },
  {
   "attachments": {},
   "cell_type": "markdown",
   "id": "b10683dc-0575-44f5-a849-fbbc85d0bb91",
   "metadata": {},
   "source": [
    "Read the documentation carefully and create a snapshot of an existing dashboard"
   ]
  },
  {
   "cell_type": "code",
   "execution_count": null,
   "id": "e776793e-5ca8-4ff5-920a-f0cc39124029",
   "metadata": {},
   "outputs": [],
   "source": [
    "# Put your code here\n",
    "\n",
    "# Define your query template\n",
    "template = \"\"\"\n",
    "\"\"\"\n",
    "\n",
    "# Define your query parameters if necessary\n",
    "params = {}\n",
    "\n",
    "\n",
    "query = newrelic.build_query(\n",
    "    template,\n",
    "    params=params,\n",
    ")\n",
    "\n",
    "response = newrelic.execute(query)"
   ]
  },
  {
   "cell_type": "code",
   "execution_count": null,
   "id": "0b250c55-c07f-4db8-b44b-717c9a2f3b60",
   "metadata": {},
   "outputs": [],
   "source": [
    "# only interested on the dashboard url\n",
    "snapshot_url = get_response_data(\n",
    "    response,\n",
    "    action=\"dashboardCreateSnapshotUrl\",\n",
    ")\n",
    "print(snapshot_url)\n",
    "\n",
    "# replace PDF with PNG, and get the link to download the file\n",
    "url_png = snapshot_url[:-3] + \"PNG\"\n",
    "print(url_png)\n",
    "\n",
    "# rename the downloaded file, and save it in the working directory\n",
    "dashboard_response = requests.get(\n",
    "    url_png,\n",
    "    stream=True,\n",
    ")\n",
    "\n",
    "with open(\"dashboard_example.png\", \"wb\") as file_handler:\n",
    "    file_handler.write(dashboard_response.content)"
   ]
  }
 ],
 "metadata": {
  "kernelspec": {
   "display_name": "Python 3 (ipykernel)",
   "language": "python",
   "name": "python3"
  },
  "language_info": {
   "codemirror_mode": {
    "name": "ipython",
    "version": 3
   },
   "file_extension": ".py",
   "mimetype": "text/x-python",
   "name": "python",
   "nbconvert_exporter": "python",
   "pygments_lexer": "ipython3",
   "version": "3.9.16"
  },
  "toc-autonumbering": false
 },
 "nbformat": 4,
 "nbformat_minor": 5
}
