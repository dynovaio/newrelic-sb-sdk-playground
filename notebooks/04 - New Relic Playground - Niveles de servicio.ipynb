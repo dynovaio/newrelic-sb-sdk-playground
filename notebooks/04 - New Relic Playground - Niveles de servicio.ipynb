{
 "cells": [
  {
   "attachments": {},
   "cell_type": "markdown",
   "id": "4c92bea4-3050-482b-a495-e26203427d81",
   "metadata": {
    "tags": [
     "remove-cell"
    ]
   },
   "source": [
    "<div style=\"display:flex;\">\n",
    "<img alt=\"New Relic\" style=\"display:block;height:64px\" src=\"https://gitlab.com/softbutterfly/open-source/open-source-office/-/raw/master/banners/borderless/brands/new_relic.png\" />\n",
    "<img alt=\"SoftButterfly\" style=\"display:block;height:64px;margin-left:auto\" src=\"https://gitlab.com/softbutterfly/open-source/open-source-office/-/raw/master/banners/borderless/softbutterfly.png\" />\n",
    "</div>"
   ]
  },
  {
   "attachments": {},
   "cell_type": "markdown",
   "id": "d12b3450-385b-471d-bd00-4e044e93c86c",
   "metadata": {},
   "source": [
    "# New Relic Playground 4: Service Levels"
   ]
  },
  {
   "attachments": {},
   "cell_type": "markdown",
   "id": "07ae699b-c286-4f60-8c07-397155b52d62",
   "metadata": {},
   "source": [
    "## Imports"
   ]
  },
  {
   "attachments": {},
   "cell_type": "markdown",
   "id": "2000d058-1c93-4a49-8d54-c45ce74110ee",
   "metadata": {},
   "source": [
    "Python Imports"
   ]
  },
  {
   "cell_type": "code",
   "execution_count": null,
   "id": "e2053d86-3a2b-4c7a-a3bf-ce01817ec5be",
   "metadata": {
    "tags": []
   },
   "outputs": [],
   "source": [
    "import os"
   ]
  },
  {
   "attachments": {},
   "cell_type": "markdown",
   "id": "e357cf41-bf9d-4604-b9da-3d85f8311895",
   "metadata": {},
   "source": [
    "Third-party libraries"
   ]
  },
  {
   "cell_type": "code",
   "execution_count": null,
   "id": "2996908c-cd6a-42e4-b754-06168eda4eab",
   "metadata": {
    "tags": []
   },
   "outputs": [],
   "source": [
    "import dotenv\n",
    "from newrelic_sb_sdk.client import NewRelicGqlClient\n",
    "from newrelic_sb_sdk.graphql import nerdgraph\n",
    "from newrelic_sb_sdk.graphql.objects import RootMutationType, RootQueryType\n",
    "from newrelic_sb_sdk.utils.query import NULL_CURSOR\n",
    "from newrelic_sb_sdk.utils.response import get_response_data, print_response\n",
    "from sgqlc.operation import Operation"
   ]
  },
  {
   "attachments": {},
   "cell_type": "markdown",
   "id": "1ffef134-e469-4e1d-a05a-2ac264c0d344",
   "metadata": {
    "tags": []
   },
   "source": [
    "## Client setup"
   ]
  },
  {
   "attachments": {},
   "cell_type": "markdown",
   "id": "969289d2-80ab-46eb-afa4-5318f1fb48c4",
   "metadata": {},
   "source": [
    "To setup the client, first we need to open load the credentials from environment variables."
   ]
  },
  {
   "cell_type": "code",
   "execution_count": null,
   "id": "7ec4088b-824d-4c84-9697-6c285c25db0b",
   "metadata": {
    "tags": []
   },
   "outputs": [],
   "source": [
    "env_file = \"../.env\"\n",
    "\n",
    "dotenv.load_dotenv(env_file)\n",
    "\n",
    "NEW_RELIC_USER_KEY = os.environ.get(\"NEW_RELIC_USER_KEY\", None)\n",
    "\n",
    "if NEW_RELIC_USER_KEY is None:\n",
    "    raise ValueError(\"Environment variable NEW_RELIC_USER_KEY is not set.\")\n",
    "\n",
    "NEW_RELIC_ACCOUNT_ID = os.environ.get(\"NEW_RELIC_ACCOUNT_ID\", None)\n",
    "\n",
    "if NEW_RELIC_ACCOUNT_ID is None:\n",
    "    raise ValueError(\"Environment variable NEW_RELIC_ACCOUNT_ID is not set.\")"
   ]
  },
  {
   "attachments": {},
   "cell_type": "markdown",
   "id": "1d2fa0e6-c7dc-4468-89d3-62fe8c6e5788",
   "metadata": {},
   "source": [
    "With environment varaibles loaded, we can proceed to instantiate the client"
   ]
  },
  {
   "cell_type": "code",
   "execution_count": null,
   "id": "885627e9-ddca-4b32-8c80-2c6d9d077bb9",
   "metadata": {
    "tags": []
   },
   "outputs": [],
   "source": [
    "newrelic = NewRelicGqlClient(new_relic_user_key=NEW_RELIC_USER_KEY)"
   ]
  },
  {
   "attachments": {},
   "cell_type": "markdown",
   "id": "927ae736-3223-4d43-a1c4-00beb898b8fe",
   "metadata": {
    "tags": []
   },
   "source": [
    "## Client testing"
   ]
  },
  {
   "attachments": {},
   "cell_type": "markdown",
   "id": "c53420cd-32f3-4c78-b512-d88a920b7af7",
   "metadata": {},
   "source": [
    "In order to use an test the client we need configure `query_type` and `mutation_type` for the `nerdgraph` schema"
   ]
  },
  {
   "cell_type": "code",
   "execution_count": null,
   "id": "572d0c72-cbd6-4a94-8fec-5581c8784168",
   "metadata": {},
   "outputs": [],
   "source": [
    "nerdgraph.query_type = RootQueryType\n",
    "nerdgraph.mutation_type = RootMutationType"
   ]
  },
  {
   "attachments": {},
   "cell_type": "markdown",
   "id": "2ff65c8b-3165-42a0-a6ed-3a867d8a46b0",
   "metadata": {},
   "source": [
    "For testing we will use a simple query in GraphQL to get the atttributes from our user\n",
    "\n",
    "```gql\n",
    "query {\n",
    "  actor {\n",
    "    user {\n",
    "      email\n",
    "      id\n",
    "      name\n",
    "    }\n",
    "  }\n",
    "}\n",
    "```\n",
    "\n",
    "This query will be build from the `nerdgraph` schema."
   ]
  },
  {
   "cell_type": "code",
   "execution_count": null,
   "id": "4cdeff18-69fe-4ab3-8aca-f552e6d99014",
   "metadata": {},
   "outputs": [],
   "source": [
    "# Declare an operation from the `query_type` in `nerdgraph`\n",
    "operation = Operation(nerdgraph.query_type)\n",
    "\n",
    "# Get the fields `id`, `email`, `name` from the `user` entity inside `actor`\n",
    "operation.actor.user.__fields__(\"id\", \"email\", \"name\")"
   ]
  },
  {
   "attachments": {},
   "cell_type": "markdown",
   "id": "d524e237-ab86-4fdc-a905-d81b30c2b78e",
   "metadata": {},
   "source": [
    "This operation can be transformed into a GraphQL query"
   ]
  },
  {
   "cell_type": "code",
   "execution_count": null,
   "id": "6db66fd4-a813-4472-8881-d18eaf10c2b1",
   "metadata": {},
   "outputs": [],
   "source": [
    "query = operation.__to_graphql__()\n",
    "print(query)"
   ]
  },
  {
   "attachments": {},
   "cell_type": "markdown",
   "id": "6c41cf6c-9b88-4445-a05c-b59c07b8f056",
   "metadata": {},
   "source": [
    "And this query is the one we send to be executed by our client."
   ]
  },
  {
   "cell_type": "code",
   "execution_count": null,
   "id": "dd90b123-3fc3-4b7f-a2fd-b4b3ff89425f",
   "metadata": {
    "tags": []
   },
   "outputs": [],
   "source": [
    "response = newrelic.execute(query)"
   ]
  },
  {
   "attachments": {},
   "cell_type": "markdown",
   "id": "1f8c8c1e-8c75-4bde-a65a-c1e9b82a5184",
   "metadata": {},
   "source": [
    "The response data obtained is"
   ]
  },
  {
   "cell_type": "code",
   "execution_count": null,
   "id": "6ce38b7c-2479-4232-b1a7-8282adf4a4ef",
   "metadata": {
    "tags": []
   },
   "outputs": [],
   "source": [
    "print_response(response)"
   ]
  },
  {
   "attachments": {},
   "cell_type": "markdown",
   "id": "22b61912-3ffa-4b6a-9da5-df3688d6b792",
   "metadata": {},
   "source": [
    "We can also use the raw query directly written by hand. For this is recomendable to use the `build_query` method in order to get a clean query."
   ]
  },
  {
   "cell_type": "code",
   "execution_count": null,
   "id": "4ff7fa94-ae7f-480e-9a57-d938c4d6a926",
   "metadata": {
    "tags": []
   },
   "outputs": [],
   "source": [
    "query = newrelic.build_query(\n",
    "    \"\"\"\n",
    "        {\n",
    "            actor {\n",
    "                user {\n",
    "                    email\n",
    "                    name\n",
    "                    id\n",
    "                }\n",
    "            }\n",
    "        }\n",
    "    \"\"\"\n",
    ")"
   ]
  },
  {
   "attachments": {},
   "cell_type": "markdown",
   "id": "95735068-0611-44b8-9fc3-94cea4f97fee",
   "metadata": {},
   "source": [
    "And execute directly, as in the previous execution, with the same result"
   ]
  },
  {
   "cell_type": "code",
   "execution_count": null,
   "id": "0d2be5f7-5b0e-4e8b-8288-2e4a301d5204",
   "metadata": {
    "tags": []
   },
   "outputs": [],
   "source": [
    "response = newrelic.execute(query)\n",
    "print_response(response)"
   ]
  },
  {
   "attachments": {},
   "cell_type": "markdown",
   "id": "80d8317b-aaf7-4e4f-974d-46e39bf82407",
   "metadata": {},
   "source": [
    "## Playground area"
   ]
  },
  {
   "attachments": {},
   "cell_type": "markdown",
   "id": "838c9d87-03e7-4d45-8412-49ea69f7a644",
   "metadata": {},
   "source": [
    "### List all available service levels"
   ]
  },
  {
   "cell_type": "code",
   "execution_count": null,
   "id": "001862bf-7adf-4531-9d1b-7477e7974405",
   "metadata": {},
   "outputs": [],
   "source": [
    "template = \"\"\"\n",
    "{\n",
    "    actor {\n",
    "        entitySearch(query: \"type IN ('SERVICE_LEVEL')\") {\n",
    "            count\n",
    "            query\n",
    "            results {\n",
    "                nextCursor\n",
    "                entities {\n",
    "                    accountId\n",
    "                    alertSeverity\n",
    "                    domain\n",
    "                    entityType\n",
    "                    firstIndexedAt\n",
    "                    guid\n",
    "                    indexedAt\n",
    "                    lastReportingChangeAt\n",
    "                    name\n",
    "                    permalink\n",
    "                    reporting\n",
    "                    type\n",
    "                }\n",
    "            }\n",
    "        }\n",
    "    }\n",
    "}\n",
    "\"\"\"\n",
    "\n",
    "params = {\n",
    "    \"cursor\": NULL_CURSOR,\n",
    "}\n",
    "\n",
    "query = newrelic.build_query(\n",
    "    template,\n",
    "    params=params,\n",
    ")"
   ]
  },
  {
   "cell_type": "code",
   "execution_count": null,
   "id": "dbc4f4e2-4841-48e9-8358-821bbb9cad32",
   "metadata": {
    "tags": []
   },
   "outputs": [],
   "source": [
    "response = newrelic.execute(query)"
   ]
  },
  {
   "cell_type": "code",
   "execution_count": null,
   "id": "140e8745-8b26-49a1-951b-2e8895b52b1b",
   "metadata": {
    "tags": []
   },
   "outputs": [],
   "source": [
    "service_level_count = get_response_data(\n",
    "    response, key_path=\"entitySearch:count\", action=\"actor\"\n",
    ")\n",
    "service_level_count"
   ]
  },
  {
   "cell_type": "code",
   "execution_count": null,
   "id": "23e47914-f720-41d9-af23-b15861d22821",
   "metadata": {
    "tags": []
   },
   "outputs": [],
   "source": [
    "service_level_list = get_response_data(\n",
    "    response, key_path=\"entitySearch:results:entities\", action=\"actor\"\n",
    ")\n",
    "len(service_level_list)"
   ]
  },
  {
   "cell_type": "code",
   "execution_count": null,
   "id": "3f7f8c67-5686-4511-9287-93980f3309a6",
   "metadata": {
    "tags": []
   },
   "outputs": [],
   "source": [
    "service_level_list[0]"
   ]
  },
  {
   "cell_type": "code",
   "execution_count": null,
   "id": "a73c67ad-b7c8-46b6-b79a-d559af34f5aa",
   "metadata": {
    "tags": []
   },
   "outputs": [],
   "source": [
    "next_cursor = get_response_data(\n",
    "    response, key_path=\"entitySearch:results:nextCursor\", action=\"actor\"\n",
    ")\n",
    "next_cursor"
   ]
  },
  {
   "attachments": {},
   "cell_type": "markdown",
   "id": "96654a3b-4d98-43b6-b669-fa4a4db85a17",
   "metadata": {},
   "source": [
    "### Get a single service level"
   ]
  },
  {
   "cell_type": "code",
   "execution_count": null,
   "id": "8eb6c19d-239f-4379-a942-61bd07058c7a",
   "metadata": {
    "tags": []
   },
   "outputs": [],
   "source": [
    "service_level_guid = service_level_list[0][\"guid\"]"
   ]
  },
  {
   "cell_type": "code",
   "execution_count": null,
   "id": "7c863dfd-d650-405a-82de-ffa3c15b5f88",
   "metadata": {},
   "outputs": [],
   "source": [
    "template = \"\"\"\n",
    "{\n",
    "    actor {\n",
    "        entity(guid: \"%(service_level_guid)s\") {\n",
    "            accountId\n",
    "            alertSeverity\n",
    "            domain\n",
    "            entityType\n",
    "            firstIndexedAt\n",
    "            guid\n",
    "            indexedAt\n",
    "            lastReportingChangeAt\n",
    "            name\n",
    "            permalink\n",
    "            reporting\n",
    "            type\n",
    "        }\n",
    "    }\n",
    "}\n",
    "\"\"\"\n",
    "\n",
    "params = {\n",
    "    \"service_level_guid\": service_level_guid,\n",
    "}\n",
    "\n",
    "query = newrelic.build_query(\n",
    "    template,\n",
    "    params=params,\n",
    ")"
   ]
  },
  {
   "cell_type": "code",
   "execution_count": null,
   "id": "1ae41cc3-66b6-4dc6-9fcc-26e9d146b023",
   "metadata": {
    "tags": []
   },
   "outputs": [],
   "source": [
    "response = newrelic.execute(query)"
   ]
  },
  {
   "cell_type": "code",
   "execution_count": null,
   "id": "35716159-69c7-4ff4-955c-63dbe5fe02f1",
   "metadata": {
    "tags": []
   },
   "outputs": [],
   "source": [
    "serivce_level = get_response_data(response, key_path=\"entity\", action=\"actor\")\n",
    "serivce_level"
   ]
  },
  {
   "attachments": {},
   "cell_type": "markdown",
   "id": "90ed3f20-e8e5-4761-987d-323b90a817f0",
   "metadata": {},
   "source": [
    "### Task: Create a service level"
   ]
  },
  {
   "cell_type": "code",
   "execution_count": null,
   "id": "eeb0efe5-3722-4039-b68a-ec4afc8cf7a1",
   "metadata": {
    "tags": []
   },
   "outputs": [],
   "source": [
    "template = \"\"\"\n",
    "    write your query here!\n",
    "\"\"\"\n",
    "\n",
    "params = {\n",
    "    \"account_id\": NEW_RELIC_ACCOUNT_ID,\n",
    "}\n",
    "\n",
    "query = newrelic.build_query(\n",
    "    template,\n",
    "    params=params,\n",
    ")"
   ]
  },
  {
   "cell_type": "code",
   "execution_count": null,
   "id": "dbdd786e-2ebd-4c54-95d7-408643633af6",
   "metadata": {
    "tags": []
   },
   "outputs": [],
   "source": [
    "response = newrelic.execute(query)"
   ]
  },
  {
   "cell_type": "code",
   "execution_count": null,
   "id": "04643a57-0c20-4318-b29b-1045701d3660",
   "metadata": {
    "tags": []
   },
   "outputs": [],
   "source": [
    "created_service_level = get_response_data(response, action=\"put your key here\")\n",
    "created_service_level"
   ]
  },
  {
   "cell_type": "code",
   "execution_count": null,
   "id": "5f49c144-8f9f-4edb-ab6a-c5e937cbbaec",
   "metadata": {},
   "outputs": [],
   "source": []
  }
 ],
 "metadata": {
  "kernelspec": {
   "display_name": "Python 3 (ipykernel)",
   "language": "python",
   "name": "python3"
  },
  "language_info": {
   "codemirror_mode": {
    "name": "ipython",
    "version": 3
   },
   "file_extension": ".py",
   "mimetype": "text/x-python",
   "name": "python",
   "nbconvert_exporter": "python",
   "pygments_lexer": "ipython3",
   "version": "3.11.2"
  },
  "toc-autonumbering": false
 },
 "nbformat": 4,
 "nbformat_minor": 5
}
