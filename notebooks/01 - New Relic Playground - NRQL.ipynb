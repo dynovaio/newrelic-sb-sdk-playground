{
 "cells": [
  {
   "cell_type": "markdown",
   "id": "807d6ace-1686-40d1-bb29-fc782e496106",
   "metadata": {},
   "source": [
    "<div style=\"display:flex;\">\n",
    "<img alt=\"New Relic\" style=\"display:block;height:64px\" src=\"https://gitlab.com/softbutterfly/open-source/open-source-office/-/raw/master/banners/borderless/brands/new_relic.png\" />\n",
    "<img alt=\"SoftButterfly\" style=\"display:block;height:64px;margin-left:auto\" src=\"https://gitlab.com/softbutterfly/open-source/open-source-office/-/raw/master/banners/borderless/softbutterfly.png\" />\n",
    "</div>"
   ]
  },
  {
   "cell_type": "markdown",
   "id": "614fa965-b8b7-4e38-92f0-0927ecb53bb0",
   "metadata": {},
   "source": [
    "# New Relic Playground"
   ]
  },
  {
   "cell_type": "markdown",
   "id": "33c8ad3e-1f13-4aa6-9b8d-e24ebf100e09",
   "metadata": {},
   "source": [
    "## Imports"
   ]
  },
  {
   "cell_type": "markdown",
   "id": "5621a06f-4a7d-47c0-bbab-2a2889b8e4d5",
   "metadata": {},
   "source": [
    "Python Imports"
   ]
  },
  {
   "cell_type": "code",
   "execution_count": null,
   "id": "18a35a7a-406b-4727-bc31-bc45d46f4dfb",
   "metadata": {
    "tags": []
   },
   "outputs": [],
   "source": [
    "import json\n",
    "import os\n",
    "from textwrap import dedent"
   ]
  },
  {
   "cell_type": "markdown",
   "id": "c6cd0397-3793-41b8-976c-e967025ac741",
   "metadata": {},
   "source": [
    "Third-party libraries"
   ]
  },
  {
   "cell_type": "code",
   "execution_count": null,
   "id": "aa727d86-43a0-48f4-8992-bd00a1c9d4fb",
   "metadata": {
    "tags": []
   },
   "outputs": [],
   "source": [
    "import dotenv\n",
    "import matplotlib as mpl\n",
    "import matplotlib.pyplot as plt\n",
    "import numpy as np\n",
    "import pandas as pd\n",
    "from requests import Session"
   ]
  },
  {
   "cell_type": "markdown",
   "id": "1cc530e3-2c65-4657-b3e2-22d479289d65",
   "metadata": {},
   "source": [
    "## Useful definitions"
   ]
  },
  {
   "cell_type": "code",
   "execution_count": null,
   "id": "c6902873-9b04-46f1-b158-78cf0f0f2059",
   "metadata": {
    "tags": []
   },
   "outputs": [],
   "source": [
    "NULL_CURSOR = json.dumps(None)"
   ]
  },
  {
   "cell_type": "code",
   "execution_count": null,
   "id": "9b18785f-dbba-4679-9712-b6c1fcbf713c",
   "metadata": {
    "tags": []
   },
   "outputs": [],
   "source": [
    "def build_query(query_string, query_params=None):\n",
    "    if query_params is None:\n",
    "        query_params = {}\n",
    "\n",
    "    return dedent(query_string.strip()) % query_params"
   ]
  },
  {
   "cell_type": "code",
   "execution_count": null,
   "id": "a13486ba-7549-4efa-be8d-485ecbf50476",
   "metadata": {
    "tags": []
   },
   "outputs": [],
   "source": [
    "def get_response_data(response, key_path=None, action=\"actor\"):\n",
    "    data = response.json().get(\"data\").get(action)\n",
    "\n",
    "    if key_path is not None:\n",
    "        for key in key_path.split(\":\"):\n",
    "            if key.isdecimal() and isinstance(data, list):\n",
    "                data = data[int(key)]\n",
    "            else:\n",
    "                data = data.get(key)\n",
    "\n",
    "    return data"
   ]
  },
  {
   "cell_type": "code",
   "execution_count": null,
   "id": "fba39c91-e760-4c3c-ba5a-b40fbd87fe26",
   "metadata": {
    "tags": []
   },
   "outputs": [],
   "source": [
    "class NewRelicGqlClient(Session):\n",
    "    \"\"\"Client for New Relic GraphQL API.\"\"\"\n",
    "\n",
    "    url: str = \"https://api.newrelic.com/graphql\"\n",
    "\n",
    "    def __init__(self, new_relic_user_key=None):\n",
    "        super().__init__()\n",
    "\n",
    "        self.headers.update(\n",
    "            {\n",
    "                \"Content-Type\": \"application/json\",\n",
    "                \"API-Key\": new_relic_user_key,\n",
    "            }\n",
    "        )\n",
    "\n",
    "    def execute(self, query, variables=None, **kwargs):\n",
    "        data = json.dumps(\n",
    "            {\n",
    "                \"query\": query,\n",
    "                \"variables\": variables,\n",
    "            },\n",
    "        )\n",
    "        return self.post(self.url, data=data, **kwargs)"
   ]
  },
  {
   "cell_type": "markdown",
   "id": "beb1edbf-adaf-488c-bf5b-b84ce28ced41",
   "metadata": {
    "tags": []
   },
   "source": [
    "## Client setup"
   ]
  },
  {
   "cell_type": "markdown",
   "id": "d4a8f754-2c5b-4f87-8a4a-5d2e2de92fd6",
   "metadata": {},
   "source": [
    "Load credentials"
   ]
  },
  {
   "cell_type": "code",
   "execution_count": null,
   "id": "b02b6aab-5188-42a0-818c-fd616094c844",
   "metadata": {
    "tags": []
   },
   "outputs": [],
   "source": [
    "env_file = \"../.env\"\n",
    "\n",
    "dotenv.load_dotenv(env_file)\n",
    "\n",
    "NEW_RELIC_USER_KEY = os.environ.get(\"NEW_RELIC_USER_KEY\", None)\n",
    "NEW_RELIC_ACCOUNT_ID = os.environ.get(\"NEW_RELIC_ACCOUNT_ID\", None)\n",
    "\n",
    "if NEW_RELIC_USER_KEY is None:\n",
    "    raise ValueError(\"Environment variable NEW_RELIC_USER_KEY is not set.\")\n",
    "\n",
    "if NEW_RELIC_ACCOUNT_ID is None:\n",
    "    raise ValueError(\"Environment variable NEW_RELIC_ACCOUNT_ID is not set.\")"
   ]
  },
  {
   "cell_type": "markdown",
   "id": "15e4625c-efd2-46fa-8852-739a7dec4751",
   "metadata": {},
   "source": [
    "Client instantiation"
   ]
  },
  {
   "cell_type": "code",
   "execution_count": null,
   "id": "492b6552-fa9f-46cc-9c4a-1819248237a0",
   "metadata": {
    "tags": []
   },
   "outputs": [],
   "source": [
    "newrelic = NewRelicGqlClient(NEW_RELIC_USER_KEY)"
   ]
  },
  {
   "cell_type": "markdown",
   "id": "d74a200f-bd53-4624-918c-31fd3b1588ac",
   "metadata": {},
   "source": [
    "Define test query"
   ]
  },
  {
   "cell_type": "code",
   "execution_count": null,
   "id": "35235588-e428-4c7a-acf1-09028fb700e7",
   "metadata": {
    "tags": []
   },
   "outputs": [],
   "source": [
    "query = build_query(\n",
    "    \"\"\"\n",
    "        {\n",
    "            actor {\n",
    "                user {\n",
    "                    email\n",
    "                    name\n",
    "                    id\n",
    "                }\n",
    "            }\n",
    "        }\n",
    "    \"\"\"\n",
    ")"
   ]
  },
  {
   "cell_type": "markdown",
   "id": "b49b3c4e-2153-47ec-baa6-61660a828536",
   "metadata": {},
   "source": [
    "Executing query"
   ]
  },
  {
   "cell_type": "code",
   "execution_count": null,
   "id": "dc782628-5196-4248-aa4d-aa0c6cad433c",
   "metadata": {
    "tags": []
   },
   "outputs": [],
   "source": [
    "response = newrelic.execute(query)"
   ]
  },
  {
   "cell_type": "markdown",
   "id": "c3e3b29e-53e8-4718-9b58-ab192a3191e6",
   "metadata": {},
   "source": [
    "Looking for response data"
   ]
  },
  {
   "cell_type": "code",
   "execution_count": null,
   "id": "7da0bfce-f28b-44b8-aeda-a27ac7ca1eea",
   "metadata": {
    "tags": []
   },
   "outputs": [],
   "source": [
    "print(\n",
    "    json.dumps(\n",
    "        get_response_data(\n",
    "            response,\n",
    "            action=\"actor\",\n",
    "        ),\n",
    "        indent=4,\n",
    "    )\n",
    ")"
   ]
  },
  {
   "cell_type": "markdown",
   "id": "282f7dd0-f83d-4eb6-b889-0d38e7a3f747",
   "metadata": {
    "tags": []
   },
   "source": [
    "## Playground area"
   ]
  },
  {
   "cell_type": "markdown",
   "id": "8fcd5130-81a6-42e7-afbb-bd3280e846ae",
   "metadata": {
    "tags": []
   },
   "source": [
    "### Doint NRQL with the API"
   ]
  },
  {
   "cell_type": "code",
   "execution_count": null,
   "id": "adcb85b2-e56d-4554-8171-1986d64da877",
   "metadata": {
    "tags": []
   },
   "outputs": [],
   "source": [
    "query_string = \"\"\"\n",
    "    {\n",
    "        actor {\n",
    "            nrql(\n",
    "                query: \"SELECT * FROM Transaction\",\n",
    "                accounts: %(account_id)d,\n",
    "            ) {\n",
    "                nrql\n",
    "                results\n",
    "            }\n",
    "        }\n",
    "    }\n",
    "\"\"\"\n",
    "\n",
    "query_params = {\n",
    "    \"account_id\": int(NEW_RELIC_ACCOUNT_ID),\n",
    "}\n",
    "\n",
    "query = build_query(\n",
    "    query_string=query_string,\n",
    "    query_params=query_params,\n",
    ")"
   ]
  },
  {
   "cell_type": "code",
   "execution_count": null,
   "id": "9f7c8694-79b1-41f8-b66d-70ee7775ef74",
   "metadata": {
    "tags": []
   },
   "outputs": [],
   "source": [
    "response = newrelic.execute(query)"
   ]
  },
  {
   "cell_type": "code",
   "execution_count": null,
   "id": "9bb908ba-13a6-4c26-b3c7-c6ac425c6a6d",
   "metadata": {
    "tags": []
   },
   "outputs": [],
   "source": [
    "results = get_response_data(\n",
    "    response,\n",
    "    key_path=\"nrql:results\",\n",
    "    action=\"actor\",\n",
    ")"
   ]
  },
  {
   "cell_type": "code",
   "execution_count": null,
   "id": "4ba25773-6e2b-4054-a274-ed9e90b8955d",
   "metadata": {
    "tags": []
   },
   "outputs": [],
   "source": [
    "results_df = pd.DataFrame(\n",
    "    data=results,\n",
    ")"
   ]
  },
  {
   "cell_type": "code",
   "execution_count": null,
   "id": "376f3d72-fd9f-4a9f-9706-b21a81f6a911",
   "metadata": {
    "tags": []
   },
   "outputs": [],
   "source": [
    "results_df"
   ]
  },
  {
   "cell_type": "code",
   "execution_count": null,
   "id": "9b79769b-69b7-4870-85e3-79828f2446a4",
   "metadata": {
    "tags": []
   },
   "outputs": [],
   "source": [
    "query_string = \"\"\"\n",
    "    {\n",
    "        actor {\n",
    "            nrql(\n",
    "                query: \"FROM Transaction SELECT average(duration) FACET appName SINCE 1 hour ago TIMESERIES 1 minute\",\n",
    "                accounts: %(account_id)d,\n",
    "            ) {\n",
    "                nrql\n",
    "                results\n",
    "            }\n",
    "        }\n",
    "    }\n",
    "\"\"\"\n",
    "\n",
    "query_params = {\n",
    "    \"account_id\": int(NEW_RELIC_ACCOUNT_ID),\n",
    "}\n",
    "\n",
    "query = build_query(\n",
    "    query_string=query_string,\n",
    "    query_params=query_params,\n",
    ")"
   ]
  },
  {
   "cell_type": "code",
   "execution_count": null,
   "id": "2b37bfbb-d3e5-4880-bbda-5731d9246e86",
   "metadata": {
    "tags": []
   },
   "outputs": [],
   "source": [
    "response = newrelic.execute(query)"
   ]
  },
  {
   "cell_type": "code",
   "execution_count": null,
   "id": "6cc9ec4b-ea12-4373-a86e-875fccd154d6",
   "metadata": {
    "tags": []
   },
   "outputs": [],
   "source": [
    "results = get_response_data(\n",
    "    response,\n",
    "    key_path=\"nrql:results\",\n",
    "    action=\"actor\",\n",
    ")"
   ]
  },
  {
   "cell_type": "code",
   "execution_count": null,
   "id": "7e0a12c0-23af-4da9-8762-f64d0fb742a1",
   "metadata": {
    "tags": []
   },
   "outputs": [],
   "source": [
    "results_df = pd.DataFrame(\n",
    "    data=results,\n",
    ")"
   ]
  },
  {
   "cell_type": "code",
   "execution_count": null,
   "id": "40c03f43-5a94-4477-a98d-d08bea561705",
   "metadata": {
    "tags": []
   },
   "outputs": [],
   "source": [
    "results_df"
   ]
  },
  {
   "cell_type": "code",
   "execution_count": null,
   "id": "a828fe69-6bf5-46de-99de-7d8cf2c26430",
   "metadata": {
    "tags": []
   },
   "outputs": [],
   "source": [
    "app_names = results_df[\"appName\"].unique()"
   ]
  },
  {
   "cell_type": "code",
   "execution_count": null,
   "id": "67028da3-6a82-48fd-a752-383166e73c19",
   "metadata": {
    "tags": []
   },
   "outputs": [],
   "source": [
    "app_names"
   ]
  },
  {
   "cell_type": "code",
   "execution_count": null,
   "id": "b5f6c882-6fbe-4666-afc1-20fabef24b62",
   "metadata": {
    "tags": []
   },
   "outputs": [],
   "source": [
    "plt.clf()\n",
    "\n",
    "fig = plt.figure(0, figsize=(10, 5))\n",
    "axs = fig.add_subplot(1, 1, 1)\n",
    "\n",
    "for app_name in app_names:\n",
    "    data = results_df.query(\"appName == @app_name\")\n",
    "    data = data[[\"beginTimeSeconds\", \"average.duration\"]]\n",
    "    data[\"beginTimeSeconds\"] = pd.to_datetime(\n",
    "        data[\"beginTimeSeconds\"],\n",
    "        unit=\"s\",\n",
    "    )\n",
    "\n",
    "    axs.plot(\n",
    "        data[\"beginTimeSeconds\"],\n",
    "        data[\"average.duration\"],\n",
    "        label=app_name,\n",
    "        marker=\".\",\n",
    "    )\n",
    "\n",
    "fig.legend(\n",
    "    frameon=False,\n",
    "    loc=\"lower center\",\n",
    "    ncols=3,\n",
    "    bbox_to_anchor=(0.5, -0.1),\n",
    ")\n",
    "\n",
    "fig.tight_layout()\n",
    "\n",
    "plt.show()"
   ]
  },
  {
   "cell_type": "markdown",
   "id": "6fe6a0e2-da1e-44e6-be5c-c7c35361699c",
   "metadata": {
    "tags": []
   },
   "source": [
    "### It's your turn!"
   ]
  },
  {
   "cell_type": "markdown",
   "id": "2f487d32-36d1-4832-b0f9-8c1222df1c9a",
   "metadata": {},
   "source": [
    "From now on you can use the client defined in the previous section to make your queries to the New Relic GraphQL API"
   ]
  },
  {
   "cell_type": "code",
   "execution_count": null,
   "id": "be0052db-032a-48b4-8bc1-7996256957ed",
   "metadata": {
    "tags": []
   },
   "outputs": [],
   "source": [
    "# Put your code here :D"
   ]
  }
 ],
 "metadata": {
  "kernelspec": {
   "display_name": "Python 3 (ipykernel)",
   "language": "python",
   "name": "python3"
  },
  "language_info": {
   "codemirror_mode": {
    "name": "ipython",
    "version": 3
   },
   "file_extension": ".py",
   "mimetype": "text/x-python",
   "name": "python",
   "nbconvert_exporter": "python",
   "pygments_lexer": "ipython3",
   "version": "3.9.16"
  },
  "toc-autonumbering": true,
  "toc-showcode": true,
  "toc-showmarkdowntxt": true
 },
 "nbformat": 4,
 "nbformat_minor": 5
}
