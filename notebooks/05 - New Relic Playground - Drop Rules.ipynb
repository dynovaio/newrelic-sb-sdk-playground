{
 "cells": [
  {
   "attachments": {},
   "cell_type": "markdown",
   "id": "0096201a-4ac7-48ec-9eb9-ad760f85fb86",
   "metadata": {},
   "source": [
    "<div style=\"display:flex;\">\n",
    "<img alt=\"New Relic\" style=\"display:block;height:64px\" src=\"https://gitlab.com/softbutterfly/open-source/open-source-office/-/raw/master/banners/borderless/brands/new_relic.png\" />\n",
    "<img alt=\"SoftButterfly\" style=\"display:block;height:64px;margin-left:auto\" src=\"https://gitlab.com/softbutterfly/open-source/open-source-office/-/raw/master/banners/borderless/softbutterfly.png\" />\n",
    "</div>"
   ]
  },
  {
   "attachments": {},
   "cell_type": "markdown",
   "id": "75ad1bb3-9b6a-4750-83c0-d7df744d312a",
   "metadata": {},
   "source": [
    "# New Relic Playground"
   ]
  },
  {
   "attachments": {},
   "cell_type": "markdown",
   "id": "d618e4dc-6e67-4293-98ff-5c9b21d06668",
   "metadata": {},
   "source": [
    "## Imports"
   ]
  },
  {
   "attachments": {},
   "cell_type": "markdown",
   "id": "a90c851a-989b-4fe4-98d0-ac249e3c7026",
   "metadata": {},
   "source": [
    "Python Imports"
   ]
  },
  {
   "cell_type": "code",
   "execution_count": null,
   "id": "6ac9b34c-897d-44b3-89cf-4d3201b96afb",
   "metadata": {
    "tags": []
   },
   "outputs": [],
   "source": [
    "import os\n",
    "from datetime import datetime"
   ]
  },
  {
   "attachments": {},
   "cell_type": "markdown",
   "id": "9e533ad5-fdac-4eca-8257-28e55db7bf6d",
   "metadata": {},
   "source": [
    "Third-party libraries"
   ]
  },
  {
   "cell_type": "code",
   "execution_count": null,
   "id": "d89942a7-7178-4892-a3e9-05fbb02542dd",
   "metadata": {
    "tags": []
   },
   "outputs": [],
   "source": [
    "import dotenv\n",
    "import pandas as pd\n",
    "from newrelic_sb_sdk.client import NewRelicGqlClient\n",
    "from newrelic_sb_sdk.utils.response import get_response_data, print_response"
   ]
  },
  {
   "attachments": {},
   "cell_type": "markdown",
   "id": "672faa17-69c9-4f84-be0b-0957837deac3",
   "metadata": {
    "tags": []
   },
   "source": [
    "## Client setup"
   ]
  },
  {
   "attachments": {},
   "cell_type": "markdown",
   "id": "e20df4d6-b734-45ce-a29e-52abdb729a39",
   "metadata": {},
   "source": [
    "Load credentials"
   ]
  },
  {
   "cell_type": "code",
   "execution_count": null,
   "id": "a9421d70-2adb-4204-a005-e5558b6c865b",
   "metadata": {
    "tags": []
   },
   "outputs": [],
   "source": [
    "env_file = \"../.env\"\n",
    "\n",
    "dotenv.load_dotenv(env_file)\n",
    "\n",
    "NEW_RELIC_USER_KEY = os.environ.get(\"NEW_RELIC_USER_KEY\", None)\n",
    "NEW_RELIC_ACCOUNT_ID = os.environ.get(\"NEW_RELIC_ACCOUNT_ID\", None)\n",
    "\n",
    "if NEW_RELIC_USER_KEY is None:\n",
    "    raise ValueError(\"Environment variable NEW_RELIC_USER_KEY is not set.\")\n",
    "\n",
    "if NEW_RELIC_ACCOUNT_ID is None:\n",
    "    raise ValueError(\"Environment variable NEW_RELIC_ACCOUNT_ID is not set.\")"
   ]
  },
  {
   "attachments": {},
   "cell_type": "markdown",
   "id": "db66cc8a-5133-484e-9ecd-1c2c52ef1b7f",
   "metadata": {},
   "source": [
    "Client instantiation"
   ]
  },
  {
   "cell_type": "code",
   "execution_count": null,
   "id": "9d95735b-2c96-4a8f-892c-4adce4824cce",
   "metadata": {
    "tags": []
   },
   "outputs": [],
   "source": [
    "newrelic = NewRelicGqlClient(new_relic_user_key=NEW_RELIC_USER_KEY)"
   ]
  },
  {
   "attachments": {},
   "cell_type": "markdown",
   "id": "af571db8-e30b-4c97-9894-0093c95f0b07",
   "metadata": {},
   "source": [
    "Define test query"
   ]
  },
  {
   "cell_type": "code",
   "execution_count": null,
   "id": "1ff4a983-a698-4ccc-922d-a44bf2d7d31d",
   "metadata": {
    "tags": []
   },
   "outputs": [],
   "source": [
    "query = newrelic.build_query(\n",
    "    \"\"\"\n",
    "        {\n",
    "            actor {\n",
    "                user {\n",
    "                    email\n",
    "                    name\n",
    "                    id\n",
    "                }\n",
    "            }\n",
    "        }\n",
    "    \"\"\",\n",
    "    {},\n",
    ")"
   ]
  },
  {
   "attachments": {},
   "cell_type": "markdown",
   "id": "a82442db-8b0f-404a-b43d-026d9c9ca734",
   "metadata": {},
   "source": [
    "Executing query"
   ]
  },
  {
   "cell_type": "code",
   "execution_count": null,
   "id": "a37554d1-26d1-439c-9cfc-e72a24f36acd",
   "metadata": {
    "tags": []
   },
   "outputs": [],
   "source": [
    "response = newrelic.execute(query)"
   ]
  },
  {
   "attachments": {},
   "cell_type": "markdown",
   "id": "6c66a5b0-e010-43ef-b38b-803dcdc7f876",
   "metadata": {},
   "source": [
    "Looking for response data"
   ]
  },
  {
   "cell_type": "code",
   "execution_count": null,
   "id": "2a0a3c5d-1591-4146-a840-5c75c1bb2c9e",
   "metadata": {
    "tags": []
   },
   "outputs": [],
   "source": [
    "print_response(response)"
   ]
  },
  {
   "attachments": {},
   "cell_type": "markdown",
   "id": "80d8317b-aaf7-4e4f-974d-46e39bf82407",
   "metadata": {},
   "source": [
    "## Playground area"
   ]
  },
  {
   "attachments": {},
   "cell_type": "markdown",
   "id": "838c9d87-03e7-4d45-8412-49ea69f7a644",
   "metadata": {},
   "source": [
    "### Get data from NRQL"
   ]
  },
  {
   "cell_type": "code",
   "execution_count": null,
   "id": "001862bf-7adf-4531-9d1b-7477e7974405",
   "metadata": {},
   "outputs": [],
   "source": [
    "query_string = \"\"\"\n",
    "{\n",
    "    actor {\n",
    "        account(id: %(account_id)d) {\n",
    "            name\n",
    "            id\n",
    "        }\n",
    "        nrql(\n",
    "            accounts: %(account_id)d,\n",
    "            query: \"FROM Metric SELECT * WHERE integrationName = 'nri-prometheus'\"\n",
    "        ) {\n",
    "            results\n",
    "        }\n",
    "    }\n",
    "}\n",
    "\n",
    "\"\"\"\n",
    "\n",
    "query_params = {\n",
    "    \"account_id\": int(NEW_RELIC_ACCOUNT_ID),\n",
    "}\n",
    "\n",
    "query = newrelic.build_query(\n",
    "    query_string=query_string,\n",
    "    query_params=query_params,\n",
    ")"
   ]
  },
  {
   "cell_type": "code",
   "execution_count": null,
   "id": "dbc4f4e2-4841-48e9-8358-821bbb9cad32",
   "metadata": {
    "tags": []
   },
   "outputs": [],
   "source": [
    "response = newrelic.execute(query)"
   ]
  },
  {
   "cell_type": "code",
   "execution_count": null,
   "id": "140e8745-8b26-49a1-951b-2e8895b52b1b",
   "metadata": {
    "tags": []
   },
   "outputs": [],
   "source": [
    "account_details = get_response_data(\n",
    "    response,\n",
    "    key_path=\"account\",\n",
    "    action=\"actor\",\n",
    ")\n",
    "account_details"
   ]
  },
  {
   "cell_type": "code",
   "execution_count": null,
   "id": "23e47914-f720-41d9-af23-b15861d22821",
   "metadata": {
    "tags": []
   },
   "outputs": [],
   "source": [
    "nrql_results = get_response_data(\n",
    "    response,\n",
    "    key_path=\"nrql:results\",\n",
    "    action=\"actor\",\n",
    ")\n",
    "len(nrql_results)"
   ]
  },
  {
   "cell_type": "code",
   "execution_count": null,
   "id": "3f7f8c67-5686-4511-9287-93980f3309a6",
   "metadata": {
    "tags": []
   },
   "outputs": [],
   "source": [
    "nrql_results[0]"
   ]
  },
  {
   "cell_type": "code",
   "execution_count": null,
   "id": "a73c67ad-b7c8-46b6-b79a-d559af34f5aa",
   "metadata": {
    "tags": []
   },
   "outputs": [],
   "source": [
    "nrql_results_df = pd.DataFrame(\n",
    "    data=nrql_results,\n",
    ")\n",
    "nrql_results_df"
   ]
  },
  {
   "attachments": {},
   "cell_type": "markdown",
   "id": "96654a3b-4d98-43b6-b669-fa4a4db85a17",
   "metadata": {},
   "source": [
    "### Creating drop rule"
   ]
  },
  {
   "cell_type": "code",
   "execution_count": null,
   "id": "7c863dfd-d650-405a-82de-ffa3c15b5f88",
   "metadata": {},
   "outputs": [],
   "source": [
    "query_string = \"\"\"\n",
    "mutation {\n",
    "    nrqlDropRulesCreate(\n",
    "        accountId: %(account_id)d,\n",
    "        rules: {\n",
    "            action: DROP_DATA,\n",
    "            description: \"Drop dat from Prometheus integration.\",\n",
    "            nrql: \"FROM Metric SELECT * WHERE integrationName = 'nri-prometheus'\"\n",
    "        }\n",
    "    ) {\n",
    "        failures {\n",
    "            error {\n",
    "                description\n",
    "                reason\n",
    "            }\n",
    "            submitted {\n",
    "                accountId\n",
    "                action\n",
    "                description\n",
    "                nrql\n",
    "            }\n",
    "        }\n",
    "        successes {\n",
    "            id\n",
    "            source\n",
    "            nrql\n",
    "        }\n",
    "    }\n",
    "}\n",
    "\n",
    "\"\"\"\n",
    "\n",
    "query_params = {\n",
    "    \"account_id\": int(NEW_RELIC_ACCOUNT_ID),\n",
    "}\n",
    "\n",
    "query = newrelic.build_query(\n",
    "    query_string=query_string,\n",
    "    query_params=query_params,\n",
    ")"
   ]
  },
  {
   "cell_type": "code",
   "execution_count": null,
   "id": "1ae41cc3-66b6-4dc6-9fcc-26e9d146b023",
   "metadata": {
    "tags": []
   },
   "outputs": [],
   "source": [
    "response = newrelic.execute(query)"
   ]
  },
  {
   "cell_type": "code",
   "execution_count": null,
   "id": "35716159-69c7-4ff4-955c-63dbe5fe02f1",
   "metadata": {
    "tags": []
   },
   "outputs": [],
   "source": [
    "failures = get_response_data(\n",
    "    response,\n",
    "    key_path=\"failures\",\n",
    "    action=\"nrqlDropRulesCreate\",\n",
    ")\n",
    "failures"
   ]
  },
  {
   "cell_type": "code",
   "execution_count": null,
   "id": "d81c5994-e2f7-481d-a333-6ca048984826",
   "metadata": {
    "tags": []
   },
   "outputs": [],
   "source": [
    "successes = get_response_data(\n",
    "    response,\n",
    "    key_path=\"successes\",\n",
    "    action=\"nrqlDropRulesCreate\",\n",
    ")\n",
    "successes"
   ]
  },
  {
   "attachments": {},
   "cell_type": "markdown",
   "id": "90ed3f20-e8e5-4761-987d-323b90a817f0",
   "metadata": {},
   "source": [
    "### Look at ingested data"
   ]
  },
  {
   "cell_type": "code",
   "execution_count": null,
   "id": "ce8a4c35-46cf-4b41-92f8-a1ebad1092cb",
   "metadata": {},
   "outputs": [],
   "source": [
    "query_string = \"\"\"\n",
    "{\n",
    "    actor {\n",
    "        account(id: %(account_id)d) {\n",
    "            name\n",
    "            id\n",
    "        }\n",
    "        nrql(\n",
    "            accounts: %(account_id)d,\n",
    "            query: \"FROM Metric SELECT latest(timestamp) WHERE integrationName = 'nri-prometheus'\"\n",
    "        ) {\n",
    "            results\n",
    "        }\n",
    "    }\n",
    "}\n",
    "\"\"\"\n",
    "\n",
    "query_params = {\n",
    "    \"account_id\": int(NEW_RELIC_ACCOUNT_ID),\n",
    "}\n",
    "\n",
    "query = newrelic.build_query(\n",
    "    query_string=query_string,\n",
    "    query_params=query_params,\n",
    ")"
   ]
  },
  {
   "cell_type": "code",
   "execution_count": null,
   "id": "dbdd786e-2ebd-4c54-95d7-408643633af6",
   "metadata": {
    "tags": []
   },
   "outputs": [],
   "source": [
    "response = newrelic.execute(query)"
   ]
  },
  {
   "cell_type": "code",
   "execution_count": null,
   "id": "04643a57-0c20-4318-b29b-1045701d3660",
   "metadata": {
    "tags": []
   },
   "outputs": [],
   "source": [
    "latest_timestamp = get_response_data(\n",
    "    response,\n",
    "    key_path=\"nrql:results:0:latest.timestamp\",\n",
    "    action=\"actor\",\n",
    ")\n",
    "latest_timestamp"
   ]
  },
  {
   "cell_type": "code",
   "execution_count": null,
   "id": "5f49c144-8f9f-4edb-ab6a-c5e937cbbaec",
   "metadata": {},
   "outputs": [],
   "source": [
    "latest_ingest_date = datetime.fromtimestamp(latest_timestamp / 1000)\n",
    "\n",
    "\n",
    "print(latest_ingest_date)"
   ]
  },
  {
   "cell_type": "code",
   "execution_count": null,
   "id": "9d161ed0-13aa-41dc-ba22-b81bb03ec4e1",
   "metadata": {},
   "outputs": [],
   "source": []
  }
 ],
 "metadata": {
  "kernelspec": {
   "display_name": "Python 3 (ipykernel)",
   "language": "python",
   "name": "python3"
  },
  "language_info": {
   "codemirror_mode": {
    "name": "ipython",
    "version": 3
   },
   "file_extension": ".py",
   "mimetype": "text/x-python",
   "name": "python",
   "nbconvert_exporter": "python",
   "pygments_lexer": "ipython3",
   "version": "3.9.16"
  },
  "toc-autonumbering": false
 },
 "nbformat": 4,
 "nbformat_minor": 5
}
