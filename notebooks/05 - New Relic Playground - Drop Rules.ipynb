{
 "cells": [
  {
   "cell_type": "markdown",
   "id": "0096201a-4ac7-48ec-9eb9-ad760f85fb86",
   "metadata": {},
   "source": [
    "<div style=\"display:flex;\">\n",
    "<img alt=\"New Relic\" style=\"display:block;height:64px\" src=\"https://gitlab.com/softbutterfly/open-source/open-source-office/-/raw/master/banners/borderless/brands/new_relic.png\" />\n",
    "<img alt=\"SoftButterfly\" style=\"display:block;height:64px;margin-left:auto\" src=\"https://gitlab.com/softbutterfly/open-source/open-source-office/-/raw/master/banners/borderless/softbutterfly.png\" />\n",
    "</div>"
   ]
  },
  {
   "cell_type": "markdown",
   "id": "614fa965-b8b7-4e38-92f0-0927ecb53bb0",
   "metadata": {},
   "source": [
    "# New Relic Playground"
   ]
  },
  {
   "cell_type": "markdown",
   "id": "33c8ad3e-1f13-4aa6-9b8d-e24ebf100e09",
   "metadata": {},
   "source": [
    "## Imports"
   ]
  },
  {
   "cell_type": "markdown",
   "id": "5621a06f-4a7d-47c0-bbab-2a2889b8e4d5",
   "metadata": {},
   "source": [
    "Python Imports"
   ]
  },
  {
   "cell_type": "code",
   "execution_count": null,
   "id": "18a35a7a-406b-4727-bc31-bc45d46f4dfb",
   "metadata": {
    "tags": []
   },
   "outputs": [],
   "source": [
    "import json\n",
    "import os\n",
    "from datetime import datetime\n",
    "from textwrap import dedent"
   ]
  },
  {
   "cell_type": "markdown",
   "id": "c6cd0397-3793-41b8-976c-e967025ac741",
   "metadata": {},
   "source": [
    "Third-party libraries"
   ]
  },
  {
   "cell_type": "code",
   "execution_count": null,
   "id": "aa727d86-43a0-48f4-8992-bd00a1c9d4fb",
   "metadata": {
    "tags": []
   },
   "outputs": [],
   "source": [
    "import dotenv\n",
    "import matplotlib as mpl\n",
    "import matplotlib.pyplot as plt\n",
    "import numpy as np\n",
    "import pandas as pd\n",
    "import requests\n",
    "from requests import Session, request"
   ]
  },
  {
   "cell_type": "markdown",
   "id": "1cc530e3-2c65-4657-b3e2-22d479289d65",
   "metadata": {},
   "source": [
    "## Useful definitions"
   ]
  },
  {
   "cell_type": "code",
   "execution_count": null,
   "id": "c6902873-9b04-46f1-b158-78cf0f0f2059",
   "metadata": {
    "tags": []
   },
   "outputs": [],
   "source": [
    "NULL_CURSOR = json.dumps(None)"
   ]
  },
  {
   "cell_type": "code",
   "execution_count": null,
   "id": "9b18785f-dbba-4679-9712-b6c1fcbf713c",
   "metadata": {
    "tags": []
   },
   "outputs": [],
   "source": [
    "def build_query(query_string, query_params=None):\n",
    "    if query_params is None:\n",
    "        query_params = {}\n",
    "\n",
    "    return dedent(query_string.strip()) % query_params"
   ]
  },
  {
   "cell_type": "code",
   "execution_count": null,
   "id": "a13486ba-7549-4efa-be8d-485ecbf50476",
   "metadata": {
    "tags": []
   },
   "outputs": [],
   "source": [
    "def get_response_data(response, key_path=None, action=\"actor\"):\n",
    "    data = response.json().get(\"data\").get(action)\n",
    "\n",
    "    if key_path is not None:\n",
    "        for key in key_path.split(\":\"):\n",
    "            if key.isdecimal() and isinstance(data, list):\n",
    "                data = data[int(key)]\n",
    "            else:\n",
    "                data = data.get(key)\n",
    "\n",
    "    return data"
   ]
  },
  {
   "cell_type": "code",
   "execution_count": null,
   "id": "fba39c91-e760-4c3c-ba5a-b40fbd87fe26",
   "metadata": {
    "tags": []
   },
   "outputs": [],
   "source": [
    "class NewRelicGqlClient(Session):\n",
    "    \"\"\"Client for New Relic GraphQL API.\"\"\"\n",
    "\n",
    "    url: str = \"https://api.newrelic.com/graphql\"\n",
    "\n",
    "    def __init__(self, new_relic_user_key=None):\n",
    "        super().__init__()\n",
    "\n",
    "        self.headers.update(\n",
    "            {\n",
    "                \"Content-Type\": \"application/json\",\n",
    "                \"API-Key\": new_relic_user_key,\n",
    "            }\n",
    "        )\n",
    "\n",
    "    def execute(self, query, variables=None, **kwargs):\n",
    "        data = json.dumps(\n",
    "            {\n",
    "                \"query\": query,\n",
    "                \"variables\": variables,\n",
    "            },\n",
    "        )\n",
    "        return self.post(self.url, data=data, **kwargs)"
   ]
  },
  {
   "cell_type": "markdown",
   "id": "beb1edbf-adaf-488c-bf5b-b84ce28ced41",
   "metadata": {
    "tags": []
   },
   "source": [
    "## Client setup"
   ]
  },
  {
   "cell_type": "markdown",
   "id": "d4a8f754-2c5b-4f87-8a4a-5d2e2de92fd6",
   "metadata": {},
   "source": [
    "Load credentials"
   ]
  },
  {
   "cell_type": "code",
   "execution_count": null,
   "id": "b02b6aab-5188-42a0-818c-fd616094c844",
   "metadata": {
    "tags": []
   },
   "outputs": [],
   "source": [
    "env_file = \"../.env\"\n",
    "\n",
    "dotenv.load_dotenv(env_file)\n",
    "\n",
    "NEW_RELIC_USER_KEY = os.environ.get(\"NEW_RELIC_USER_KEY\", None)\n",
    "NEW_RELIC_ACCOUNT_ID = os.environ.get(\"NEW_RELIC_ACCOUNT_ID\", None)\n",
    "\n",
    "if NEW_RELIC_USER_KEY is None:\n",
    "    raise ValueError(\"Environment variable NEW_RELIC_USER_KEY is not set.\")\n",
    "\n",
    "if NEW_RELIC_ACCOUNT_ID is None:\n",
    "    raise ValueError(\"Environment variable NEW_RELIC_ACCOUNT_ID is not set.\")"
   ]
  },
  {
   "cell_type": "markdown",
   "id": "15e4625c-efd2-46fa-8852-739a7dec4751",
   "metadata": {},
   "source": [
    "Client instantiation"
   ]
  },
  {
   "cell_type": "code",
   "execution_count": null,
   "id": "492b6552-fa9f-46cc-9c4a-1819248237a0",
   "metadata": {
    "tags": []
   },
   "outputs": [],
   "source": [
    "newrelic = NewRelicGqlClient(NEW_RELIC_USER_KEY)"
   ]
  },
  {
   "cell_type": "markdown",
   "id": "d74a200f-bd53-4624-918c-31fd3b1588ac",
   "metadata": {},
   "source": [
    "Define test query"
   ]
  },
  {
   "cell_type": "code",
   "execution_count": null,
   "id": "35235588-e428-4c7a-acf1-09028fb700e7",
   "metadata": {
    "tags": []
   },
   "outputs": [],
   "source": [
    "query = build_query(\n",
    "    \"\"\"\n",
    "        {\n",
    "            actor {\n",
    "                user {\n",
    "                    email\n",
    "                    name\n",
    "                    id\n",
    "                }\n",
    "            }\n",
    "        }\n",
    "    \"\"\"\n",
    ")"
   ]
  },
  {
   "cell_type": "markdown",
   "id": "b49b3c4e-2153-47ec-baa6-61660a828536",
   "metadata": {},
   "source": [
    "Executing query"
   ]
  },
  {
   "cell_type": "code",
   "execution_count": null,
   "id": "dc782628-5196-4248-aa4d-aa0c6cad433c",
   "metadata": {
    "tags": []
   },
   "outputs": [],
   "source": [
    "response = newrelic.execute(query)"
   ]
  },
  {
   "cell_type": "markdown",
   "id": "c3e3b29e-53e8-4718-9b58-ab192a3191e6",
   "metadata": {},
   "source": [
    "Looking for response data"
   ]
  },
  {
   "cell_type": "code",
   "execution_count": null,
   "id": "7da0bfce-f28b-44b8-aeda-a27ac7ca1eea",
   "metadata": {
    "tags": []
   },
   "outputs": [],
   "source": [
    "print(\n",
    "    json.dumps(\n",
    "        get_response_data(\n",
    "            response,\n",
    "            action=\"actor\",\n",
    "        ),\n",
    "        indent=4,\n",
    "    )\n",
    ")"
   ]
  },
  {
   "cell_type": "markdown",
   "id": "80d8317b-aaf7-4e4f-974d-46e39bf82407",
   "metadata": {},
   "source": [
    "## Playground area"
   ]
  },
  {
   "cell_type": "markdown",
   "id": "838c9d87-03e7-4d45-8412-49ea69f7a644",
   "metadata": {},
   "source": [
    "### Get data from NRQL"
   ]
  },
  {
   "cell_type": "code",
   "execution_count": null,
   "id": "001862bf-7adf-4531-9d1b-7477e7974405",
   "metadata": {},
   "outputs": [],
   "source": [
    "query_string = \"\"\"\n",
    "{\n",
    "    actor {\n",
    "        account(id: %(account_id)d) {\n",
    "            name\n",
    "            id\n",
    "        }\n",
    "        nrql(\n",
    "            accounts: %(account_id)d,\n",
    "            query: \"FROM Metric SELECT * WHERE integrationName = 'nri-prometheus'\"\n",
    "        ) {\n",
    "            results\n",
    "        }\n",
    "    }\n",
    "}\n",
    "\n",
    "\"\"\"\n",
    "\n",
    "query_params = {\n",
    "    \"account_id\": int(NEW_RELIC_ACCOUNT_ID),\n",
    "}\n",
    "\n",
    "query = build_query(\n",
    "    query_string=query_string,\n",
    "    query_params=query_params,\n",
    ")"
   ]
  },
  {
   "cell_type": "code",
   "execution_count": null,
   "id": "dbc4f4e2-4841-48e9-8358-821bbb9cad32",
   "metadata": {
    "tags": []
   },
   "outputs": [],
   "source": [
    "response = newrelic.execute(query)"
   ]
  },
  {
   "cell_type": "code",
   "execution_count": null,
   "id": "140e8745-8b26-49a1-951b-2e8895b52b1b",
   "metadata": {
    "tags": []
   },
   "outputs": [],
   "source": [
    "account_details = get_response_data(\n",
    "    response,\n",
    "    key_path=\"account\",\n",
    "    action=\"actor\",\n",
    ")\n",
    "account_details"
   ]
  },
  {
   "cell_type": "code",
   "execution_count": null,
   "id": "23e47914-f720-41d9-af23-b15861d22821",
   "metadata": {
    "tags": []
   },
   "outputs": [],
   "source": [
    "nrql_results = get_response_data(\n",
    "    response,\n",
    "    key_path=\"nrql:results\",\n",
    "    action=\"actor\",\n",
    ")\n",
    "len(nrql_results)"
   ]
  },
  {
   "cell_type": "code",
   "execution_count": null,
   "id": "3f7f8c67-5686-4511-9287-93980f3309a6",
   "metadata": {
    "tags": []
   },
   "outputs": [],
   "source": [
    "nrql_results[0]"
   ]
  },
  {
   "cell_type": "code",
   "execution_count": null,
   "id": "a73c67ad-b7c8-46b6-b79a-d559af34f5aa",
   "metadata": {
    "tags": []
   },
   "outputs": [],
   "source": [
    "nrql_results_df = pd.DataFrame(\n",
    "    data=nrql_results,\n",
    ")\n",
    "nrql_results_df"
   ]
  },
  {
   "cell_type": "markdown",
   "id": "96654a3b-4d98-43b6-b669-fa4a4db85a17",
   "metadata": {},
   "source": [
    "### Creating drop rule"
   ]
  },
  {
   "cell_type": "code",
   "execution_count": null,
   "id": "7c863dfd-d650-405a-82de-ffa3c15b5f88",
   "metadata": {},
   "outputs": [],
   "source": [
    "query_string = \"\"\"\n",
    "mutation {\n",
    "    nrqlDropRulesCreate(\n",
    "        accountId: %(account_id)d,\n",
    "        rules: {\n",
    "            action: DROP_DATA,\n",
    "            description: \"Drop dat from Prometheus integration.\",\n",
    "            nrql: \"FROM Metric SELECT * WHERE integrationName = 'nri-prometheus'\"\n",
    "        }\n",
    "    ) {\n",
    "        failures {\n",
    "            error {\n",
    "                description\n",
    "                reason\n",
    "            }\n",
    "            submitted {\n",
    "                accountId\n",
    "                action\n",
    "                description\n",
    "                nrql\n",
    "            }\n",
    "        }\n",
    "        successes {\n",
    "            id\n",
    "            source\n",
    "            nrql\n",
    "        }\n",
    "    }\n",
    "}\n",
    "\n",
    "\"\"\"\n",
    "\n",
    "query_params = {\n",
    "    \"account_id\": int(NEW_RELIC_ACCOUNT_ID),\n",
    "}\n",
    "\n",
    "query = build_query(\n",
    "    query_string=query_string,\n",
    "    query_params=query_params,\n",
    ")"
   ]
  },
  {
   "cell_type": "code",
   "execution_count": null,
   "id": "1ae41cc3-66b6-4dc6-9fcc-26e9d146b023",
   "metadata": {
    "tags": []
   },
   "outputs": [],
   "source": [
    "response = newrelic.execute(query)"
   ]
  },
  {
   "cell_type": "code",
   "execution_count": null,
   "id": "35716159-69c7-4ff4-955c-63dbe5fe02f1",
   "metadata": {
    "tags": []
   },
   "outputs": [],
   "source": [
    "failures = get_response_data(\n",
    "    response,\n",
    "    key_path=\"failures\",\n",
    "    action=\"nrqlDropRulesCreate\",\n",
    ")\n",
    "failures"
   ]
  },
  {
   "cell_type": "code",
   "execution_count": null,
   "id": "d81c5994-e2f7-481d-a333-6ca048984826",
   "metadata": {
    "tags": []
   },
   "outputs": [],
   "source": [
    "successes = get_response_data(\n",
    "    response,\n",
    "    key_path=\"successes\",\n",
    "    action=\"nrqlDropRulesCreate\",\n",
    ")\n",
    "successes"
   ]
  },
  {
   "cell_type": "markdown",
   "id": "90ed3f20-e8e5-4761-987d-323b90a817f0",
   "metadata": {},
   "source": [
    "### Look at ingested data"
   ]
  },
  {
   "cell_type": "code",
   "execution_count": null,
   "id": "ce8a4c35-46cf-4b41-92f8-a1ebad1092cb",
   "metadata": {},
   "outputs": [],
   "source": [
    "query_string = \"\"\"\n",
    "{\n",
    "    actor {\n",
    "        account(id: %(account_id)d) {\n",
    "            name\n",
    "            id\n",
    "        }\n",
    "        nrql(\n",
    "            accounts: %(account_id)d,\n",
    "            query: \"FROM Metric SELECT latest(timestamp) WHERE integrationName = 'nri-prometheus'\"\n",
    "        ) {\n",
    "            results\n",
    "        }\n",
    "    }\n",
    "}\n",
    "\"\"\"\n",
    "\n",
    "query_params = {\n",
    "    \"account_id\": int(NEW_RELIC_ACCOUNT_ID),\n",
    "}\n",
    "\n",
    "query = build_query(\n",
    "    query_string=query_string,\n",
    "    query_params=query_params,\n",
    ")"
   ]
  },
  {
   "cell_type": "code",
   "execution_count": null,
   "id": "dbdd786e-2ebd-4c54-95d7-408643633af6",
   "metadata": {
    "tags": []
   },
   "outputs": [],
   "source": [
    "response = newrelic.execute(query)"
   ]
  },
  {
   "cell_type": "code",
   "execution_count": null,
   "id": "04643a57-0c20-4318-b29b-1045701d3660",
   "metadata": {
    "tags": []
   },
   "outputs": [],
   "source": [
    "latest_timestamp = get_response_data(\n",
    "    response,\n",
    "    key_path=\"nrql:results:0:latest.timestamp\",\n",
    "    action=\"actor\",\n",
    ")\n",
    "latest_timestamp"
   ]
  },
  {
   "cell_type": "code",
   "execution_count": null,
   "id": "5f49c144-8f9f-4edb-ab6a-c5e937cbbaec",
   "metadata": {},
   "outputs": [],
   "source": [
    "latest_ingest_date = datetime.fromtimestamp(latest_timestamp / 1000)\n",
    "\n",
    "\n",
    "print(latest_ingest_date)"
   ]
  },
  {
   "cell_type": "code",
   "execution_count": null,
   "id": "9d161ed0-13aa-41dc-ba22-b81bb03ec4e1",
   "metadata": {},
   "outputs": [],
   "source": []
  }
 ],
 "metadata": {
  "kernelspec": {
   "display_name": "Python 3 (ipykernel)",
   "language": "python",
   "name": "python3"
  },
  "language_info": {
   "codemirror_mode": {
    "name": "ipython",
    "version": 3
   },
   "file_extension": ".py",
   "mimetype": "text/x-python",
   "name": "python",
   "nbconvert_exporter": "python",
   "pygments_lexer": "ipython3",
   "version": "3.9.16"
  },
  "toc-autonumbering": false
 },
 "nbformat": 4,
 "nbformat_minor": 5
}
