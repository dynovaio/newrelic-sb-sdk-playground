{
 "cells": [
  {
   "cell_type": "markdown",
   "id": "175db683",
   "metadata": {},
   "source": [
    "<div style=\"display:flex;\">\n",
    "<img alt=\"New Relic\" style=\"display:block;height:64px\" src=\"https://raw.githubusercontent.com/dynovaio/open-source-office/refs/heads/master/assets/brands/new_relic.png\" />\n",
    "<img alt=\"SoftButterfly\" style=\"display:block;height:64px;margin-left:auto\" src=\"https://raw.githubusercontent.com/dynovaio/open-source-office/refs/heads/master/assets/dynova/dynova-logo-195x64.png\" />\n",
    "</div>"
   ]
  },
  {
   "attachments": {},
   "cell_type": "markdown",
   "id": "07295442-6c89-4162-a568-77af0cd154d8",
   "metadata": {},
   "source": [
    "# New Relic Playground 5: Drop Rules"
   ]
  },
  {
   "attachments": {},
   "cell_type": "markdown",
   "id": "3e1ed517-9091-4a53-8570-f8bba344080a",
   "metadata": {},
   "source": [
    "## Imports"
   ]
  },
  {
   "attachments": {},
   "cell_type": "markdown",
   "id": "6566f349-f297-4652-8bab-61bf7346d73f",
   "metadata": {},
   "source": [
    "Python Imports"
   ]
  },
  {
   "cell_type": "code",
   "execution_count": null,
   "id": "2c38efc6-c184-4c97-ba25-99fc94a7dc80",
   "metadata": {
    "tags": []
   },
   "outputs": [],
   "source": [
    "import os\n",
    "from datetime import datetime"
   ]
  },
  {
   "attachments": {},
   "cell_type": "markdown",
   "id": "cf8091d3-d93e-4db0-b77c-9a349671a2de",
   "metadata": {},
   "source": [
    "Third-party libraries"
   ]
  },
  {
   "cell_type": "code",
   "execution_count": null,
   "id": "0aae9dcb-85ee-4c0f-81e2-e332c7944e62",
   "metadata": {
    "tags": []
   },
   "outputs": [],
   "source": [
    "import dotenv\n",
    "import pandas as pd\n",
    "from newrelic_sb_sdk.client import NewRelicGqlClient\n",
    "from newrelic_sb_sdk.graphql import nerdgraph\n",
    "from newrelic_sb_sdk.graphql.enums import NrqlDropRulesAction\n",
    "from newrelic_sb_sdk.graphql.input_objects import NrqlDropRulesCreateDropRuleInput\n",
    "from newrelic_sb_sdk.graphql.objects import RootMutationType, RootQueryType\n",
    "from newrelic_sb_sdk.utils.response import get_response_data, print_response\n",
    "from sgqlc.operation import Operation"
   ]
  },
  {
   "cell_type": "code",
   "execution_count": null,
   "id": "32b38b86-4745-48cc-9868-86fa316cb29f",
   "metadata": {},
   "outputs": [],
   "source": [
    "NrqlDropRulesCreateDropRuleInput"
   ]
  },
  {
   "cell_type": "code",
   "execution_count": null,
   "id": "c493e460-5618-4ef8-bbb3-88748426ee72",
   "metadata": {},
   "outputs": [],
   "source": [
    "NrqlDropRulesAction"
   ]
  },
  {
   "attachments": {},
   "cell_type": "markdown",
   "id": "4149fd10-335b-44e3-9c95-1125386e2ffe",
   "metadata": {
    "tags": []
   },
   "source": [
    "## Client setup"
   ]
  },
  {
   "attachments": {},
   "cell_type": "markdown",
   "id": "6c7f4bce-be7a-48fa-9881-36092c4f69ae",
   "metadata": {},
   "source": [
    "To setup the client, first we need to open load the credentials from environment variables."
   ]
  },
  {
   "cell_type": "code",
   "execution_count": null,
   "id": "00055e0b-bc86-4725-a0da-ca6da3f02cbb",
   "metadata": {
    "tags": []
   },
   "outputs": [],
   "source": [
    "env_file = \"../.env\"\n",
    "\n",
    "dotenv.load_dotenv(env_file)\n",
    "\n",
    "NEW_RELIC_USER_KEY = os.environ.get(\"NEW_RELIC_USER_KEY\", None)\n",
    "\n",
    "if NEW_RELIC_USER_KEY is None:\n",
    "    raise ValueError(\"Environment variable NEW_RELIC_USER_KEY is not set.\")\n",
    "\n",
    "NEW_RELIC_ACCOUNT_ID = os.environ.get(\"NEW_RELIC_ACCOUNT_ID\", None)\n",
    "\n",
    "if NEW_RELIC_ACCOUNT_ID is None:\n",
    "    raise ValueError(\"Environment variable NEW_RELIC_ACCOUNT_ID is not set.\")"
   ]
  },
  {
   "attachments": {},
   "cell_type": "markdown",
   "id": "ec5872c7-eb7f-488b-9366-3795e274276d",
   "metadata": {},
   "source": [
    "With environment varaibles loaded, we can proceed to instantiate the client"
   ]
  },
  {
   "cell_type": "code",
   "execution_count": null,
   "id": "b80aa2f7-2ef1-429b-a95a-cb33b03473bf",
   "metadata": {
    "tags": []
   },
   "outputs": [],
   "source": [
    "newrelic = NewRelicGqlClient(new_relic_user_key=NEW_RELIC_USER_KEY)"
   ]
  },
  {
   "attachments": {},
   "cell_type": "markdown",
   "id": "0674bc77-c7fc-4a58-9de0-6acfc1b5f644",
   "metadata": {
    "tags": []
   },
   "source": [
    "## Client testing"
   ]
  },
  {
   "attachments": {},
   "cell_type": "markdown",
   "id": "db765f4a-3a2b-469b-a4c2-ca694206a4c2",
   "metadata": {},
   "source": [
    "In order to use an test the client we need configure `query_type` and `mutation_type` for the `nerdgraph` schema"
   ]
  },
  {
   "cell_type": "code",
   "execution_count": null,
   "id": "20ae93da-3321-4cd9-9b60-7efa4d5877b4",
   "metadata": {},
   "outputs": [],
   "source": [
    "nerdgraph.query_type = RootQueryType\n",
    "nerdgraph.mutation_type = RootMutationType"
   ]
  },
  {
   "attachments": {},
   "cell_type": "markdown",
   "id": "a7c3c631-5b9e-4f03-96bc-17dea6283619",
   "metadata": {},
   "source": [
    "For testing we will use a simple query in GraphQL to get the atttributes from our user\n",
    "\n",
    "```gql\n",
    "query {\n",
    "  actor {\n",
    "    user {\n",
    "      email\n",
    "      id\n",
    "      name\n",
    "    }\n",
    "  }\n",
    "}\n",
    "```\n",
    "\n",
    "This query will be build from the `nerdgraph` schema."
   ]
  },
  {
   "cell_type": "code",
   "execution_count": null,
   "id": "8d27094f-ff16-4643-93c7-718a66b31d2f",
   "metadata": {},
   "outputs": [],
   "source": [
    "# Declare an operation from the `query_type` in `nerdgraph`\n",
    "operation = Operation(nerdgraph.query_type)\n",
    "\n",
    "# Get the fields `id`, `email`, `name` from the `user` entity inside `actor`\n",
    "operation.actor.user.__fields__(\"id\", \"email\", \"name\")"
   ]
  },
  {
   "attachments": {},
   "cell_type": "markdown",
   "id": "1a8843a8-9550-4057-aa7f-93d7dc9e1a2a",
   "metadata": {},
   "source": [
    "This operation can be transformed into a GraphQL query"
   ]
  },
  {
   "cell_type": "code",
   "execution_count": null,
   "id": "e389af67-e630-4574-abef-5ffdf9e4f3bc",
   "metadata": {},
   "outputs": [],
   "source": [
    "query = operation.__to_graphql__()\n",
    "print(query)"
   ]
  },
  {
   "attachments": {},
   "cell_type": "markdown",
   "id": "5eb85823-b8fa-4507-880e-e8654249f6ed",
   "metadata": {},
   "source": [
    "And this query is the one we send to be executed by our client."
   ]
  },
  {
   "cell_type": "code",
   "execution_count": null,
   "id": "e193f059-8815-48b1-bd7e-eba334a278ae",
   "metadata": {
    "tags": []
   },
   "outputs": [],
   "source": [
    "response = newrelic.execute(query)"
   ]
  },
  {
   "attachments": {},
   "cell_type": "markdown",
   "id": "e7729d28-9abd-4754-81a5-79a02f94dc6d",
   "metadata": {},
   "source": [
    "The response data obtained is"
   ]
  },
  {
   "cell_type": "code",
   "execution_count": null,
   "id": "c2977409-9baf-4404-8713-93a337aaaaaa",
   "metadata": {
    "tags": []
   },
   "outputs": [],
   "source": [
    "print_response(response)"
   ]
  },
  {
   "attachments": {},
   "cell_type": "markdown",
   "id": "1eda93d5-1ea2-424e-8d5d-e92c2f4151c7",
   "metadata": {},
   "source": [
    "We can also use the raw query directly written by hand. For this is recomendable to use the `build_query` method in order to get a clean query."
   ]
  },
  {
   "cell_type": "code",
   "execution_count": null,
   "id": "19442b1b-04a5-48d6-b007-f3cdb14de512",
   "metadata": {
    "tags": []
   },
   "outputs": [],
   "source": [
    "query = newrelic.build_query(\n",
    "    \"\"\"\n",
    "        {\n",
    "            actor {\n",
    "                user {\n",
    "                    email\n",
    "                    name\n",
    "                    id\n",
    "                }\n",
    "            }\n",
    "        }\n",
    "    \"\"\"\n",
    ")"
   ]
  },
  {
   "attachments": {},
   "cell_type": "markdown",
   "id": "66ed0520-be76-4794-b5f5-ad97fbf3f395",
   "metadata": {},
   "source": [
    "And execute directly, as in the previous execution, with the same result"
   ]
  },
  {
   "cell_type": "code",
   "execution_count": null,
   "id": "7631844c-1622-4746-b37d-32130d83a059",
   "metadata": {
    "tags": []
   },
   "outputs": [],
   "source": [
    "response = newrelic.execute(query)\n",
    "print_response(response)"
   ]
  },
  {
   "attachments": {},
   "cell_type": "markdown",
   "id": "80d8317b-aaf7-4e4f-974d-46e39bf82407",
   "metadata": {},
   "source": [
    "## Playground area"
   ]
  },
  {
   "cell_type": "markdown",
   "id": "18058666-f511-4404-bbbd-0a4e7041e2f5",
   "metadata": {},
   "source": [
    "### Drop Rules management tasks with Nerdgraph"
   ]
  },
  {
   "attachments": {},
   "cell_type": "markdown",
   "id": "838c9d87-03e7-4d45-8412-49ea69f7a644",
   "metadata": {},
   "source": [
    "### Example 01: Get data from NRQL"
   ]
  },
  {
   "cell_type": "markdown",
   "id": "0e3bdce0-3c39-493f-94e6-b0d5803dd95a",
   "metadata": {},
   "source": [
    "Using a raw NRQL query we can get data from NRQL with this"
   ]
  },
  {
   "cell_type": "code",
   "execution_count": null,
   "id": "001862bf-7adf-4531-9d1b-7477e7974405",
   "metadata": {},
   "outputs": [],
   "source": [
    "template = \"\"\"\n",
    "{\n",
    "    actor {\n",
    "        account(id: %(account_id)d) {\n",
    "            name\n",
    "            id\n",
    "        }\n",
    "        nrql(\n",
    "            accounts: %(account_id)d,\n",
    "            query: \"FROM Metric SELECT * WHERE integrationName = 'nri-prometheus'\"\n",
    "        ) {\n",
    "            results\n",
    "        }\n",
    "    }\n",
    "}\n",
    "\n",
    "\"\"\"\n",
    "\n",
    "params = {\n",
    "    \"account_id\": int(NEW_RELIC_ACCOUNT_ID),\n",
    "}\n",
    "\n",
    "query = newrelic.build_query(\n",
    "    template,\n",
    "    params=params,\n",
    ")"
   ]
  },
  {
   "cell_type": "code",
   "execution_count": null,
   "id": "dbc4f4e2-4841-48e9-8358-821bbb9cad32",
   "metadata": {
    "tags": []
   },
   "outputs": [],
   "source": [
    "response = newrelic.execute(query)"
   ]
  },
  {
   "cell_type": "code",
   "execution_count": null,
   "id": "6022da57-6da9-4fd1-9840-eeb6dc6b0c47",
   "metadata": {
    "tags": []
   },
   "outputs": [],
   "source": [
    "account_details = get_response_data(\n",
    "    response,\n",
    "    key_path=\"account\",\n",
    "    action=\"actor\",\n",
    ")\n",
    "account_details"
   ]
  },
  {
   "cell_type": "code",
   "execution_count": null,
   "id": "23e47914-f720-41d9-af23-b15861d22821",
   "metadata": {
    "tags": []
   },
   "outputs": [],
   "source": [
    "nrql_results = get_response_data(\n",
    "    response,\n",
    "    key_path=\"nrql:results\",\n",
    "    action=\"actor\",\n",
    ")\n",
    "len(nrql_results)"
   ]
  },
  {
   "cell_type": "code",
   "execution_count": null,
   "id": "3f7f8c67-5686-4511-9287-93980f3309a6",
   "metadata": {
    "tags": []
   },
   "outputs": [],
   "source": [
    "nrql_results[0]"
   ]
  },
  {
   "cell_type": "code",
   "execution_count": null,
   "id": "a73c67ad-b7c8-46b6-b79a-d559af34f5aa",
   "metadata": {
    "tags": []
   },
   "outputs": [],
   "source": [
    "nrql_results_df = pd.DataFrame(\n",
    "    data=nrql_results,\n",
    ")\n",
    "nrql_results_df"
   ]
  },
  {
   "cell_type": "markdown",
   "id": "0341007a-8d55-4cbb-a8d8-ab8fd7db0bc9",
   "metadata": {},
   "source": [
    "We can also use the Operation and nerdgraph object in the following way"
   ]
  },
  {
   "cell_type": "code",
   "execution_count": null,
   "id": "127da1d6-d89c-4f80-8028-3e8c8db4f514",
   "metadata": {},
   "outputs": [],
   "source": [
    "# Declare an operation from the `query_type` in `nerdgraph`\n",
    "operation = Operation(nerdgraph.query_type)\n",
    "operation.actor.account(id=NEW_RELIC_ACCOUNT_ID).__fields__(\"name\", \"id\")\n",
    "(\n",
    "    operation.actor.nrql(\n",
    "        accounts=[NEW_RELIC_ACCOUNT_ID],\n",
    "        query=\"FROM Metric SELECT * WHERE integrationName = 'nri-prometheus'\",\n",
    "    ).__fields__(\"results\")\n",
    ")\n",
    "\n",
    "operation"
   ]
  },
  {
   "cell_type": "code",
   "execution_count": null,
   "id": "e16eb109-e8d4-48f4-8ee0-dfdba429d087",
   "metadata": {},
   "outputs": [],
   "source": [
    "response = newrelic.execute(operation.__to_graphql__())"
   ]
  },
  {
   "cell_type": "code",
   "execution_count": null,
   "id": "f41b7ee4-e7bc-42e2-b4ab-2ad7b98e25b1",
   "metadata": {},
   "outputs": [],
   "source": [
    "data = operation + response.json()"
   ]
  },
  {
   "cell_type": "code",
   "execution_count": null,
   "id": "ce33bb24-7bdc-4de9-a278-12ad87adf1b1",
   "metadata": {},
   "outputs": [],
   "source": [
    "data.actor.account"
   ]
  },
  {
   "cell_type": "code",
   "execution_count": null,
   "id": "97d9d994-9ad3-4224-a32b-4411d969fdec",
   "metadata": {},
   "outputs": [],
   "source": [
    "len(data.actor.nrql.results)"
   ]
  },
  {
   "attachments": {},
   "cell_type": "markdown",
   "id": "96654a3b-4d98-43b6-b669-fa4a4db85a17",
   "metadata": {},
   "source": [
    "### Example 02: Creating drop rule"
   ]
  },
  {
   "cell_type": "markdown",
   "id": "053786b6-86f9-4aab-bdba-a27c70a0a6b7",
   "metadata": {},
   "source": [
    "Using a raw NRQL query we can create drop rule with this"
   ]
  },
  {
   "cell_type": "code",
   "execution_count": null,
   "id": "7c863dfd-d650-405a-82de-ffa3c15b5f88",
   "metadata": {},
   "outputs": [],
   "source": [
    "template = \"\"\"\n",
    "mutation {\n",
    "    nrqlDropRulesCreate(\n",
    "        accountId: %(account_id)d,\n",
    "        rules: {\n",
    "            action: DROP_DATA,\n",
    "            description: \"Drop dat from Prometheus integration.\",\n",
    "            nrql: \"FROM Metric SELECT * WHERE integrationName = 'nri-prometheus'\"\n",
    "        }\n",
    "    ) {\n",
    "        failures {\n",
    "            error {\n",
    "                description\n",
    "                reason\n",
    "            }\n",
    "            submitted {\n",
    "                accountId\n",
    "                action\n",
    "                description\n",
    "                nrql\n",
    "            }\n",
    "        }\n",
    "        successes {\n",
    "            id\n",
    "            source\n",
    "            nrql\n",
    "        }\n",
    "    }\n",
    "}\n",
    "\n",
    "\"\"\"\n",
    "\n",
    "params = {\n",
    "    \"account_id\": int(NEW_RELIC_ACCOUNT_ID),\n",
    "}\n",
    "\n",
    "query = newrelic.build_query(\n",
    "    template,\n",
    "    params=params,\n",
    ")"
   ]
  },
  {
   "cell_type": "code",
   "execution_count": null,
   "id": "1ae41cc3-66b6-4dc6-9fcc-26e9d146b023",
   "metadata": {
    "tags": []
   },
   "outputs": [],
   "source": [
    "response = newrelic.execute(query)"
   ]
  },
  {
   "cell_type": "code",
   "execution_count": null,
   "id": "f8172722-eac3-4288-9653-450f5500cbd7",
   "metadata": {},
   "outputs": [],
   "source": [
    "response.json()"
   ]
  },
  {
   "cell_type": "code",
   "execution_count": null,
   "id": "35716159-69c7-4ff4-955c-63dbe5fe02f1",
   "metadata": {
    "tags": []
   },
   "outputs": [],
   "source": [
    "failures = get_response_data(\n",
    "    response,\n",
    "    key_path=\"failures\",\n",
    "    action=\"nrqlDropRulesCreate\",\n",
    ")\n",
    "failures"
   ]
  },
  {
   "cell_type": "code",
   "execution_count": null,
   "id": "d81c5994-e2f7-481d-a333-6ca048984826",
   "metadata": {
    "tags": []
   },
   "outputs": [],
   "source": [
    "successes = get_response_data(\n",
    "    response,\n",
    "    key_path=\"successes\",\n",
    "    action=\"nrqlDropRulesCreate\",\n",
    ")\n",
    "successes"
   ]
  },
  {
   "cell_type": "markdown",
   "id": "ad3ce8bc-6747-4180-bb60-e3795611da1b",
   "metadata": {},
   "source": [
    "We can also use the Operation and nerdgraph object in the following way"
   ]
  },
  {
   "cell_type": "code",
   "execution_count": null,
   "id": "833b7b11-df25-465c-9663-4530b6a6842f",
   "metadata": {},
   "outputs": [],
   "source": [
    "# Declare an operation from the `mutation_type` in `nerdgraph`\n",
    "operation = Operation(nerdgraph.mutation_type)\n",
    "drop_rule_mutate_op = operation.nrql_drop_rules_create(\n",
    "    account_id=NEW_RELIC_ACCOUNT_ID,\n",
    "    rules=[\n",
    "        NrqlDropRulesCreateDropRuleInput(\n",
    "            action=NrqlDropRulesAction.DROP_DATA,\n",
    "            description=\"Drop dat from Prometheus integration.\",\n",
    "            nrql=\"FROM Metric SELECT * WHERE integrationName = 'nri-prometheus'\",\n",
    "        )\n",
    "    ],\n",
    ")\n",
    "drop_rule_mutate_op.failures()\n",
    "drop_rule_mutate_op.successes.__fields__(\n",
    "    \"id\",\n",
    "    \"source\",\n",
    "    \"nrql\",\n",
    ")\n",
    "operation"
   ]
  },
  {
   "cell_type": "code",
   "execution_count": null,
   "id": "0c575ef1-1dd1-4ced-a4ba-a8cf1263b017",
   "metadata": {},
   "outputs": [],
   "source": [
    "response = newrelic.execute(operation.__to_graphql__())"
   ]
  },
  {
   "cell_type": "code",
   "execution_count": null,
   "id": "4f26c475-0e86-41fc-b2cd-9a0546688046",
   "metadata": {},
   "outputs": [],
   "source": [
    "data = operation + response.json()"
   ]
  },
  {
   "cell_type": "code",
   "execution_count": null,
   "id": "35aa732f-7043-4c0e-83a0-19b86d6c51d6",
   "metadata": {},
   "outputs": [],
   "source": [
    "data.nrql_drop_rules_create.failures"
   ]
  },
  {
   "cell_type": "code",
   "execution_count": null,
   "id": "bc30f392-4765-41ba-b7cb-b176783bba68",
   "metadata": {},
   "outputs": [],
   "source": [
    "data.nrql_drop_rules_create.successes"
   ]
  },
  {
   "attachments": {},
   "cell_type": "markdown",
   "id": "90ed3f20-e8e5-4761-987d-323b90a817f0",
   "metadata": {},
   "source": [
    "### Example 03: Look at ingested data"
   ]
  },
  {
   "cell_type": "markdown",
   "id": "f9624f80-69eb-4d31-be2a-3b3b3cfe1c46",
   "metadata": {},
   "source": [
    "Using a raw NRQL query we can Look at ingested data with this"
   ]
  },
  {
   "cell_type": "code",
   "execution_count": null,
   "id": "ce8a4c35-46cf-4b41-92f8-a1ebad1092cb",
   "metadata": {},
   "outputs": [],
   "source": [
    "template = \"\"\"\n",
    "{\n",
    "    actor {\n",
    "        account(id: %(account_id)d) {\n",
    "            name\n",
    "            id\n",
    "        }\n",
    "        nrql(\n",
    "            accounts: %(account_id)d,\n",
    "            query: \"FROM Metric SELECT latest(timestamp) WHERE integrationName = 'nri-prometheus'\"\n",
    "        ) {\n",
    "            results\n",
    "        }\n",
    "    }\n",
    "}\n",
    "\"\"\"\n",
    "\n",
    "params = {\n",
    "    \"account_id\": int(NEW_RELIC_ACCOUNT_ID),\n",
    "}\n",
    "\n",
    "query = newrelic.build_query(\n",
    "    template,\n",
    "    params=params,\n",
    ")"
   ]
  },
  {
   "cell_type": "code",
   "execution_count": null,
   "id": "dbdd786e-2ebd-4c54-95d7-408643633af6",
   "metadata": {
    "tags": []
   },
   "outputs": [],
   "source": [
    "response = newrelic.execute(query)"
   ]
  },
  {
   "cell_type": "code",
   "execution_count": null,
   "id": "04643a57-0c20-4318-b29b-1045701d3660",
   "metadata": {
    "tags": []
   },
   "outputs": [],
   "source": [
    "latest_timestamp = get_response_data(\n",
    "    response,\n",
    "    key_path=\"nrql:results:0:latest.timestamp\",\n",
    "    action=\"actor\",\n",
    ")\n",
    "latest_timestamp"
   ]
  },
  {
   "cell_type": "code",
   "execution_count": null,
   "id": "5f49c144-8f9f-4edb-ab6a-c5e937cbbaec",
   "metadata": {},
   "outputs": [],
   "source": [
    "latest_ingest_date = datetime.fromtimestamp(latest_timestamp / 1000)\n",
    "\n",
    "\n",
    "print(latest_ingest_date)"
   ]
  },
  {
   "cell_type": "markdown",
   "id": "b9b13aed-a92f-4fe8-8752-56e860d92eba",
   "metadata": {},
   "source": [
    "We can also use the Operation and nerdgraph object in the following way"
   ]
  },
  {
   "cell_type": "code",
   "execution_count": null,
   "id": "9d161ed0-13aa-41dc-ba22-b81bb03ec4e1",
   "metadata": {},
   "outputs": [],
   "source": [
    "# Declare an operation from the `query_type` in `nerdgraph`\n",
    "operation = Operation(nerdgraph.query_type)\n",
    "operation.actor.account(id=NEW_RELIC_ACCOUNT_ID).__fields__(\"name\", \"id\")\n",
    "operation.actor.nrql(\n",
    "    accounts=[NEW_RELIC_ACCOUNT_ID],\n",
    "    query=\"FROM Metric SELECT latest(timestamp) WHERE integrationName = 'nri-prometheus'\",\n",
    ").__fields__(\"results\")\n",
    "operation"
   ]
  },
  {
   "cell_type": "code",
   "execution_count": null,
   "id": "9def75c1-99cb-4965-a7b6-0da39caf1dcd",
   "metadata": {},
   "outputs": [],
   "source": [
    "response = newrelic.execute(operation.__to_graphql__())"
   ]
  },
  {
   "cell_type": "code",
   "execution_count": null,
   "id": "1fbac3e6-61f4-4b9b-938d-b6a38869b68b",
   "metadata": {},
   "outputs": [],
   "source": [
    "data = operation + response.json()"
   ]
  },
  {
   "cell_type": "code",
   "execution_count": null,
   "id": "33319917-a7cf-446a-aa78-c1ea738c91f6",
   "metadata": {},
   "outputs": [],
   "source": [
    "data.actor.nrql.results[0][\"latest.timestamp\"]"
   ]
  }
 ],
 "metadata": {
  "kernelspec": {
   "display_name": "Python 3 (ipykernel)",
   "language": "python",
   "name": "python3"
  },
  "language_info": {
   "codemirror_mode": {
    "name": "ipython",
    "version": 3
   },
   "file_extension": ".py",
   "mimetype": "text/x-python",
   "name": "python",
   "nbconvert_exporter": "python",
   "pygments_lexer": "ipython3",
   "version": "3.9.16"
  },
  "toc-autonumbering": false
 },
 "nbformat": 4,
 "nbformat_minor": 5
}
