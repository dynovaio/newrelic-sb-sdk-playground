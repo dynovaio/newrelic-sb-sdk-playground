{
 "cells": [
  {
   "cell_type": "markdown",
   "id": "d1a5ab82-d3bf-428b-bba7-de35f3492d22",
   "metadata": {},
   "source": [
    "<div style=\"display:flex;\">\n",
    "<img alt=\"New Relic\" style=\"display:block;height:64px\" src=\"https://gitlab.com/softbutterfly/open-source/open-source-office/-/raw/master/banners/borderless/brands/new_relic.png\" />\n",
    "<img alt=\"SoftButterfly\" style=\"display:block;height:64px;margin-left:auto\" src=\"https://gitlab.com/softbutterfly/open-source/open-source-office/-/raw/master/banners/borderless/softbutterfly.png\" />\n",
    "</div>"
   ]
  },
  {
   "cell_type": "markdown",
   "id": "614fa965-b8b7-4e38-92f0-0927ecb53bb0",
   "metadata": {},
   "source": [
    "# New Relic Playground"
   ]
  },
  {
   "cell_type": "markdown",
   "id": "33c8ad3e-1f13-4aa6-9b8d-e24ebf100e09",
   "metadata": {},
   "source": [
    "## Imports"
   ]
  },
  {
   "cell_type": "markdown",
   "id": "5621a06f-4a7d-47c0-bbab-2a2889b8e4d5",
   "metadata": {},
   "source": [
    "Python Imports"
   ]
  },
  {
   "cell_type": "code",
   "execution_count": null,
   "id": "18a35a7a-406b-4727-bc31-bc45d46f4dfb",
   "metadata": {
    "tags": []
   },
   "outputs": [],
   "source": [
    "import json\n",
    "import os\n",
    "from textwrap import dedent"
   ]
  },
  {
   "cell_type": "markdown",
   "id": "c6cd0397-3793-41b8-976c-e967025ac741",
   "metadata": {},
   "source": [
    "Third-party libraries"
   ]
  },
  {
   "cell_type": "code",
   "execution_count": null,
   "id": "aa727d86-43a0-48f4-8992-bd00a1c9d4fb",
   "metadata": {
    "tags": []
   },
   "outputs": [],
   "source": [
    "import dotenv\n",
    "import matplotlib as mpl\n",
    "import matplotlib.pyplot as plt\n",
    "import numpy as np\n",
    "import requests\n",
    "from requests import Session, request"
   ]
  },
  {
   "cell_type": "markdown",
   "id": "1cc530e3-2c65-4657-b3e2-22d479289d65",
   "metadata": {},
   "source": [
    "## Useful definitions"
   ]
  },
  {
   "cell_type": "code",
   "execution_count": null,
   "id": "c6902873-9b04-46f1-b158-78cf0f0f2059",
   "metadata": {
    "tags": []
   },
   "outputs": [],
   "source": [
    "NULL_CURSOR = json.dumps(None)"
   ]
  },
  {
   "cell_type": "code",
   "execution_count": null,
   "id": "9b18785f-dbba-4679-9712-b6c1fcbf713c",
   "metadata": {
    "tags": []
   },
   "outputs": [],
   "source": [
    "def build_query(query_string, query_params=None):\n",
    "    if query_params is None:\n",
    "        query_params = {}\n",
    "\n",
    "    return dedent(query_string.strip()) % query_params"
   ]
  },
  {
   "cell_type": "code",
   "execution_count": null,
   "id": "a13486ba-7549-4efa-be8d-485ecbf50476",
   "metadata": {
    "tags": []
   },
   "outputs": [],
   "source": [
    "def get_response_data(response, key_path=None, action=\"actor\"):\n",
    "    data = response.json().get(\"data\").get(action)\n",
    "\n",
    "    if key_path is not None:\n",
    "        for key in key_path.split(\":\"):\n",
    "            if key.isdecimal() and isinstance(data, list):\n",
    "                data = data[int(key)]\n",
    "            else:\n",
    "                data = data.get(key)\n",
    "\n",
    "    return data"
   ]
  },
  {
   "cell_type": "code",
   "execution_count": null,
   "id": "fba39c91-e760-4c3c-ba5a-b40fbd87fe26",
   "metadata": {
    "tags": []
   },
   "outputs": [],
   "source": [
    "class NewRelicGqlClient(Session):\n",
    "    \"\"\"Client for New Relic GraphQL API.\"\"\"\n",
    "\n",
    "    url: str = \"https://api.newrelic.com/graphql\"\n",
    "\n",
    "    def __init__(self, new_relic_user_key=None):\n",
    "        super().__init__()\n",
    "\n",
    "        self.headers.update(\n",
    "            {\n",
    "                \"Content-Type\": \"application/json\",\n",
    "                \"API-Key\": new_relic_user_key,\n",
    "            }\n",
    "        )\n",
    "\n",
    "    def execute(self, query, variables=None, **kwargs):\n",
    "        data = json.dumps(\n",
    "            {\n",
    "                \"query\": query,\n",
    "                \"variables\": variables,\n",
    "            },\n",
    "        )\n",
    "        return self.post(self.url, data=data, **kwargs)"
   ]
  },
  {
   "cell_type": "markdown",
   "id": "beb1edbf-adaf-488c-bf5b-b84ce28ced41",
   "metadata": {
    "tags": []
   },
   "source": [
    "## Client setup"
   ]
  },
  {
   "cell_type": "markdown",
   "id": "d4a8f754-2c5b-4f87-8a4a-5d2e2de92fd6",
   "metadata": {},
   "source": [
    "Load credentials"
   ]
  },
  {
   "cell_type": "code",
   "execution_count": null,
   "id": "b02b6aab-5188-42a0-818c-fd616094c844",
   "metadata": {
    "tags": []
   },
   "outputs": [],
   "source": [
    "env_file = \"../.env\"\n",
    "\n",
    "dotenv.load_dotenv(env_file)\n",
    "\n",
    "NEW_RELIC_USER_KEY = os.environ.get(\"NEW_RELIC_USER_KEY\", None)\n",
    "NEW_RELIC_ACCOUNT_ID = os.environ.get(\"NEW_RELIC_ACCOUNT_ID\", None)\n",
    "\n",
    "if NEW_RELIC_USER_KEY is None:\n",
    "    raise ValueError(\"Environment variable NEW_RELIC_USER_KEY is not set.\")\n",
    "\n",
    "if NEW_RELIC_ACCOUNT_ID is None:\n",
    "    raise ValueError(\"Environment variable NEW_RELIC_ACCOUNT_ID is not set.\")"
   ]
  },
  {
   "cell_type": "markdown",
   "id": "15e4625c-efd2-46fa-8852-739a7dec4751",
   "metadata": {},
   "source": [
    "Client instantiation"
   ]
  },
  {
   "cell_type": "code",
   "execution_count": null,
   "id": "492b6552-fa9f-46cc-9c4a-1819248237a0",
   "metadata": {
    "tags": []
   },
   "outputs": [],
   "source": [
    "newrelic = NewRelicGqlClient(NEW_RELIC_USER_KEY)"
   ]
  },
  {
   "cell_type": "markdown",
   "id": "d74a200f-bd53-4624-918c-31fd3b1588ac",
   "metadata": {},
   "source": [
    "Define test query"
   ]
  },
  {
   "cell_type": "code",
   "execution_count": null,
   "id": "35235588-e428-4c7a-acf1-09028fb700e7",
   "metadata": {
    "tags": []
   },
   "outputs": [],
   "source": [
    "query = build_query(\n",
    "    \"\"\"\n",
    "        {\n",
    "            actor {\n",
    "                user {\n",
    "                    email\n",
    "                    name\n",
    "                    id\n",
    "                }\n",
    "            }\n",
    "        }\n",
    "    \"\"\"\n",
    ")"
   ]
  },
  {
   "cell_type": "markdown",
   "id": "b49b3c4e-2153-47ec-baa6-61660a828536",
   "metadata": {},
   "source": [
    "Executing query"
   ]
  },
  {
   "cell_type": "code",
   "execution_count": null,
   "id": "dc782628-5196-4248-aa4d-aa0c6cad433c",
   "metadata": {
    "tags": []
   },
   "outputs": [],
   "source": [
    "response = newrelic.execute(query)"
   ]
  },
  {
   "cell_type": "markdown",
   "id": "c3e3b29e-53e8-4718-9b58-ab192a3191e6",
   "metadata": {},
   "source": [
    "Looking for response data"
   ]
  },
  {
   "cell_type": "code",
   "execution_count": null,
   "id": "7da0bfce-f28b-44b8-aeda-a27ac7ca1eea",
   "metadata": {
    "tags": []
   },
   "outputs": [],
   "source": [
    "print(\n",
    "    json.dumps(\n",
    "        get_response_data(\n",
    "            response,\n",
    "            action=\"actor\",\n",
    "        ),\n",
    "        indent=4,\n",
    "    )\n",
    ")"
   ]
  },
  {
   "cell_type": "markdown",
   "id": "80d8317b-aaf7-4e4f-974d-46e39bf82407",
   "metadata": {},
   "source": [
    "## Playground area"
   ]
  },
  {
   "cell_type": "markdown",
   "id": "838c9d87-03e7-4d45-8412-49ea69f7a644",
   "metadata": {},
   "source": [
    "### List all available policies"
   ]
  },
  {
   "cell_type": "code",
   "execution_count": null,
   "id": "001862bf-7adf-4531-9d1b-7477e7974405",
   "metadata": {},
   "outputs": [],
   "source": [
    "query_string = \"\"\"\n",
    "{\n",
    "    actor {\n",
    "        account(id: %(account_id)d) {\n",
    "            alerts {\n",
    "                policiesSearch(cursor: %(cursor)s) {\n",
    "                    policies {\n",
    "                        id\n",
    "                        incidentPreference\n",
    "                        name\n",
    "                    }\n",
    "                    totalCount\n",
    "                    nextCursor\n",
    "                }\n",
    "            }\n",
    "        }\n",
    "    }\n",
    "}\n",
    "\"\"\"\n",
    "\n",
    "query_params = {\n",
    "    \"account_id\": int(NEW_RELIC_ACCOUNT_ID),\n",
    "    \"cursor\": NULL_CURSOR,\n",
    "}\n",
    "\n",
    "query = build_query(\n",
    "    query_string=query_string,\n",
    "    query_params=query_params,\n",
    ")"
   ]
  },
  {
   "cell_type": "code",
   "execution_count": null,
   "id": "dbc4f4e2-4841-48e9-8358-821bbb9cad32",
   "metadata": {
    "tags": []
   },
   "outputs": [],
   "source": [
    "response = newrelic.execute(query)"
   ]
  },
  {
   "cell_type": "code",
   "execution_count": null,
   "id": "140e8745-8b26-49a1-951b-2e8895b52b1b",
   "metadata": {
    "tags": []
   },
   "outputs": [],
   "source": [
    "policies_count = get_response_data(\n",
    "    response, key_path=\"account:alerts:policiesSearch:totalCount\", action=\"actor\"\n",
    ")\n",
    "policies_count"
   ]
  },
  {
   "cell_type": "code",
   "execution_count": null,
   "id": "23e47914-f720-41d9-af23-b15861d22821",
   "metadata": {
    "tags": []
   },
   "outputs": [],
   "source": [
    "policies_list = get_response_data(\n",
    "    response, key_path=\"account:alerts:policiesSearch:policies\", action=\"actor\"\n",
    ")\n",
    "len(policies_list)"
   ]
  },
  {
   "cell_type": "code",
   "execution_count": null,
   "id": "3f7f8c67-5686-4511-9287-93980f3309a6",
   "metadata": {
    "tags": []
   },
   "outputs": [],
   "source": [
    "policies_list[4]"
   ]
  },
  {
   "cell_type": "code",
   "execution_count": null,
   "id": "a73c67ad-b7c8-46b6-b79a-d559af34f5aa",
   "metadata": {
    "tags": []
   },
   "outputs": [],
   "source": [
    "next_cursor = get_response_data(\n",
    "    response, key_path=\"account:alerts:policiesSearch:nextCursor\", action=\"actor\"\n",
    ")\n",
    "next_cursor"
   ]
  },
  {
   "cell_type": "markdown",
   "id": "96654a3b-4d98-43b6-b669-fa4a4db85a17",
   "metadata": {},
   "source": [
    "### Get a single policy"
   ]
  },
  {
   "cell_type": "code",
   "execution_count": null,
   "id": "8eb6c19d-239f-4379-a942-61bd07058c7a",
   "metadata": {
    "tags": []
   },
   "outputs": [],
   "source": [
    "policy_id = policies_list[4][\"id\"]"
   ]
  },
  {
   "cell_type": "code",
   "execution_count": null,
   "id": "7c863dfd-d650-405a-82de-ffa3c15b5f88",
   "metadata": {},
   "outputs": [],
   "source": [
    "query_string = \"\"\"\n",
    "{\n",
    "    actor {\n",
    "        account(id: %(account_id)d) {\n",
    "            alerts {\n",
    "                policy(id: %(policy_id)s) {\n",
    "                    id\n",
    "                    incidentPreference\n",
    "                    name\n",
    "                }\n",
    "            }\n",
    "        }\n",
    "    }\n",
    "}\n",
    "\"\"\"\n",
    "\n",
    "query_params = {\n",
    "    \"account_id\": int(NEW_RELIC_ACCOUNT_ID),\n",
    "    \"policy_id\": policy_id,\n",
    "}\n",
    "\n",
    "query = build_query(\n",
    "    query_string=query_string,\n",
    "    query_params=query_params,\n",
    ")"
   ]
  },
  {
   "cell_type": "code",
   "execution_count": null,
   "id": "1ae41cc3-66b6-4dc6-9fcc-26e9d146b023",
   "metadata": {
    "tags": []
   },
   "outputs": [],
   "source": [
    "response = newrelic.execute(query)"
   ]
  },
  {
   "cell_type": "code",
   "execution_count": null,
   "id": "35716159-69c7-4ff4-955c-63dbe5fe02f1",
   "metadata": {
    "tags": []
   },
   "outputs": [],
   "source": [
    "policy = get_response_data(response, key_path=\"account:alerts:policy\", action=\"actor\")\n",
    "policy"
   ]
  },
  {
   "cell_type": "markdown",
   "id": "0b5be956-5df4-47a4-a70d-233f97138562",
   "metadata": {},
   "source": [
    "### Get all NRQL conditions"
   ]
  },
  {
   "cell_type": "code",
   "execution_count": null,
   "id": "b336841c-8066-4ef0-8489-af49fe7c4db3",
   "metadata": {
    "tags": []
   },
   "outputs": [],
   "source": [
    "policy_id = policies_list[4][\"id\"]"
   ]
  },
  {
   "cell_type": "code",
   "execution_count": null,
   "id": "e8e75004-bd94-4033-a728-7a0d6f594804",
   "metadata": {
    "tags": []
   },
   "outputs": [],
   "source": [
    "query_string = \"\"\"\n",
    "{\n",
    "    actor {\n",
    "        account(id: %(account_id)d) {\n",
    "            alerts {\n",
    "                nrqlConditionsSearch {\n",
    "                    nextCursor\n",
    "                    totalCount\n",
    "                    nrqlConditions {\n",
    "                        id\n",
    "                        name\n",
    "                        nrql {\n",
    "                            query\n",
    "                        }\n",
    "                        policyId\n",
    "                    }\n",
    "                }\n",
    "            }\n",
    "        }\n",
    "    }\n",
    "}\n",
    "\"\"\"\n",
    "\n",
    "query_params = {\n",
    "    \"account_id\": int(NEW_RELIC_ACCOUNT_ID),\n",
    "}\n",
    "\n",
    "query = build_query(\n",
    "    query_string=query_string,\n",
    "    query_params=query_params,\n",
    ")"
   ]
  },
  {
   "cell_type": "code",
   "execution_count": null,
   "id": "7c426a7e-1eb9-42fb-942d-830832a2ddf8",
   "metadata": {
    "tags": []
   },
   "outputs": [],
   "source": [
    "response = newrelic.execute(query)"
   ]
  },
  {
   "cell_type": "code",
   "execution_count": null,
   "id": "3061e3cf-4b12-4e63-b1b6-22ee01b7cd9f",
   "metadata": {
    "tags": []
   },
   "outputs": [],
   "source": [
    "conditions_count = get_response_data(\n",
    "    response,\n",
    "    key_path=\"account:alerts:nrqlConditionsSearch:totalCount\",\n",
    "    action=\"actor\",\n",
    ")\n",
    "conditions_count"
   ]
  },
  {
   "cell_type": "code",
   "execution_count": null,
   "id": "8907e87d-2a5c-4038-8a18-445e4de4e5e6",
   "metadata": {
    "tags": []
   },
   "outputs": [],
   "source": [
    "conditions_list = get_response_data(\n",
    "    response,\n",
    "    key_path=\"account:alerts:nrqlConditionsSearch:nrqlConditions\",\n",
    "    action=\"actor\",\n",
    ")\n",
    "len(conditions_list)"
   ]
  },
  {
   "cell_type": "code",
   "execution_count": null,
   "id": "9f38a0b3-56f9-47f3-9d73-6f28e2a59c19",
   "metadata": {
    "tags": []
   },
   "outputs": [],
   "source": [
    "conditions_list[0]"
   ]
  },
  {
   "cell_type": "code",
   "execution_count": null,
   "id": "7598599a-fff9-402d-ba5c-b5f55c6d44df",
   "metadata": {
    "tags": []
   },
   "outputs": [],
   "source": [
    "next_cursor = get_response_data(\n",
    "    response,\n",
    "    key_path=\"account:alerts:nrqlConditionsSearch:nextCursor\",\n",
    "    action=\"actor\",\n",
    ")\n",
    "next_cursor"
   ]
  },
  {
   "cell_type": "markdown",
   "id": "b2044531-f773-48aa-bc46-29ef8800464b",
   "metadata": {},
   "source": [
    "### Get conditions from a policy"
   ]
  },
  {
   "cell_type": "code",
   "execution_count": null,
   "id": "199b28b4-88a9-4085-a7e2-de9278be745f",
   "metadata": {
    "tags": []
   },
   "outputs": [],
   "source": [
    "condition_id = conditions_list[0][\"id\"]"
   ]
  },
  {
   "cell_type": "code",
   "execution_count": null,
   "id": "2cba12fd-1da1-4873-94ac-c8c1eebeaf7e",
   "metadata": {
    "tags": []
   },
   "outputs": [],
   "source": [
    "query_string = \"\"\"\n",
    "{\n",
    "    actor {\n",
    "        account(id: %(account_id)d) {\n",
    "            alerts {\n",
    "                nrqlCondition(id: %(condition_id)s) {\n",
    "                    description\n",
    "                    enabled\n",
    "                    id\n",
    "                    name\n",
    "                    nrql {\n",
    "                        query\n",
    "                    }\n",
    "                    policyId\n",
    "                    runbookUrl\n",
    "                    type\n",
    "                    terms {\n",
    "                        operator\n",
    "                        priority\n",
    "                        threshold\n",
    "                        thresholdDuration\n",
    "                        thresholdOccurrences\n",
    "                    }\n",
    "                }\n",
    "            }\n",
    "        }\n",
    "    }\n",
    "}\n",
    "\n",
    "\"\"\"\n",
    "\n",
    "query_params = {\n",
    "    \"account_id\": int(NEW_RELIC_ACCOUNT_ID),\n",
    "    \"condition_id\": condition_id,\n",
    "}\n",
    "\n",
    "query = build_query(\n",
    "    query_string=query_string,\n",
    "    query_params=query_params,\n",
    ")"
   ]
  },
  {
   "cell_type": "code",
   "execution_count": null,
   "id": "b11aff47-ba5d-4de3-99c1-26e3c684b83a",
   "metadata": {
    "tags": []
   },
   "outputs": [],
   "source": [
    "response = newrelic.execute(query)"
   ]
  },
  {
   "cell_type": "code",
   "execution_count": null,
   "id": "e538efa9-db4d-4793-bc20-5dfa6ea007b6",
   "metadata": {
    "tags": []
   },
   "outputs": [],
   "source": [
    "condition = get_response_data(\n",
    "    response,\n",
    "    key_path=\"account:alerts:nrqlCondition\",\n",
    "    action=\"actor\",\n",
    ")\n",
    "condition"
   ]
  },
  {
   "cell_type": "code",
   "execution_count": null,
   "id": "2797f148-d2a8-4f72-bf47-b9fc7010a861",
   "metadata": {
    "tags": []
   },
   "outputs": [],
   "source": [
    "condition[\"policyId\"]"
   ]
  },
  {
   "cell_type": "code",
   "execution_count": null,
   "id": "6836015e-9123-4ec5-918e-deb1606e44b1",
   "metadata": {
    "tags": []
   },
   "outputs": [],
   "source": [
    "condition[\"nrql\"][\"query\"]"
   ]
  },
  {
   "cell_type": "markdown",
   "id": "90ed3f20-e8e5-4761-987d-323b90a817f0",
   "metadata": {},
   "source": [
    "### Create a policy"
   ]
  },
  {
   "cell_type": "code",
   "execution_count": null,
   "id": "eeb0efe5-3722-4039-b68a-ec4afc8cf7a1",
   "metadata": {
    "tags": []
   },
   "outputs": [],
   "source": [
    "query_string = \"\"\"\n",
    "mutation {\n",
    "    alertsPolicyCreate(\n",
    "        accountId: %(account_id)d,\n",
    "        policy: {\n",
    "            incidentPreference: PER_POLICY,\n",
    "            name: \"Sample API Policy\"\n",
    "        }\n",
    "    ) {\n",
    "        accountId\n",
    "        incidentPreference\n",
    "        name\n",
    "        id\n",
    "    }\n",
    "}\n",
    "\"\"\"\n",
    "\n",
    "query_params = {\n",
    "    \"account_id\": int(NEW_RELIC_ACCOUNT_ID),\n",
    "}\n",
    "\n",
    "query = build_query(\n",
    "    query_string=query_string,\n",
    "    query_params=query_params,\n",
    ")"
   ]
  },
  {
   "cell_type": "code",
   "execution_count": null,
   "id": "dbdd786e-2ebd-4c54-95d7-408643633af6",
   "metadata": {
    "tags": []
   },
   "outputs": [],
   "source": [
    "response = newrelic.execute(query)"
   ]
  },
  {
   "cell_type": "code",
   "execution_count": null,
   "id": "04643a57-0c20-4318-b29b-1045701d3660",
   "metadata": {
    "tags": []
   },
   "outputs": [],
   "source": [
    "created_policy = get_response_data(\n",
    "    response,\n",
    "    action=\"alertsPolicyCreate\",\n",
    ")\n",
    "created_policy"
   ]
  },
  {
   "cell_type": "markdown",
   "id": "6f30d7db-0d22-4cbe-99ab-51161d9edcb0",
   "metadata": {},
   "source": [
    "### Append nrql condition to policy"
   ]
  },
  {
   "cell_type": "code",
   "execution_count": null,
   "id": "2cb1db00-8bf6-4b9e-ae54-a947c235437a",
   "metadata": {
    "tags": []
   },
   "outputs": [],
   "source": [
    "policy_id = created_policy[\"id\"]"
   ]
  },
  {
   "cell_type": "code",
   "execution_count": null,
   "id": "848dfe0e-5a1e-4f12-80f4-8c4269f2cf2d",
   "metadata": {
    "tags": []
   },
   "outputs": [],
   "source": [
    "query_string = \"\"\"\n",
    "mutation {\n",
    "    alertsNrqlConditionStaticCreate(\n",
    "        accountId: %(account_id)d,\n",
    "        policyId: %(policy_id)s,\n",
    "        condition: {\n",
    "            enabled: false,\n",
    "            name: \"Sample NRQL condition from API\",\n",
    "            nrql: {\n",
    "                query: \"SELECT average(duration) FROM Transaction\"\n",
    "            },\n",
    "            terms: [\n",
    "                {\n",
    "                    operator: ABOVE,\n",
    "                    priority: CRITICAL,\n",
    "                    threshold: 10,\n",
    "                    thresholdDuration: 300,\n",
    "                    thresholdOccurrences: ALL\n",
    "                }\n",
    "            ]\n",
    "        }\n",
    "    ) {\n",
    "        name\n",
    "        policyId\n",
    "        nrql {\n",
    "            query\n",
    "        }\n",
    "        terms {\n",
    "            operator\n",
    "            threshold\n",
    "            thresholdDuration\n",
    "            thresholdOccurrences\n",
    "            priority\n",
    "        }\n",
    "        id\n",
    "    }\n",
    "}\n",
    "\"\"\"\n",
    "\n",
    "query_params = {\n",
    "    \"account_id\": int(NEW_RELIC_ACCOUNT_ID),\n",
    "    \"policy_id\": policy_id,\n",
    "}\n",
    "\n",
    "query = build_query(\n",
    "    query_string=query_string,\n",
    "    query_params=query_params,\n",
    ")"
   ]
  },
  {
   "cell_type": "code",
   "execution_count": null,
   "id": "8b1ab267-16a9-4fcd-b5ab-bca0335669b6",
   "metadata": {
    "tags": []
   },
   "outputs": [],
   "source": [
    "response = newrelic.execute(query)"
   ]
  },
  {
   "cell_type": "code",
   "execution_count": null,
   "id": "207f692c-86cd-4b9e-bee5-5bfc7af743d4",
   "metadata": {
    "tags": []
   },
   "outputs": [],
   "source": [
    "created_policy = get_response_data(\n",
    "    response,\n",
    "    action=\"alertsNrqlConditionStaticCreate\",\n",
    ")\n",
    "created_policy"
   ]
  }
 ],
 "metadata": {
  "kernelspec": {
   "display_name": "Python 3 (ipykernel)",
   "language": "python",
   "name": "python3"
  },
  "language_info": {
   "codemirror_mode": {
    "name": "ipython",
    "version": 3
   },
   "file_extension": ".py",
   "mimetype": "text/x-python",
   "name": "python",
   "nbconvert_exporter": "python",
   "pygments_lexer": "ipython3",
   "version": "3.9.16"
  },
  "toc-autonumbering": false
 },
 "nbformat": 4,
 "nbformat_minor": 5
}
