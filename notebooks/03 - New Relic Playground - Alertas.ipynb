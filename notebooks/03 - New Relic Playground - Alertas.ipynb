{
 "cells": [
  {
   "cell_type": "markdown",
   "id": "72976aa8",
   "metadata": {},
   "source": [
    "<div style=\"display:flex;\">\n",
    "<img alt=\"New Relic\" style=\"display:block;height:64px\" src=\"https://raw.githubusercontent.com/dynovaio/open-source-office/refs/heads/master/assets/brands/new_relic.png\" />\n",
    "<img alt=\"SoftButterfly\" style=\"display:block;height:64px;margin-left:auto\" src=\"https://raw.githubusercontent.com/dynovaio/open-source-office/refs/heads/master/assets/dynova/dynova-logo-195x64.png\" />\n",
    "</div>"
   ]
  },
  {
   "attachments": {},
   "cell_type": "markdown",
   "id": "36ac928a-44c8-4a04-9756-a425de9468c6",
   "metadata": {},
   "source": [
    "# New Relic Playground 3: Alerts"
   ]
  },
  {
   "attachments": {},
   "cell_type": "markdown",
   "id": "ce2f61f9-d626-4d66-b582-62fdf11c67b8",
   "metadata": {},
   "source": [
    "## Imports"
   ]
  },
  {
   "attachments": {},
   "cell_type": "markdown",
   "id": "c4e584a4-f352-4ae2-9c9a-9791e350607c",
   "metadata": {},
   "source": [
    "Python Imports"
   ]
  },
  {
   "cell_type": "code",
   "execution_count": null,
   "id": "57b6abeb-2aa0-4aad-87ed-ad54b255f9e8",
   "metadata": {
    "tags": []
   },
   "outputs": [],
   "source": [
    "import os"
   ]
  },
  {
   "attachments": {},
   "cell_type": "markdown",
   "id": "669bfe88-2f5b-48f9-afc7-7b943ed0fea3",
   "metadata": {},
   "source": [
    "Third-party libraries"
   ]
  },
  {
   "cell_type": "code",
   "execution_count": null,
   "id": "7ed4737d-29c4-499a-84b2-1e7bfbc87119",
   "metadata": {
    "tags": []
   },
   "outputs": [],
   "source": [
    "import dotenv\n",
    "from newrelic_sb_sdk.client import NewRelicGqlClient\n",
    "from newrelic_sb_sdk.graphql import nerdgraph\n",
    "from newrelic_sb_sdk.graphql.enums import (\n",
    "    AlertsIncidentPreference,\n",
    "    AlertsNrqlConditionPriority,\n",
    "    AlertsNrqlConditionTermsOperator,\n",
    "    AlertsNrqlConditionThresholdOccurrences,\n",
    ")\n",
    "from newrelic_sb_sdk.graphql.input_objects import (\n",
    "    AlertsNrqlConditionQueryInput,\n",
    "    AlertsNrqlConditionStaticInput,\n",
    "    AlertsNrqlConditionTermsInput,\n",
    "    AlertsPolicyInput,\n",
    ")\n",
    "from newrelic_sb_sdk.graphql.objects import RootMutationType, RootQueryType\n",
    "from newrelic_sb_sdk.utils.query import NULL_CURSOR\n",
    "from newrelic_sb_sdk.utils.response import get_response_data, print_response\n",
    "from sgqlc.operation import Operation"
   ]
  },
  {
   "cell_type": "code",
   "execution_count": null,
   "id": "7653aba7-f039-41ec-8321-b703d9a78695",
   "metadata": {},
   "outputs": [],
   "source": [
    "AlertsNrqlConditionStaticInput"
   ]
  },
  {
   "cell_type": "code",
   "execution_count": null,
   "id": "763b177b-eee3-4e35-b924-b315f13cf241",
   "metadata": {},
   "outputs": [],
   "source": [
    "AlertsNrqlConditionTermsInput"
   ]
  },
  {
   "attachments": {},
   "cell_type": "markdown",
   "id": "5e8a61ab-e6b5-41fe-9feb-2955e873eb29",
   "metadata": {
    "tags": []
   },
   "source": [
    "## Client setup"
   ]
  },
  {
   "attachments": {},
   "cell_type": "markdown",
   "id": "0db7b23e-72ca-44ca-b85c-e9e3f4187fc3",
   "metadata": {},
   "source": [
    "To setup the client, first we need to open load the credentials from environment variables."
   ]
  },
  {
   "cell_type": "code",
   "execution_count": null,
   "id": "deeeb60a-fbc4-4ab5-9d71-2d52ffc0ee62",
   "metadata": {
    "tags": []
   },
   "outputs": [],
   "source": [
    "env_file = \"../.env\"\n",
    "\n",
    "dotenv.load_dotenv(env_file)\n",
    "\n",
    "NEW_RELIC_USER_KEY = os.environ.get(\"NEW_RELIC_USER_KEY\", None)\n",
    "\n",
    "if NEW_RELIC_USER_KEY is None:\n",
    "    raise ValueError(\"Environment variable NEW_RELIC_USER_KEY is not set.\")\n",
    "\n",
    "NEW_RELIC_ACCOUNT_ID = os.environ.get(\"NEW_RELIC_ACCOUNT_ID\", None)\n",
    "\n",
    "if NEW_RELIC_ACCOUNT_ID is None:\n",
    "    raise ValueError(\"Environment variable NEW_RELIC_ACCOUNT_ID is not set.\")"
   ]
  },
  {
   "attachments": {},
   "cell_type": "markdown",
   "id": "4737f83d-4a20-4650-9051-d93cc694b093",
   "metadata": {},
   "source": [
    "With environment varaibles loaded, we can proceed to instantiate the client"
   ]
  },
  {
   "cell_type": "code",
   "execution_count": null,
   "id": "4d9a1ca1-65d4-42c6-9d85-dfbb94b4320c",
   "metadata": {
    "tags": []
   },
   "outputs": [],
   "source": [
    "newrelic = NewRelicGqlClient(new_relic_user_key=NEW_RELIC_USER_KEY)"
   ]
  },
  {
   "attachments": {},
   "cell_type": "markdown",
   "id": "2030751a-3dbd-40fd-9ba5-8ce75465bfe8",
   "metadata": {
    "tags": []
   },
   "source": [
    "## Client testing"
   ]
  },
  {
   "attachments": {},
   "cell_type": "markdown",
   "id": "4b688c09-e5f8-4ef3-ac99-3ad8607f1236",
   "metadata": {},
   "source": [
    "In order to use an test the client we need configure `query_type` and `mutation_type` for the `nerdgraph` schema"
   ]
  },
  {
   "cell_type": "code",
   "execution_count": null,
   "id": "10b551ae-428d-4206-aa53-507a1c122a53",
   "metadata": {},
   "outputs": [],
   "source": [
    "nerdgraph.query_type = RootQueryType\n",
    "nerdgraph.mutation_type = RootMutationType"
   ]
  },
  {
   "attachments": {},
   "cell_type": "markdown",
   "id": "153261ac-4718-4185-a09d-01dcb44f522c",
   "metadata": {},
   "source": [
    "For testing we will use a simple query in GraphQL to get the atttributes from our user\n",
    "\n",
    "```gql\n",
    "query {\n",
    "  actor {\n",
    "    user {\n",
    "      email\n",
    "      id\n",
    "      name\n",
    "    }\n",
    "  }\n",
    "}\n",
    "```\n",
    "\n",
    "This query will be build from the `nerdgraph` schema."
   ]
  },
  {
   "cell_type": "code",
   "execution_count": null,
   "id": "91607863-c449-4ae2-9ef0-63b1966e4002",
   "metadata": {},
   "outputs": [],
   "source": [
    "# Declare an operation from the `query_type` in `nerdgraph`\n",
    "operation = Operation(nerdgraph.query_type)\n",
    "\n",
    "# Get the fields `id`, `email`, `name` from the `user` entity inside `actor`\n",
    "operation.actor.user.__fields__(\"id\", \"email\", \"name\")"
   ]
  },
  {
   "attachments": {},
   "cell_type": "markdown",
   "id": "5e259167-ccfc-4814-aba0-7fb8cc4b48cc",
   "metadata": {},
   "source": [
    "This operation can be transformed into a GraphQL query"
   ]
  },
  {
   "cell_type": "code",
   "execution_count": null,
   "id": "d51fa759-8136-4897-b7ee-dbb1f914e186",
   "metadata": {},
   "outputs": [],
   "source": [
    "query = operation.__to_graphql__()\n",
    "print(query)"
   ]
  },
  {
   "attachments": {},
   "cell_type": "markdown",
   "id": "f73057d3-b09f-41f7-9031-a755dfcc0514",
   "metadata": {},
   "source": [
    "And this query is the one we send to be executed by our client."
   ]
  },
  {
   "cell_type": "code",
   "execution_count": null,
   "id": "ee014948-ab41-4938-9409-092573269dc6",
   "metadata": {
    "tags": []
   },
   "outputs": [],
   "source": [
    "response = newrelic.execute(query)"
   ]
  },
  {
   "attachments": {},
   "cell_type": "markdown",
   "id": "7e41fbaa-f9eb-4b4d-aa50-a17f8fd632aa",
   "metadata": {},
   "source": [
    "The response data obtained is"
   ]
  },
  {
   "cell_type": "code",
   "execution_count": null,
   "id": "8cc904e8-da1c-47de-87b8-77a7908eb47e",
   "metadata": {
    "tags": []
   },
   "outputs": [],
   "source": [
    "print_response(response)"
   ]
  },
  {
   "attachments": {},
   "cell_type": "markdown",
   "id": "153d9136-e17b-4886-8f09-08aaffcf9a88",
   "metadata": {},
   "source": [
    "We can also use the raw query directly written by hand. For this is recomendable to use the `build_query` method in order to get a clean query."
   ]
  },
  {
   "cell_type": "code",
   "execution_count": null,
   "id": "47d71b1c-d0bc-438d-8472-43b8f18faa56",
   "metadata": {
    "tags": []
   },
   "outputs": [],
   "source": [
    "query = newrelic.build_query(\n",
    "    \"\"\"\n",
    "        {\n",
    "            actor {\n",
    "                user {\n",
    "                    email\n",
    "                    name\n",
    "                    id\n",
    "                }\n",
    "            }\n",
    "        }\n",
    "    \"\"\"\n",
    ")"
   ]
  },
  {
   "attachments": {},
   "cell_type": "markdown",
   "id": "1769ac4e-f3d4-48c6-a1a3-bfc8ba9940d9",
   "metadata": {},
   "source": [
    "And execute directly, as in the previous execution, with the same result"
   ]
  },
  {
   "cell_type": "code",
   "execution_count": null,
   "id": "c1ba8bc0-7ddd-4063-9406-77523ae59308",
   "metadata": {
    "tags": []
   },
   "outputs": [],
   "source": [
    "response = newrelic.execute(query)\n",
    "print_response(response)"
   ]
  },
  {
   "attachments": {},
   "cell_type": "markdown",
   "id": "80d8317b-aaf7-4e4f-974d-46e39bf82407",
   "metadata": {},
   "source": [
    "## Playground area"
   ]
  },
  {
   "cell_type": "markdown",
   "id": "f223b240-83aa-48f7-ba1f-e66ad399010d",
   "metadata": {},
   "source": [
    "### Alerts management tasks with Nerdgraph"
   ]
  },
  {
   "attachments": {},
   "cell_type": "markdown",
   "id": "838c9d87-03e7-4d45-8412-49ea69f7a644",
   "metadata": {},
   "source": [
    "#### Example 01: List all available policies"
   ]
  },
  {
   "cell_type": "markdown",
   "id": "38bbc3c6-e6e8-43e8-a9cb-0b12bf87f94b",
   "metadata": {},
   "source": [
    "Using a raw NRQL query we can list all available dashboards with this"
   ]
  },
  {
   "cell_type": "code",
   "execution_count": null,
   "id": "001862bf-7adf-4531-9d1b-7477e7974405",
   "metadata": {
    "tags": []
   },
   "outputs": [],
   "source": [
    "template = \"\"\"\n",
    "{\n",
    "    actor {\n",
    "        account(id: %(account_id)d) {\n",
    "            alerts {\n",
    "                policiesSearch(cursor: %(cursor)s) {\n",
    "                    policies {\n",
    "                        id\n",
    "                        incidentPreference\n",
    "                        name\n",
    "                    }\n",
    "                    totalCount\n",
    "                    nextCursor\n",
    "                }\n",
    "            }\n",
    "        }\n",
    "    }\n",
    "}\n",
    "\"\"\"\n",
    "\n",
    "params = {\n",
    "    \"account_id\": int(NEW_RELIC_ACCOUNT_ID),\n",
    "    \"cursor\": NULL_CURSOR,\n",
    "}\n",
    "\n",
    "query = newrelic.build_query(\n",
    "    template,\n",
    "    params=params,\n",
    ")"
   ]
  },
  {
   "cell_type": "code",
   "execution_count": null,
   "id": "dbc4f4e2-4841-48e9-8358-821bbb9cad32",
   "metadata": {
    "tags": []
   },
   "outputs": [],
   "source": [
    "response = newrelic.execute(query)"
   ]
  },
  {
   "cell_type": "code",
   "execution_count": null,
   "id": "140e8745-8b26-49a1-951b-2e8895b52b1b",
   "metadata": {
    "tags": []
   },
   "outputs": [],
   "source": [
    "policies_count = get_response_data(\n",
    "    response, key_path=\"account:alerts:policiesSearch:totalCount\", action=\"actor\"\n",
    ")\n",
    "policies_count"
   ]
  },
  {
   "cell_type": "code",
   "execution_count": null,
   "id": "23e47914-f720-41d9-af23-b15861d22821",
   "metadata": {
    "tags": []
   },
   "outputs": [],
   "source": [
    "policies_list = get_response_data(\n",
    "    response, key_path=\"account:alerts:policiesSearch:policies\", action=\"actor\"\n",
    ")\n",
    "len(policies_list)"
   ]
  },
  {
   "cell_type": "code",
   "execution_count": null,
   "id": "3f7f8c67-5686-4511-9287-93980f3309a6",
   "metadata": {
    "tags": []
   },
   "outputs": [],
   "source": [
    "policies_list[0]"
   ]
  },
  {
   "cell_type": "code",
   "execution_count": null,
   "id": "a73c67ad-b7c8-46b6-b79a-d559af34f5aa",
   "metadata": {
    "tags": []
   },
   "outputs": [],
   "source": [
    "next_cursor = get_response_data(\n",
    "    response, key_path=\"account:alerts:policiesSearch:nextCursor\", action=\"actor\"\n",
    ")\n",
    "next_cursor"
   ]
  },
  {
   "cell_type": "markdown",
   "id": "d83742dc-0a9f-4c0a-9ea3-60ce856844c1",
   "metadata": {},
   "source": [
    "We can also use the Operation and nerdgraph object in the following way"
   ]
  },
  {
   "cell_type": "code",
   "execution_count": null,
   "id": "a02edf39-c196-4ff8-ba7a-9952dc56a9ff",
   "metadata": {},
   "outputs": [],
   "source": [
    "# Declare an operation from the `query_type` in `nerdgraph`\n",
    "operation = Operation(nerdgraph.query_type)\n",
    "alert_search_op = operation.actor.account(id=int(NEW_RELIC_ACCOUNT_ID))\n",
    "\n",
    "alert_search_results_op = alert_search_op.alerts().policies_search(cursor=None)\n",
    "alert_search_results_op.policies().__fields__(\"id\", \"incident_preference\", \"name\")\n",
    "alert_search_results_op.total_count()\n",
    "alert_search_results_op.next_cursor()\n",
    "\n",
    "operation"
   ]
  },
  {
   "cell_type": "code",
   "execution_count": null,
   "id": "6a767f97-5f9b-46fe-9476-f1d9f17bfbbb",
   "metadata": {},
   "outputs": [],
   "source": [
    "response = newrelic.execute(operation.__to_graphql__())"
   ]
  },
  {
   "cell_type": "code",
   "execution_count": null,
   "id": "17069dbc-c95f-42cd-bafb-df1a4cc7fdb3",
   "metadata": {},
   "outputs": [],
   "source": [
    "data = operation + response.json()"
   ]
  },
  {
   "cell_type": "code",
   "execution_count": null,
   "id": "ffa97b0a-ce21-4d82-8c76-bcb9900a1207",
   "metadata": {},
   "outputs": [],
   "source": [
    "data.actor.account.alerts.policies_search.total_count"
   ]
  },
  {
   "cell_type": "code",
   "execution_count": null,
   "id": "0b845b3d-ebda-4140-806b-e8fe6d2ad936",
   "metadata": {},
   "outputs": [],
   "source": [
    "len(data.actor.account.alerts.policies_search.policies)"
   ]
  },
  {
   "cell_type": "code",
   "execution_count": null,
   "id": "b345bb9c-41bc-4cb6-b9d3-98e450d745e0",
   "metadata": {},
   "outputs": [],
   "source": [
    "data.actor.account.alerts.policies_search.policies[0]"
   ]
  },
  {
   "cell_type": "code",
   "execution_count": null,
   "id": "61242b68-5712-46aa-b31a-4b4e11530a12",
   "metadata": {},
   "outputs": [],
   "source": [
    "data.actor.account.alerts.policies_search.next_cursor"
   ]
  },
  {
   "attachments": {},
   "cell_type": "markdown",
   "id": "96654a3b-4d98-43b6-b669-fa4a4db85a17",
   "metadata": {},
   "source": [
    "#### Example 02: Get a single policy"
   ]
  },
  {
   "cell_type": "markdown",
   "id": "d8f0d481-71e5-4287-a389-3410590ac924",
   "metadata": {},
   "source": [
    "For getting a single policy is required know the identification this"
   ]
  },
  {
   "cell_type": "code",
   "execution_count": null,
   "id": "8eb6c19d-239f-4379-a942-61bd07058c7a",
   "metadata": {
    "tags": []
   },
   "outputs": [],
   "source": [
    "# Getting guid the result using a raw NRQL query\n",
    "policy_id = policies_list[0][\"id\"]"
   ]
  },
  {
   "cell_type": "code",
   "execution_count": null,
   "id": "64ce9577-350b-4561-a808-d92cf0f0b3b1",
   "metadata": {},
   "outputs": [],
   "source": [
    "# Getting guid the result using Operation and nerdgraph\n",
    "policy_id = data.actor.account.alerts.policies_search.policies[0][\"id\"]"
   ]
  },
  {
   "cell_type": "code",
   "execution_count": null,
   "id": "ca78adb1-6881-485c-92bf-377c0d1a622d",
   "metadata": {},
   "outputs": [],
   "source": [
    "policy_id"
   ]
  },
  {
   "cell_type": "markdown",
   "id": "4781b258-c05a-4d56-8513-c780bd4037c4",
   "metadata": {},
   "source": [
    "Using a raw NRQL query we can getting a single policy with this"
   ]
  },
  {
   "cell_type": "code",
   "execution_count": null,
   "id": "7c863dfd-d650-405a-82de-ffa3c15b5f88",
   "metadata": {
    "tags": []
   },
   "outputs": [],
   "source": [
    "template = \"\"\"\n",
    "{\n",
    "    actor {\n",
    "        account(id: %(account_id)d) {\n",
    "            alerts {\n",
    "                policy(id: %(policy_id)s) {\n",
    "                    id\n",
    "                    incidentPreference\n",
    "                    name\n",
    "                }\n",
    "            }\n",
    "        }\n",
    "    }\n",
    "}\n",
    "\"\"\"\n",
    "\n",
    "params = {\n",
    "    \"account_id\": int(NEW_RELIC_ACCOUNT_ID),\n",
    "    \"policy_id\": policy_id,\n",
    "}\n",
    "\n",
    "query = newrelic.build_query(\n",
    "    template,\n",
    "    params=params,\n",
    ")"
   ]
  },
  {
   "cell_type": "code",
   "execution_count": null,
   "id": "1ae41cc3-66b6-4dc6-9fcc-26e9d146b023",
   "metadata": {
    "tags": []
   },
   "outputs": [],
   "source": [
    "response = newrelic.execute(query)"
   ]
  },
  {
   "cell_type": "code",
   "execution_count": null,
   "id": "35716159-69c7-4ff4-955c-63dbe5fe02f1",
   "metadata": {
    "tags": []
   },
   "outputs": [],
   "source": [
    "policy = get_response_data(response, key_path=\"account:alerts:policy\", action=\"actor\")\n",
    "policy"
   ]
  },
  {
   "cell_type": "markdown",
   "id": "2e985cb9-9ba7-4ef9-9672-cb284f4d11ff",
   "metadata": {},
   "source": [
    "We can also use the Operation and nerdgraph object in the following way"
   ]
  },
  {
   "cell_type": "code",
   "execution_count": null,
   "id": "166f799a-a549-421b-ac9a-0cff6990258f",
   "metadata": {},
   "outputs": [],
   "source": [
    "# Declare an operation from the `query_type` in `nerdgraph`\n",
    "operation = Operation(nerdgraph.query_type)\n",
    "(\n",
    "    operation.actor.account(id=int(NEW_RELIC_ACCOUNT_ID))\n",
    "    .alerts()\n",
    "    .policy(id=policy_id)\n",
    "    .__fields__(\"id\", \"incident_preference\", \"name\")\n",
    ")\n",
    "operation"
   ]
  },
  {
   "cell_type": "code",
   "execution_count": null,
   "id": "30d20a70-e43a-4e2a-b881-338f60a4d038",
   "metadata": {},
   "outputs": [],
   "source": [
    "response = newrelic.execute(operation.__to_graphql__())"
   ]
  },
  {
   "cell_type": "code",
   "execution_count": null,
   "id": "da0efea4-ac52-4a48-8228-2dae078c5dbb",
   "metadata": {},
   "outputs": [],
   "source": [
    "data = operation + response.json()"
   ]
  },
  {
   "cell_type": "code",
   "execution_count": null,
   "id": "82de8772-dda8-4cb2-98b9-dcf6f10a5f5b",
   "metadata": {},
   "outputs": [],
   "source": [
    "data.actor.account.alerts.policy"
   ]
  },
  {
   "attachments": {},
   "cell_type": "markdown",
   "id": "0b5be956-5df4-47a4-a70d-233f97138562",
   "metadata": {},
   "source": [
    "#### Example 03: Get all NRQL conditions"
   ]
  },
  {
   "cell_type": "markdown",
   "id": "352c222c-933a-4cbd-ad77-a9e444d149fc",
   "metadata": {},
   "source": [
    "Using a raw NRQL query we can list all NRQL conditions with this"
   ]
  },
  {
   "cell_type": "code",
   "execution_count": null,
   "id": "b336841c-8066-4ef0-8489-af49fe7c4db3",
   "metadata": {
    "tags": []
   },
   "outputs": [],
   "source": [
    "# Getting guid the result using a raw NRQL query\n",
    "policy_id = policies_list[4][\"id\"]"
   ]
  },
  {
   "cell_type": "code",
   "execution_count": null,
   "id": "501c544f-fd43-49fc-8f3c-4553d4fa4f12",
   "metadata": {},
   "outputs": [],
   "source": [
    "# Getting guid the result using Operation and nerdgraph\n",
    "policy_id = data.actor.account.alerts.policies_search.policies[4][\"id\"]"
   ]
  },
  {
   "cell_type": "markdown",
   "id": "abd4e2d5-d75a-4e4c-8020-5972b37d7aad",
   "metadata": {},
   "source": [
    "Using a raw NRQL query we can get all NRQL conditions with this"
   ]
  },
  {
   "cell_type": "code",
   "execution_count": null,
   "id": "e8e75004-bd94-4033-a728-7a0d6f594804",
   "metadata": {
    "tags": []
   },
   "outputs": [],
   "source": [
    "template = \"\"\"\n",
    "{\n",
    "    actor {\n",
    "        account(id: %(account_id)d) {\n",
    "            alerts {\n",
    "                nrqlConditionsSearch {\n",
    "                    nextCursor\n",
    "                    totalCount\n",
    "                    nrqlConditions {\n",
    "                        id\n",
    "                        name\n",
    "                        nrql {\n",
    "                            query\n",
    "                        }\n",
    "                        policyId\n",
    "                    }\n",
    "                }\n",
    "            }\n",
    "        }\n",
    "    }\n",
    "}\n",
    "\"\"\"\n",
    "\n",
    "params = {\n",
    "    \"account_id\": int(NEW_RELIC_ACCOUNT_ID),\n",
    "}\n",
    "\n",
    "query = newrelic.build_query(\n",
    "    template,\n",
    "    params=params,\n",
    ")"
   ]
  },
  {
   "cell_type": "code",
   "execution_count": null,
   "id": "7c426a7e-1eb9-42fb-942d-830832a2ddf8",
   "metadata": {
    "tags": []
   },
   "outputs": [],
   "source": [
    "response = newrelic.execute(query)"
   ]
  },
  {
   "cell_type": "code",
   "execution_count": null,
   "id": "3061e3cf-4b12-4e63-b1b6-22ee01b7cd9f",
   "metadata": {
    "tags": []
   },
   "outputs": [],
   "source": [
    "conditions_count = get_response_data(\n",
    "    response,\n",
    "    key_path=\"account:alerts:nrqlConditionsSearch:totalCount\",\n",
    "    action=\"actor\",\n",
    ")\n",
    "conditions_count"
   ]
  },
  {
   "cell_type": "code",
   "execution_count": null,
   "id": "8907e87d-2a5c-4038-8a18-445e4de4e5e6",
   "metadata": {
    "tags": []
   },
   "outputs": [],
   "source": [
    "conditions_list = get_response_data(\n",
    "    response,\n",
    "    key_path=\"account:alerts:nrqlConditionsSearch:nrqlConditions\",\n",
    "    action=\"actor\",\n",
    ")\n",
    "len(conditions_list)"
   ]
  },
  {
   "cell_type": "code",
   "execution_count": null,
   "id": "9f38a0b3-56f9-47f3-9d73-6f28e2a59c19",
   "metadata": {
    "tags": []
   },
   "outputs": [],
   "source": [
    "conditions_list[0]"
   ]
  },
  {
   "cell_type": "code",
   "execution_count": null,
   "id": "7598599a-fff9-402d-ba5c-b5f55c6d44df",
   "metadata": {
    "tags": []
   },
   "outputs": [],
   "source": [
    "next_cursor = get_response_data(\n",
    "    response,\n",
    "    key_path=\"account:alerts:nrqlConditionsSearch:nextCursor\",\n",
    "    action=\"actor\",\n",
    ")\n",
    "next_cursor"
   ]
  },
  {
   "cell_type": "markdown",
   "id": "b9dc7bc1-43c1-4a9b-bc82-0026fb493140",
   "metadata": {},
   "source": [
    "We can also use the Operation and nerdgraph object in the following way"
   ]
  },
  {
   "cell_type": "code",
   "execution_count": null,
   "id": "c1544d31-3174-4b3f-943c-892b4d09ce46",
   "metadata": {},
   "outputs": [],
   "source": [
    "# Declare an operation from the `query_type` in `nerdgraph`\n",
    "operation = Operation(nerdgraph.query_type)\n",
    "alerts_conditions_search_op = (\n",
    "    operation.actor.account(id=int(NEW_RELIC_ACCOUNT_ID))\n",
    "    .alerts()\n",
    "    .nrql_conditions_search()\n",
    ")\n",
    "\n",
    "alerts_conditions_search_op.__fields__(\"next_cursor\", \"total_count\")\n",
    "\n",
    "alerts_conditions_search_op.nrql_conditions().__fields__(\n",
    "    \"id\", \"name\", \"nrql\", \"policy_id\"\n",
    ")\n",
    "\n",
    "operation"
   ]
  },
  {
   "cell_type": "code",
   "execution_count": null,
   "id": "51ab79f7-6977-44a6-bc1a-6c449c808c09",
   "metadata": {},
   "outputs": [],
   "source": [
    "response = newrelic.execute(operation.__to_graphql__())"
   ]
  },
  {
   "cell_type": "code",
   "execution_count": null,
   "id": "25a44be5-cd89-4cc4-9e98-47b0ffe49f04",
   "metadata": {},
   "outputs": [],
   "source": [
    "data = operation + response.json()"
   ]
  },
  {
   "cell_type": "code",
   "execution_count": null,
   "id": "69da894d-bd5f-425c-a8e6-d27766673fba",
   "metadata": {},
   "outputs": [],
   "source": [
    "data.actor.account.alerts.nrql_conditions_search.total_count"
   ]
  },
  {
   "cell_type": "code",
   "execution_count": null,
   "id": "4492894b-28e7-4035-8c9b-f8856cf7c90e",
   "metadata": {},
   "outputs": [],
   "source": [
    "len(data.actor.account.alerts.nrql_conditions_search.nrql_conditions)"
   ]
  },
  {
   "cell_type": "code",
   "execution_count": null,
   "id": "c0ec117e-12cf-44d6-8751-b98f6c2c1272",
   "metadata": {},
   "outputs": [],
   "source": [
    "data.actor.account.alerts.nrql_conditions_search.nrql_conditions[0]"
   ]
  },
  {
   "cell_type": "code",
   "execution_count": null,
   "id": "34dc16cb-8878-4a8b-b348-790089aba918",
   "metadata": {},
   "outputs": [],
   "source": [
    "data.actor.account.alerts.nrql_conditions_search.next_cursor"
   ]
  },
  {
   "attachments": {},
   "cell_type": "markdown",
   "id": "b2044531-f773-48aa-bc46-29ef8800464b",
   "metadata": {},
   "source": [
    "#### Example 04: Get conditions from a policy"
   ]
  },
  {
   "cell_type": "markdown",
   "id": "27429922-5e2c-4d69-a714-cd1109ed4887",
   "metadata": {},
   "source": [
    "For geeting a conditions from a policy is required know the identification this"
   ]
  },
  {
   "cell_type": "code",
   "execution_count": null,
   "id": "199b28b4-88a9-4085-a7e2-de9278be745f",
   "metadata": {
    "tags": []
   },
   "outputs": [],
   "source": [
    "# Getting guid the result using a raw NRQL query\n",
    "condition_id = conditions_list[0][\"id\"]"
   ]
  },
  {
   "cell_type": "code",
   "execution_count": null,
   "id": "1a4614e7-ba60-42eb-ac72-4bb0a935ec3b",
   "metadata": {},
   "outputs": [],
   "source": [
    "# Getting guid the result using Operation and nerdgraph\n",
    "condition_id = data.actor.account.alerts.nrql_conditions_search.nrql_conditions[0][\"id\"]"
   ]
  },
  {
   "cell_type": "code",
   "execution_count": null,
   "id": "05e9b213-901d-481c-8322-96d4de462e4d",
   "metadata": {},
   "outputs": [],
   "source": [
    "condition_id"
   ]
  },
  {
   "cell_type": "markdown",
   "id": "755244b2-b83a-4179-ba25-5d8cc604f9a8",
   "metadata": {},
   "source": [
    "Using a raw NRQL query we can Get conditions from a policy with this"
   ]
  },
  {
   "cell_type": "code",
   "execution_count": null,
   "id": "2cba12fd-1da1-4873-94ac-c8c1eebeaf7e",
   "metadata": {
    "tags": []
   },
   "outputs": [],
   "source": [
    "template = \"\"\"\n",
    "{\n",
    "    actor {\n",
    "        account(id: %(account_id)d) {\n",
    "            alerts {\n",
    "                nrqlCondition(id: %(condition_id)s) {\n",
    "                    description\n",
    "                    enabled\n",
    "                    id\n",
    "                    name\n",
    "                    nrql {\n",
    "                        query\n",
    "                    }\n",
    "                    policyId\n",
    "                    runbookUrl\n",
    "                    type\n",
    "                    terms {\n",
    "                        operator\n",
    "                        priority\n",
    "                        threshold\n",
    "                        thresholdDuration\n",
    "                        thresholdOccurrences\n",
    "                    }\n",
    "                }\n",
    "            }\n",
    "        }\n",
    "    }\n",
    "}\n",
    "\n",
    "\"\"\"\n",
    "\n",
    "params = {\n",
    "    \"account_id\": int(NEW_RELIC_ACCOUNT_ID),\n",
    "    \"condition_id\": condition_id,\n",
    "}\n",
    "\n",
    "query = newrelic.build_query(\n",
    "    template,\n",
    "    params=params,\n",
    ")"
   ]
  },
  {
   "cell_type": "code",
   "execution_count": null,
   "id": "b11aff47-ba5d-4de3-99c1-26e3c684b83a",
   "metadata": {
    "tags": []
   },
   "outputs": [],
   "source": [
    "response = newrelic.execute(query)"
   ]
  },
  {
   "cell_type": "code",
   "execution_count": null,
   "id": "e538efa9-db4d-4793-bc20-5dfa6ea007b6",
   "metadata": {
    "tags": []
   },
   "outputs": [],
   "source": [
    "condition = get_response_data(\n",
    "    response,\n",
    "    key_path=\"account:alerts:nrqlCondition\",\n",
    "    action=\"actor\",\n",
    ")\n",
    "condition"
   ]
  },
  {
   "cell_type": "code",
   "execution_count": null,
   "id": "2797f148-d2a8-4f72-bf47-b9fc7010a861",
   "metadata": {
    "tags": []
   },
   "outputs": [],
   "source": [
    "condition[\"policyId\"]"
   ]
  },
  {
   "cell_type": "code",
   "execution_count": null,
   "id": "6836015e-9123-4ec5-918e-deb1606e44b1",
   "metadata": {
    "tags": []
   },
   "outputs": [],
   "source": [
    "condition[\"nrql\"][\"query\"]"
   ]
  },
  {
   "cell_type": "markdown",
   "id": "74cb6ae2-7426-44b8-ad7b-63f8b242ed99",
   "metadata": {},
   "source": [
    "We can also use the Operation and nerdgraph object in the following way"
   ]
  },
  {
   "cell_type": "code",
   "execution_count": null,
   "id": "227a2a2a-a398-4afa-8580-d5fc83d7d7a9",
   "metadata": {},
   "outputs": [],
   "source": [
    "# Declare an operation from the `query_type` in `nerdgraph`\n",
    "operation = Operation(nerdgraph.query_type)\n",
    "\n",
    "(\n",
    "    operation.actor.account(id=int(NEW_RELIC_ACCOUNT_ID))\n",
    "    .alerts()\n",
    "    .nrql_condition(id=condition_id)\n",
    "    .__fields__(\n",
    "        \"description\",\n",
    "        \"enabled\",\n",
    "        \"id\",\n",
    "        \"name\",\n",
    "        \"nrql\",\n",
    "        \"policy_id\",\n",
    "        \"runbook_url\",\n",
    "        \"type\",\n",
    "        \"terms\",\n",
    "    )\n",
    ")\n",
    "\n",
    "operation"
   ]
  },
  {
   "cell_type": "code",
   "execution_count": null,
   "id": "c609c749-132e-4a82-9dfa-faa0c727a962",
   "metadata": {},
   "outputs": [],
   "source": [
    "response = newrelic.execute(operation.__to_graphql__())"
   ]
  },
  {
   "cell_type": "code",
   "execution_count": null,
   "id": "ce854bc1-aa7f-4443-a232-36e301f5ced3",
   "metadata": {},
   "outputs": [],
   "source": [
    "data = operation + response.json()"
   ]
  },
  {
   "cell_type": "code",
   "execution_count": null,
   "id": "710c3d43-d699-45fc-82d2-e740b17a067f",
   "metadata": {},
   "outputs": [],
   "source": [
    "condition_op = data.actor.account.alerts.nrql_condition\n",
    "condition_op"
   ]
  },
  {
   "cell_type": "code",
   "execution_count": null,
   "id": "cfd6b60b-bf71-4c8f-85f3-5b5c7621071c",
   "metadata": {},
   "outputs": [],
   "source": [
    "condition_op[\"policy_id\"]"
   ]
  },
  {
   "cell_type": "code",
   "execution_count": null,
   "id": "c8012f21-f10a-4f39-bc84-712e5246f8a6",
   "metadata": {},
   "outputs": [],
   "source": [
    "condition_op[\"nrql\"][\"query\"]"
   ]
  },
  {
   "attachments": {},
   "cell_type": "markdown",
   "id": "90ed3f20-e8e5-4761-987d-323b90a817f0",
   "metadata": {},
   "source": [
    "#### Example 05: Create a policy"
   ]
  },
  {
   "cell_type": "markdown",
   "id": "f3f55228-1d8a-47bb-8fce-0f5f3e6a906f",
   "metadata": {},
   "source": [
    "Using a raw NRQL query we can create a policy with this"
   ]
  },
  {
   "cell_type": "code",
   "execution_count": null,
   "id": "eeb0efe5-3722-4039-b68a-ec4afc8cf7a1",
   "metadata": {
    "tags": []
   },
   "outputs": [],
   "source": [
    "template = \"\"\"\n",
    "mutation {\n",
    "    alertsPolicyCreate(\n",
    "        accountId: %(account_id)d,\n",
    "        policy: {\n",
    "            incidentPreference: PER_POLICY,\n",
    "            name: \"Sample API Policy\"\n",
    "        }\n",
    "    ) {\n",
    "        accountId\n",
    "        incidentPreference\n",
    "        name\n",
    "        id\n",
    "    }\n",
    "}\n",
    "\"\"\"\n",
    "\n",
    "params = {\n",
    "    \"account_id\": int(NEW_RELIC_ACCOUNT_ID),\n",
    "}\n",
    "\n",
    "query = newrelic.build_query(\n",
    "    template,\n",
    "    params=params,\n",
    ")"
   ]
  },
  {
   "cell_type": "code",
   "execution_count": null,
   "id": "dbdd786e-2ebd-4c54-95d7-408643633af6",
   "metadata": {
    "tags": []
   },
   "outputs": [],
   "source": [
    "response = newrelic.execute(query)"
   ]
  },
  {
   "cell_type": "code",
   "execution_count": null,
   "id": "04643a57-0c20-4318-b29b-1045701d3660",
   "metadata": {
    "tags": []
   },
   "outputs": [],
   "source": [
    "created_policy = get_response_data(\n",
    "    response,\n",
    "    action=\"alertsPolicyCreate\",\n",
    ")\n",
    "created_policy"
   ]
  },
  {
   "cell_type": "markdown",
   "id": "65d1ec9b-89ff-4c76-bbee-f8fb25cc47da",
   "metadata": {},
   "source": [
    "We can also use the Operation and nerdgraph object in the following way"
   ]
  },
  {
   "cell_type": "code",
   "execution_count": null,
   "id": "36bbe9ee-9dee-4375-b5c8-65b5c07b41a2",
   "metadata": {},
   "outputs": [],
   "source": [
    "# Declare an operation from the `mutation_type` in `nerdgraph`\n",
    "operation = Operation(nerdgraph.mutation_type)\n",
    "policy_mutate_op = operation.alerts_policy_create(\n",
    "    account_id=int(NEW_RELIC_ACCOUNT_ID),\n",
    "    policy=AlertsPolicyInput(\n",
    "        incident_preference=AlertsIncidentPreference.PER_POLICY,\n",
    "        name=\"Sample API Policy Operation\",\n",
    "    ),\n",
    ").__fields__(\n",
    "    \"account_id\",\n",
    "    \"incident_preference\",\n",
    "    \"name\",\n",
    "    \"id\",\n",
    ")\n",
    "operation"
   ]
  },
  {
   "cell_type": "code",
   "execution_count": null,
   "id": "232163e1-ce9a-4dde-a033-8902f414885d",
   "metadata": {},
   "outputs": [],
   "source": [
    "response = newrelic.execute(operation.__to_graphql__())"
   ]
  },
  {
   "cell_type": "code",
   "execution_count": null,
   "id": "76ae1487-cbf1-420b-94e5-19601ba60688",
   "metadata": {},
   "outputs": [],
   "source": [
    "data = operation + response.json()"
   ]
  },
  {
   "cell_type": "code",
   "execution_count": null,
   "id": "1ff9e1dd-18ad-49ca-a7f7-92b92f1fdf42",
   "metadata": {},
   "outputs": [],
   "source": [
    "data"
   ]
  },
  {
   "attachments": {},
   "cell_type": "markdown",
   "id": "6f30d7db-0d22-4cbe-99ab-51161d9edcb0",
   "metadata": {},
   "source": [
    "#### Example 06: Append nrql condition to policy"
   ]
  },
  {
   "cell_type": "markdown",
   "id": "9d6a03b9-d38a-4be3-9bcd-162cd611c498",
   "metadata": {},
   "source": [
    "For Append nrql condition to policy is required know the identification this"
   ]
  },
  {
   "cell_type": "code",
   "execution_count": null,
   "id": "2cb1db00-8bf6-4b9e-ae54-a947c235437a",
   "metadata": {
    "tags": []
   },
   "outputs": [],
   "source": [
    "# Getting policy_id the result using a raw NRQL query\n",
    "policy_id_raw = created_policy[\"id\"]"
   ]
  },
  {
   "cell_type": "code",
   "execution_count": null,
   "id": "79588ddb-4d02-4332-92cc-d77972f6b6aa",
   "metadata": {},
   "outputs": [],
   "source": [
    "# Getting policy_id the result using Operation and nerdgraph\n",
    "policy_id_op = data.alerts_policy_create[\"id\"]"
   ]
  },
  {
   "cell_type": "markdown",
   "id": "308b1bd6-1c08-41ca-9725-9fb175de9c08",
   "metadata": {},
   "source": [
    "Using a raw NRQL query we can append nrql condition to policy with this"
   ]
  },
  {
   "cell_type": "code",
   "execution_count": null,
   "id": "848dfe0e-5a1e-4f12-80f4-8c4269f2cf2d",
   "metadata": {
    "tags": []
   },
   "outputs": [],
   "source": [
    "template = \"\"\"\n",
    "mutation {\n",
    "    alertsNrqlConditionStaticCreate(\n",
    "        accountId: %(account_id)d,\n",
    "        policyId: %(policy_id)s,\n",
    "        condition: {\n",
    "            enabled: false,\n",
    "            name: \"Sample NRQL condition from API\",\n",
    "            nrql: {\n",
    "                query: \"SELECT average(duration) FROM Transaction\"\n",
    "            },\n",
    "            terms: [\n",
    "                {\n",
    "                    operator: ABOVE,\n",
    "                    priority: CRITICAL,\n",
    "                    threshold: 10,\n",
    "                    thresholdDuration: 300,\n",
    "                    thresholdOccurrences: ALL\n",
    "                }\n",
    "            ]\n",
    "        }\n",
    "    ) {\n",
    "        name\n",
    "        policyId\n",
    "        nrql {\n",
    "            query\n",
    "        }\n",
    "        terms {\n",
    "            operator\n",
    "            threshold\n",
    "            thresholdDuration\n",
    "            thresholdOccurrences\n",
    "            priority\n",
    "        }\n",
    "        id\n",
    "    }\n",
    "}\n",
    "\"\"\"\n",
    "\n",
    "params = {\n",
    "    \"account_id\": int(NEW_RELIC_ACCOUNT_ID),\n",
    "    \"policy_id\": policy_id_raw,\n",
    "}\n",
    "\n",
    "query = newrelic.build_query(\n",
    "    template,\n",
    "    params=params,\n",
    ")"
   ]
  },
  {
   "cell_type": "code",
   "execution_count": null,
   "id": "8b1ab267-16a9-4fcd-b5ab-bca0335669b6",
   "metadata": {
    "tags": []
   },
   "outputs": [],
   "source": [
    "response = newrelic.execute(query)"
   ]
  },
  {
   "cell_type": "code",
   "execution_count": null,
   "id": "207f692c-86cd-4b9e-bee5-5bfc7af743d4",
   "metadata": {
    "tags": []
   },
   "outputs": [],
   "source": [
    "created_policy = get_response_data(\n",
    "    response,\n",
    "    action=\"alertsNrqlConditionStaticCreate\",\n",
    ")\n",
    "created_policy"
   ]
  },
  {
   "cell_type": "markdown",
   "id": "2b236112-3f42-44e7-90d4-e92b91d655c1",
   "metadata": {},
   "source": [
    "We can also use the Operation and nerdgraph object in the following way"
   ]
  },
  {
   "cell_type": "code",
   "execution_count": null,
   "id": "09306891-a2f4-4fc6-b818-87d95f5aaa1a",
   "metadata": {},
   "outputs": [],
   "source": [
    "# Declare an operation from the `mutation_type` in `nerdgraph`\n",
    "operation = Operation(nerdgraph.mutation_type)\n",
    "nrql_create_mutate_op = operation.alerts_nrql_condition_static_create(\n",
    "    account_id=NEW_RELIC_ACCOUNT_ID,\n",
    "    policy_id=policy_id_op,\n",
    "    condition=AlertsNrqlConditionStaticInput(\n",
    "        enabled=False,\n",
    "        name=\"Sample NRQL condition from API With Operation\",\n",
    "        nrql=AlertsNrqlConditionQueryInput(\n",
    "            query=\"SELECT average(duration) FROM Transaction\"\n",
    "        ),\n",
    "        terms=[\n",
    "            AlertsNrqlConditionTermsInput(\n",
    "                operator=AlertsNrqlConditionTermsOperator.ABOVE,\n",
    "                priority=AlertsNrqlConditionPriority.CRITICAL,\n",
    "                threshold=10,\n",
    "                threshold_duration=300,\n",
    "                threshold_occurrences=AlertsNrqlConditionThresholdOccurrences.ALL,\n",
    "            )\n",
    "        ],\n",
    "    ),\n",
    ")\n",
    "(\n",
    "    nrql_create_mutate_op.__fields__(\n",
    "        \"name\",\n",
    "        \"policy_id\",\n",
    "        \"nrql\",\n",
    "    )\n",
    ")\n",
    "(\n",
    "    nrql_create_mutate_op.terms().__fields__(\n",
    "        \"operator\",\n",
    "        \"threshold\",\n",
    "        \"threshold_duration\",\n",
    "        \"threshold_occurrences\",\n",
    "        \"priority\",\n",
    "    )\n",
    ")\n",
    "nrql_create_mutate_op.id()\n",
    "\n",
    "operation"
   ]
  },
  {
   "cell_type": "code",
   "execution_count": null,
   "id": "4faa12ef-7e1a-4525-81f4-a617ff02d8ed",
   "metadata": {},
   "outputs": [],
   "source": [
    "response = newrelic.execute(operation.__to_graphql__())"
   ]
  },
  {
   "cell_type": "code",
   "execution_count": null,
   "id": "f5d68d3e-354a-4d50-a2fb-5d74133e2fd5",
   "metadata": {},
   "outputs": [],
   "source": [
    "response.json()"
   ]
  }
 ],
 "metadata": {
  "kernelspec": {
   "display_name": "Python 3 (ipykernel)",
   "language": "python",
   "name": "python3"
  },
  "language_info": {
   "codemirror_mode": {
    "name": "ipython",
    "version": 3
   },
   "file_extension": ".py",
   "mimetype": "text/x-python",
   "name": "python",
   "nbconvert_exporter": "python",
   "pygments_lexer": "ipython3",
   "version": "3.9.16"
  },
  "toc-autonumbering": false
 },
 "nbformat": 4,
 "nbformat_minor": 5
}
