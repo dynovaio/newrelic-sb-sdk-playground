{
 "cells": [
  {
   "attachments": {},
   "cell_type": "markdown",
   "id": "807d6ace-1686-40d1-bb29-fc782e496106",
   "metadata": {
    "tags": [
     "remove-cell"
    ]
   },
   "source": [
    "<div style=\"display:flex;\">\n",
    "<img alt=\"New Relic\" style=\"display:block;height:64px\" src=\"https://raw.githubusercontent.com/dynovaio/open-source-office/refs/heads/master/assets/brands/new_relic.png\" />\n",
    "<img alt=\"SoftButterfly\" style=\"display:block;height:64px;margin-left:auto\" src=\"https://raw.githubusercontent.com/dynovaio/open-source-office/refs/heads/master/assets/dynova/dynova-logo-195x64.png\" />\n",
    "</div>"
   ]
  },
  {
   "attachments": {},
   "cell_type": "markdown",
   "id": "614fa965-b8b7-4e38-92f0-0927ecb53bb0",
   "metadata": {},
   "source": [
    "# Playground 1: NRQL Queries"
   ]
  },
  {
   "attachments": {},
   "cell_type": "markdown",
   "id": "33c8ad3e-1f13-4aa6-9b8d-e24ebf100e09",
   "metadata": {},
   "source": [
    "## Imports"
   ]
  },
  {
   "attachments": {},
   "cell_type": "markdown",
   "id": "5621a06f-4a7d-47c0-bbab-2a2889b8e4d5",
   "metadata": {},
   "source": [
    "Python Imports"
   ]
  },
  {
   "cell_type": "code",
   "execution_count": null,
   "id": "18a35a7a-406b-4727-bc31-bc45d46f4dfb",
   "metadata": {
    "tags": []
   },
   "outputs": [],
   "source": [
    "import os"
   ]
  },
  {
   "attachments": {},
   "cell_type": "markdown",
   "id": "c6cd0397-3793-41b8-976c-e967025ac741",
   "metadata": {},
   "source": [
    "Third-party libraries"
   ]
  },
  {
   "cell_type": "code",
   "execution_count": null,
   "id": "aa727d86-43a0-48f4-8992-bd00a1c9d4fb",
   "metadata": {
    "tags": []
   },
   "outputs": [],
   "source": [
    "import dotenv\n",
    "import matplotlib.pyplot as plt\n",
    "import pandas as pd\n",
    "from newrelic_sb_sdk.client import NewRelicGqlClient\n",
    "from newrelic_sb_sdk.graphql import nerdgraph\n",
    "from newrelic_sb_sdk.graphql.objects import RootMutationType, RootQueryType\n",
    "from newrelic_sb_sdk.graphql.scalars import Int\n",
    "from newrelic_sb_sdk.utils.response import get_response_data, print_response\n",
    "from sgqlc.operation import Operation\n",
    "from sgqlc.types import Arg, Variable"
   ]
  },
  {
   "attachments": {},
   "cell_type": "markdown",
   "id": "beb1edbf-adaf-488c-bf5b-b84ce28ced41",
   "metadata": {
    "tags": []
   },
   "source": [
    "## Client setup"
   ]
  },
  {
   "attachments": {},
   "cell_type": "markdown",
   "id": "d4a8f754-2c5b-4f87-8a4a-5d2e2de92fd6",
   "metadata": {},
   "source": [
    "To setup the client, first we need to open load the credentials from environment variables."
   ]
  },
  {
   "cell_type": "code",
   "execution_count": null,
   "id": "b02b6aab-5188-42a0-818c-fd616094c844",
   "metadata": {
    "tags": []
   },
   "outputs": [],
   "source": [
    "env_file = \"../.env\"\n",
    "\n",
    "dotenv.load_dotenv(env_file)\n",
    "\n",
    "NEW_RELIC_USER_KEY = os.environ.get(\"NEW_RELIC_USER_KEY\", None)\n",
    "\n",
    "if NEW_RELIC_USER_KEY is None:\n",
    "    raise ValueError(\"Environment variable NEW_RELIC_USER_KEY is not set.\")\n",
    "\n",
    "NEW_RELIC_ACCOUNT_ID = os.environ.get(\"NEW_RELIC_ACCOUNT_ID\", None)\n",
    "\n",
    "if NEW_RELIC_ACCOUNT_ID is None:\n",
    "    raise ValueError(\"Environment variable NEW_RELIC_ACCOUNT_ID is not set.\")"
   ]
  },
  {
   "attachments": {},
   "cell_type": "markdown",
   "id": "15e4625c-efd2-46fa-8852-739a7dec4751",
   "metadata": {},
   "source": [
    "With environment varaibles loaded, we can proceed to instantiate the client"
   ]
  },
  {
   "cell_type": "code",
   "execution_count": null,
   "id": "492b6552-fa9f-46cc-9c4a-1819248237a0",
   "metadata": {
    "tags": []
   },
   "outputs": [],
   "source": [
    "newrelic = NewRelicGqlClient(new_relic_user_key=NEW_RELIC_USER_KEY)"
   ]
  },
  {
   "attachments": {},
   "cell_type": "markdown",
   "id": "b0a53921-8d96-4a2d-93a8-128a6c464686",
   "metadata": {
    "tags": []
   },
   "source": [
    "## Client testing"
   ]
  },
  {
   "attachments": {},
   "cell_type": "markdown",
   "id": "d74a200f-bd53-4624-918c-31fd3b1588ac",
   "metadata": {},
   "source": [
    "In order to use an test the client we need configure `query_type` and `mutation_type` for the `nerdgraph` schema"
   ]
  },
  {
   "cell_type": "code",
   "execution_count": null,
   "id": "cdad0f46-cbf0-46ef-8605-f169b7e654d9",
   "metadata": {},
   "outputs": [],
   "source": [
    "nerdgraph.query_type = RootQueryType\n",
    "nerdgraph.mutation_type = RootMutationType"
   ]
  },
  {
   "attachments": {},
   "cell_type": "markdown",
   "id": "95be7fc9-6519-4166-8aae-2d9ce598a602",
   "metadata": {},
   "source": [
    "For testing we will use a simple query in GraphQL to get the atttributes from our user\n",
    "\n",
    "```graphql\n",
    "query {\n",
    "  actor {\n",
    "    user {\n",
    "      email\n",
    "      id\n",
    "      name\n",
    "    }\n",
    "  }\n",
    "}\n",
    "```\n",
    "\n",
    "This query will be build from the `nerdgraph` schema."
   ]
  },
  {
   "cell_type": "code",
   "execution_count": null,
   "id": "c5f06e4f-9b15-4326-8c05-e218a7c9f106",
   "metadata": {},
   "outputs": [],
   "source": [
    "# Declare an operation from the `query_type` in `nerdgraph`\n",
    "operation = Operation(nerdgraph.query_type)\n",
    "\n",
    "# Get the fields `id`, `email`, `name` from the `user` entity inside `actor`\n",
    "operation.actor.user.__fields__(\"id\", \"email\", \"name\")"
   ]
  },
  {
   "attachments": {},
   "cell_type": "markdown",
   "id": "c6c5b7d1-707d-4f86-be35-58457a926955",
   "metadata": {},
   "source": [
    "This operation can be transformed into a GraphQL query"
   ]
  },
  {
   "cell_type": "code",
   "execution_count": null,
   "id": "da640225-8d11-4a5d-a4a2-872c135e9167",
   "metadata": {},
   "outputs": [],
   "source": [
    "query = operation.__to_graphql__()\n",
    "print(query)"
   ]
  },
  {
   "attachments": {},
   "cell_type": "markdown",
   "id": "47c2dda2-dc31-4e54-92ba-79562ae46c18",
   "metadata": {},
   "source": [
    "And this query is the one we send to be executed by our client."
   ]
  },
  {
   "cell_type": "code",
   "execution_count": null,
   "id": "dc782628-5196-4248-aa4d-aa0c6cad433c",
   "metadata": {
    "tags": []
   },
   "outputs": [],
   "source": [
    "response = newrelic.execute(query)"
   ]
  },
  {
   "attachments": {},
   "cell_type": "markdown",
   "id": "c3e3b29e-53e8-4718-9b58-ab192a3191e6",
   "metadata": {},
   "source": [
    "The response data obtained is"
   ]
  },
  {
   "cell_type": "code",
   "execution_count": null,
   "id": "7da0bfce-f28b-44b8-aeda-a27ac7ca1eea",
   "metadata": {
    "tags": []
   },
   "outputs": [],
   "source": [
    "print_response(response)"
   ]
  },
  {
   "attachments": {},
   "cell_type": "markdown",
   "id": "4636a477-4f5a-4ac0-864f-04891a4c5682",
   "metadata": {},
   "source": [
    "We can also use the raw query directly written by hand. For this is recomendable to use the `build_query` method in order to get a clean query."
   ]
  },
  {
   "cell_type": "code",
   "execution_count": null,
   "id": "35235588-e428-4c7a-acf1-09028fb700e7",
   "metadata": {
    "tags": []
   },
   "outputs": [],
   "source": [
    "query = newrelic.build_query(\n",
    "    \"\"\"\n",
    "        {\n",
    "            actor {\n",
    "                user {\n",
    "                    email\n",
    "                    name\n",
    "                    id\n",
    "                }\n",
    "            }\n",
    "        }\n",
    "    \"\"\"\n",
    ")"
   ]
  },
  {
   "attachments": {},
   "cell_type": "markdown",
   "id": "b49b3c4e-2153-47ec-baa6-61660a828536",
   "metadata": {},
   "source": [
    "And execute directly, as in the previous execution, with the same result"
   ]
  },
  {
   "cell_type": "code",
   "execution_count": null,
   "id": "9f52c281-9a06-4899-8219-3fbae1ec7634",
   "metadata": {
    "tags": []
   },
   "outputs": [],
   "source": [
    "response = newrelic.execute(query)\n",
    "print_response(response)"
   ]
  },
  {
   "attachments": {},
   "cell_type": "markdown",
   "id": "282f7dd0-f83d-4eb6-b889-0d38e7a3f747",
   "metadata": {
    "tags": []
   },
   "source": [
    "## Playground area"
   ]
  },
  {
   "attachments": {},
   "cell_type": "markdown",
   "id": "8fcd5130-81a6-42e7-afbb-bd3280e846ae",
   "metadata": {
    "tags": []
   },
   "source": [
    "### Doing NRQL with the API"
   ]
  },
  {
   "attachments": {},
   "cell_type": "markdown",
   "id": "2a13a5b8-daf1-4bfa-9420-5caa25c56f27",
   "metadata": {},
   "source": [
    "#### Example 1"
   ]
  },
  {
   "attachments": {},
   "cell_type": "markdown",
   "id": "77e0d98a-78ad-439b-9ab0-c968e22f5b2a",
   "metadata": {},
   "source": [
    "We can request New Relic data from the `Transaction` table calling the `nrql` action inside `actor`. For this we will use a generic NRQL query to use.\n",
    "\n",
    "```nrql\n",
    "FROM Transaction SELECT *\n",
    "```"
   ]
  },
  {
   "cell_type": "code",
   "execution_count": null,
   "id": "adcb85b2-e56d-4554-8171-1986d64da877",
   "metadata": {
    "tags": []
   },
   "outputs": [],
   "source": [
    "template = \"\"\"\n",
    "    {\n",
    "        actor {\n",
    "            nrql(\n",
    "                query: \"SELECT * FROM Transaction\",\n",
    "                accounts: %(account_id)d,\n",
    "            ) {\n",
    "                nrql\n",
    "                results\n",
    "            }\n",
    "        }\n",
    "    }\n",
    "\"\"\"\n",
    "\n",
    "params = {\n",
    "    \"account_id\": int(NEW_RELIC_ACCOUNT_ID),\n",
    "}\n",
    "\n",
    "query = newrelic.build_query(\n",
    "    template,\n",
    "    params=params,\n",
    ")"
   ]
  },
  {
   "cell_type": "code",
   "execution_count": null,
   "id": "9f7c8694-79b1-41f8-b66d-70ee7775ef74",
   "metadata": {
    "tags": []
   },
   "outputs": [],
   "source": [
    "response = newrelic.execute(query)"
   ]
  },
  {
   "cell_type": "code",
   "execution_count": null,
   "id": "9bb908ba-13a6-4c26-b3c7-c6ac425c6a6d",
   "metadata": {
    "tags": []
   },
   "outputs": [],
   "source": [
    "results = get_response_data(\n",
    "    response,\n",
    "    key_path=\"nrql:results\",\n",
    "    action=\"actor\",\n",
    ")"
   ]
  },
  {
   "cell_type": "code",
   "execution_count": null,
   "id": "4ba25773-6e2b-4054-a274-ed9e90b8955d",
   "metadata": {
    "tags": []
   },
   "outputs": [],
   "source": [
    "results_df = pd.DataFrame(\n",
    "    data=results,\n",
    ")"
   ]
  },
  {
   "cell_type": "code",
   "execution_count": null,
   "id": "376f3d72-fd9f-4a9f-9706-b21a81f6a911",
   "metadata": {
    "tags": []
   },
   "outputs": [],
   "source": [
    "results_df"
   ]
  },
  {
   "attachments": {},
   "cell_type": "markdown",
   "id": "8c0f851f-d93d-402b-9c78-aaefc3fda456",
   "metadata": {},
   "source": [
    "#### Example 2"
   ]
  },
  {
   "attachments": {},
   "cell_type": "markdown",
   "id": "bea549c2-248d-4be2-ac34-1d10cd5fa548",
   "metadata": {},
   "source": [
    "Now we goint to show a more elaborated example using query variables as usual in NRQL. For this example the NRQL query is\n",
    "\n",
    "```nrql\n",
    "FROM Transaction SELECT average(duration) FACET appName SINCE 1 hour ago TIMESERIES 1 minute\n",
    "```"
   ]
  },
  {
   "cell_type": "code",
   "execution_count": null,
   "id": "9b79769b-69b7-4870-85e3-79828f2446a4",
   "metadata": {
    "tags": []
   },
   "outputs": [],
   "source": [
    "template = \"\"\"\n",
    "    query ($accountId: Int!) {\n",
    "        actor {\n",
    "            nrql(\n",
    "                query: \"FROM Transaction SELECT average(duration) FACET appName SINCE 1 hour ago TIMESERIES 1 minute\",\n",
    "                accounts: $accountId,\n",
    "            ) {\n",
    "                nrql\n",
    "                results\n",
    "            }\n",
    "        }\n",
    "    }\n",
    "\"\"\"\n",
    "\n",
    "query = newrelic.build_query(template)\n",
    "variables = {\n",
    "    \"accountId\": int(NEW_RELIC_ACCOUNT_ID),\n",
    "}"
   ]
  },
  {
   "cell_type": "code",
   "execution_count": null,
   "id": "2b37bfbb-d3e5-4880-bbda-5731d9246e86",
   "metadata": {
    "tags": []
   },
   "outputs": [],
   "source": [
    "response = newrelic.execute(query, variables=variables)"
   ]
  },
  {
   "cell_type": "code",
   "execution_count": null,
   "id": "6cc9ec4b-ea12-4373-a86e-875fccd154d6",
   "metadata": {
    "tags": []
   },
   "outputs": [],
   "source": [
    "results = get_response_data(\n",
    "    response,\n",
    "    key_path=\"nrql:results\",\n",
    "    action=\"actor\",\n",
    ")"
   ]
  },
  {
   "cell_type": "code",
   "execution_count": null,
   "id": "7e0a12c0-23af-4da9-8762-f64d0fb742a1",
   "metadata": {
    "tags": []
   },
   "outputs": [],
   "source": [
    "results_df = pd.DataFrame(\n",
    "    data=results,\n",
    ")"
   ]
  },
  {
   "cell_type": "code",
   "execution_count": null,
   "id": "40c03f43-5a94-4477-a98d-d08bea561705",
   "metadata": {
    "tags": []
   },
   "outputs": [],
   "source": [
    "results_df"
   ]
  },
  {
   "cell_type": "code",
   "execution_count": null,
   "id": "a828fe69-6bf5-46de-99de-7d8cf2c26430",
   "metadata": {
    "tags": []
   },
   "outputs": [],
   "source": [
    "app_names = results_df[\"appName\"].unique()"
   ]
  },
  {
   "cell_type": "code",
   "execution_count": null,
   "id": "67028da3-6a82-48fd-a752-383166e73c19",
   "metadata": {
    "tags": []
   },
   "outputs": [],
   "source": [
    "app_names"
   ]
  },
  {
   "cell_type": "code",
   "execution_count": null,
   "id": "b5f6c882-6fbe-4666-afc1-20fabef24b62",
   "metadata": {
    "tags": []
   },
   "outputs": [],
   "source": [
    "plt.clf()\n",
    "\n",
    "fig = plt.figure(0, figsize=(10, 5))\n",
    "axs = fig.add_subplot(1, 1, 1)\n",
    "\n",
    "for app_name in app_names:\n",
    "    data = results_df.query(\"appName == @app_name\")\n",
    "    data = data[[\"beginTimeSeconds\", \"average.duration\"]]\n",
    "    data[\"beginTimeSeconds\"] = pd.to_datetime(\n",
    "        data[\"beginTimeSeconds\"],\n",
    "        unit=\"s\",\n",
    "    )\n",
    "\n",
    "    axs.plot(\n",
    "        data[\"beginTimeSeconds\"],\n",
    "        data[\"average.duration\"],\n",
    "        label=app_name,\n",
    "        marker=\".\",\n",
    "    )\n",
    "\n",
    "fig.legend(\n",
    "    frameon=False,\n",
    "    loc=\"lower center\",\n",
    "    ncols=3,\n",
    "    bbox_to_anchor=(0.5, -0.1),\n",
    ")\n",
    "\n",
    "fig.tight_layout()\n",
    "\n",
    "plt.show()"
   ]
  },
  {
   "attachments": {},
   "cell_type": "markdown",
   "id": "40befb0b-1cf7-4719-b6f6-b717b2943c8d",
   "metadata": {},
   "source": [
    "#### Example 3"
   ]
  },
  {
   "attachments": {},
   "cell_type": "markdown",
   "id": "3436e619-4b97-436e-94ee-1deb1db3d12a",
   "metadata": {},
   "source": [
    "In this example we will repeat the Example 3 using the `nerdgraph` schema as we did in the cluent tests."
   ]
  },
  {
   "cell_type": "code",
   "execution_count": null,
   "id": "6b847060-c5e8-4538-851e-3317aa73c878",
   "metadata": {},
   "outputs": [],
   "source": [
    "# Declare an operation from the `query_type` in `nerdgraph`\n",
    "operation = Operation(\n",
    "    nerdgraph.query_type,\n",
    "    variables={\n",
    "        \"accountId\": Arg(Int),  # this must match the my_query arg type!\n",
    "    },\n",
    ")\n",
    "\n",
    "# Get the fields `id`, `email`, `name` from the `user` entity inside `actor`\n",
    "operation.actor.nrql(\n",
    "    query=\"FROM Transaction SELECT average(duration) FACET appName SINCE 1 hour ago TIMESERIES 1 minute\",\n",
    "    accounts=[\n",
    "        Variable(\"accountId\"),\n",
    "    ],\n",
    ").__fields__(\n",
    "    \"nrql\",\n",
    "    \"results\",\n",
    ")"
   ]
  },
  {
   "cell_type": "code",
   "execution_count": null,
   "id": "974fbeb8-3659-459f-862e-0398339b3b33",
   "metadata": {},
   "outputs": [],
   "source": [
    "query = operation.__to_graphql__()\n",
    "variables = {\n",
    "    \"accountId\": int(NEW_RELIC_ACCOUNT_ID),\n",
    "}"
   ]
  },
  {
   "cell_type": "code",
   "execution_count": null,
   "id": "ceb30cbf-19cb-4933-ba10-dac608c47096",
   "metadata": {
    "tags": []
   },
   "outputs": [],
   "source": [
    "response = newrelic.execute(query, variables=variables)"
   ]
  },
  {
   "cell_type": "code",
   "execution_count": null,
   "id": "0fddc5af-3a78-4129-98c9-d790f8992054",
   "metadata": {
    "tags": []
   },
   "outputs": [],
   "source": [
    "results = get_response_data(\n",
    "    response,\n",
    "    key_path=\"nrql:results\",\n",
    "    action=\"actor\",\n",
    ")"
   ]
  },
  {
   "cell_type": "code",
   "execution_count": null,
   "id": "48b567e7-d401-4aba-be93-1a116e4b1c5b",
   "metadata": {
    "tags": []
   },
   "outputs": [],
   "source": [
    "results_df = pd.DataFrame(\n",
    "    data=results,\n",
    ")"
   ]
  },
  {
   "cell_type": "code",
   "execution_count": null,
   "id": "38059887-7fc2-424d-964a-86fb3632b77c",
   "metadata": {
    "tags": []
   },
   "outputs": [],
   "source": [
    "results_df"
   ]
  },
  {
   "attachments": {},
   "cell_type": "markdown",
   "id": "6fe6a0e2-da1e-44e6-be5c-c7c35361699c",
   "metadata": {
    "tags": []
   },
   "source": [
    "### It's your turn!"
   ]
  },
  {
   "attachments": {},
   "cell_type": "markdown",
   "id": "2f487d32-36d1-4832-b0f9-8c1222df1c9a",
   "metadata": {},
   "source": [
    "From now on you can use the client defined in the previous section to make your queries to the New Relic GraphQL API"
   ]
  },
  {
   "cell_type": "code",
   "execution_count": null,
   "id": "be0052db-032a-48b4-8bc1-7996256957ed",
   "metadata": {
    "tags": []
   },
   "outputs": [],
   "source": [
    "# Put your code here :D"
   ]
  }
 ],
 "metadata": {
  "kernelspec": {
   "display_name": ".venv",
   "language": "python",
   "name": "python3"
  },
  "language_info": {
   "codemirror_mode": {
    "name": "ipython",
    "version": 3
   },
   "file_extension": ".py",
   "mimetype": "text/x-python",
   "name": "python",
   "nbconvert_exporter": "python",
   "pygments_lexer": "ipython3",
   "version": "3.9.16"
  },
  "toc-autonumbering": true,
  "toc-showcode": true,
  "toc-showmarkdowntxt": true
 },
 "nbformat": 4,
 "nbformat_minor": 5
}
